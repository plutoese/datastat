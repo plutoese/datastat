{
 "cells": [
  {
   "cell_type": "markdown",
   "metadata": {
    "Collapsed": "false"
   },
   "source": [
    "# Python快速指南"
   ]
  },
  {
   "cell_type": "markdown",
   "metadata": {
    "Collapsed": "false",
    "toc-hr-collapsed": true
   },
   "source": [
    "## 人生苦短，我用Python\n",
    "\n",
    "1989 年 12 月，荷兰计算机科学家 van Rossum 定下了一个圣诞节目标，创造出一种易于阅读和易于创建和分享模块的编程语言。他以英国喜剧团体 Monty Python 的名字将其命名为 Python 语言。\n",
    "\n",
    "<img src=\"./pic/start_with_python.jpg\" width = 60% height = 60% />"
   ]
  },
  {
   "cell_type": "markdown",
   "metadata": {
    "Collapsed": "false",
    "toc-hr-collapsed": true
   },
   "source": [
    "### 为什么使用Python"
   ]
  },
  {
   "cell_type": "markdown",
   "metadata": {
    "Collapsed": "false"
   },
   "source": [
    "#### 什么是Python\n",
    "\n",
    "- Python是一种**通用**的**高级编程语言**"
   ]
  },
  {
   "cell_type": "markdown",
   "metadata": {
    "Collapsed": "false"
   },
   "source": [
    "#### Python的优势\n",
    "\n",
    "- 简洁易学\n",
    "- 得到广泛的接受和支持\n",
    "- 仍在不断进步"
   ]
  },
  {
   "cell_type": "markdown",
   "metadata": {
    "Collapsed": "false",
    "toc-hr-collapsed": true
   },
   "source": [
    "## 安装Python\n",
    "\n",
    "Python版本并不兼容\n",
    "\n",
    "- Python 3.X\n",
    "- Python 2.X"
   ]
  },
  {
   "cell_type": "markdown",
   "metadata": {
    "Collapsed": "false"
   },
   "source": [
    "### Windows下安装Python\n",
    "\n",
    "在[Python官方网站](https://www.python.org/)下载到Python的Windows安装程序（exe文件）进行安装即可。"
   ]
  },
  {
   "cell_type": "markdown",
   "metadata": {
    "Collapsed": "false"
   },
   "source": [
    "### Python相关的IDE\n",
    "\n",
    "- Jupyter\n",
    "- JetBrains PyCharm\n",
    "- VS Code"
   ]
  },
  {
   "cell_type": "markdown",
   "metadata": {
    "Collapsed": "false"
   },
   "source": [
    "### Python安装配置Jupyter Notebook或Jupyter lab\n",
    "\n",
    "**安装Jupyter Notebook**\n",
    "\n",
    "通过如下命令安装\n",
    "\n",
    "```shell\n",
    "pip install jupyter\n",
    "```\n",
    "\n",
    "<br>\n",
    "\n",
    "**配置Jupyter notebook目录路径**\n",
    "\n",
    "通过如下命令生成配置文件，生成默认配置文件到C:\\Users\\Administrator\\.jupyter\\jupyter_notebook_config.py\n",
    "\n",
    "\n",
    "```shell\n",
    "jupyter notebook --generate-config\n",
    "```\n",
    "\n",
    "打开jupyter_notebook_config.py搜索c.NotebookApp.notebook_dir，修改路径为自己的目录\n",
    "\n",
    "```python\n",
    "c.NotebookApp.notebook_dir = 'C:/jupyter'\n",
    "```\n",
    "\n",
    "**启动Jupyter Notebook**\n",
    "\n",
    "使用如下命令启动Jupyter Notebook\n",
    "\n",
    "```shell\n",
    "jupyter notebook\n",
    "```\n",
    "\n",
    "**安装Jupyter lab**\n",
    "\n",
    "通过如下命令安装\n",
    "\n",
    "```shell\n",
    "pip install jupyterlab\n",
    "```"
   ]
  },
  {
   "cell_type": "markdown",
   "metadata": {
    "Collapsed": "false"
   },
   "source": [
    "## 第一个Python程序\"Hello World\""
   ]
  },
  {
   "cell_type": "code",
   "execution_count": null,
   "metadata": {
    "Collapsed": "false"
   },
   "outputs": [],
   "source": [
    "print(\"Hello People\")"
   ]
  },
  {
   "cell_type": "markdown",
   "metadata": {
    "Collapsed": "false",
    "toc-hr-collapsed": true
   },
   "source": [
    "## Python的帮助与文档"
   ]
  },
  {
   "cell_type": "markdown",
   "metadata": {
    "Collapsed": "false"
   },
   "source": [
    "### Python的帮助文档\n",
    "\n",
    "点击[此处](https://docs.python.org/3/)阅读。"
   ]
  },
  {
   "cell_type": "markdown",
   "metadata": {
    "Collapsed": "false"
   },
   "source": [
    "### Python的交互式帮助\n",
    "\n",
    "使用**help()**命令获得帮助。"
   ]
  },
  {
   "cell_type": "code",
   "execution_count": null,
   "metadata": {
    "Collapsed": "false"
   },
   "outputs": [],
   "source": [
    "help(\"int\")"
   ]
  },
  {
   "cell_type": "markdown",
   "metadata": {
    "Collapsed": "false",
    "toc-hr-collapsed": true
   },
   "source": [
    "## Python的基础知识"
   ]
  },
  {
   "cell_type": "markdown",
   "metadata": {
    "Collapsed": "false"
   },
   "source": [
    "### 缩进\n",
    "\n",
    "Python使用**空白符（whitespace）和缩进**来标识代码块。"
   ]
  },
  {
   "cell_type": "markdown",
   "metadata": {
    "Collapsed": "false"
   },
   "source": [
    "### 注释\n",
    "\n",
    "- Python程序中**符号#**之后的任何内容都是注释\n",
    "- 多行注释 - **三个引号开头，三个引号结尾**"
   ]
  },
  {
   "cell_type": "markdown",
   "metadata": {
    "Collapsed": "false"
   },
   "source": [
    "### 变量与赋值\n",
    "\n",
    "- Python使用**符号=**进行赋值"
   ]
  },
  {
   "cell_type": "code",
   "execution_count": null,
   "metadata": {
    "Collapsed": "false"
   },
   "outputs": [],
   "source": [
    "x = 3\n",
    "print(type(x))\n",
    "x = \"3\"\n",
    "print(type(x))\n",
    "print(x)"
   ]
  },
  {
   "cell_type": "markdown",
   "metadata": {
    "Collapsed": "false"
   },
   "source": [
    "- Python不需要事先声明变量类型\n",
    "- 变量在首次被赋值时会自动创建\n",
    "- 变量是容器还是标签？"
   ]
  },
  {
   "cell_type": "markdown",
   "metadata": {
    "Collapsed": "false",
    "toc-hr-collapsed": true
   },
   "source": [
    "## Python内置的数据类型"
   ]
  },
  {
   "cell_type": "markdown",
   "metadata": {
    "Collapsed": "false",
    "toc-hr-collapsed": true
   },
   "source": [
    "### 数值"
   ]
  },
  {
   "cell_type": "markdown",
   "metadata": {
    "Collapsed": "false"
   },
   "source": [
    "#### 数值类型\n",
    "\n",
    "Python有4中数值类型\n",
    "\n",
    "- 整数型（int） —— 1、-3\n",
    "- 浮点数性（float/double） —— 3.0, 2e10\n",
    "- 复数型（complex） —— 3 + 2j\n",
    "- 布尔型（bool） —— True, False"
   ]
  },
  {
   "cell_type": "markdown",
   "metadata": {
    "Collapsed": "false"
   },
   "source": [
    "#### 算术运算\n",
    "\n",
    "数值类型用算术操作费进行算术运算\n",
    "\n",
    "- 加法（+）\n",
    "- 减法（-）\n",
    "- 乘法（*）\n",
    "- 除法（/）\n",
    "- 求幂（**）\n",
    "- 求模（%）"
   ]
  },
  {
   "cell_type": "code",
   "execution_count": null,
   "metadata": {
    "Collapsed": "false"
   },
   "outputs": [],
   "source": [
    "x = (3 + 5) * 4 / 2\n",
    "print(x)\n",
    "print(x==16)"
   ]
  },
  {
   "cell_type": "markdown",
   "metadata": {
    "Collapsed": "false"
   },
   "source": [
    "### None\n",
    "\n",
    "Python定义了名为None的特殊数据对象，它用来表示空值。"
   ]
  },
  {
   "cell_type": "markdown",
   "metadata": {
    "Collapsed": "false",
    "toc-hr-collapsed": true
   },
   "source": [
    "### 列表\n",
    "\n",
    "Python的列表是对象的有序集合。"
   ]
  },
  {
   "cell_type": "markdown",
   "metadata": {
    "Collapsed": "false"
   },
   "source": [
    "#### 创建列表\n",
    "\n",
    "使用**方括号[]**创建列表。"
   ]
  },
  {
   "cell_type": "code",
   "execution_count": null,
   "metadata": {
    "Collapsed": "false"
   },
   "outputs": [],
   "source": [
    "x = [1, 2, 3]\n",
    "print(x)\n",
    "print(type(x))"
   ]
  },
  {
   "cell_type": "markdown",
   "metadata": {
    "Collapsed": "false"
   },
   "source": [
    "#### 列表的索引机制\n",
    "\n",
    "Python列表支持切片操作，使用**list[index]**进行提取或赋值。\n",
    "\n",
    "注：Python从0开始计算，并非1。"
   ]
  },
  {
   "cell_type": "code",
   "execution_count": null,
   "metadata": {
    "Collapsed": "false"
   },
   "outputs": [],
   "source": [
    "x = [1, 2, 3, 4]\n",
    "print(\"The list: \", x)\n",
    "\n",
    "x1 = x[0]\n",
    "print(\"The first element of the list: \", x1)\n",
    "\n",
    "x[1] = -1\n",
    "print(\"Now the list: \", x)\n",
    "\n",
    "x13 = x[0:3]\n",
    "print(\"The sublist: \", x13)"
   ]
  },
  {
   "cell_type": "markdown",
   "metadata": {
    "Collapsed": "false"
   },
   "source": [
    "#### 列表的常用操作\n",
    "\n",
    "- 查看列表的大小（元素个数） —— **len()**方法\n",
    "- 向列表添加单个元素 —— **append()**方法\n",
    "- 向列表追加列表 —— **extend()**方法\n",
    "- 在列表中插入新的元素 —— **insert()**方法\n",
    "- 删除列表数据或切片 —— **del()**方法\n",
    "- 判断某元素是否列表成员 —— **in**操作符"
   ]
  },
  {
   "cell_type": "code",
   "execution_count": null,
   "metadata": {
    "Collapsed": "false"
   },
   "outputs": [],
   "source": [
    "x = [1, 2, 3, 4]\n",
    "len(x)"
   ]
  },
  {
   "cell_type": "markdown",
   "metadata": {
    "Collapsed": "false",
    "toc-hr-collapsed": true
   },
   "source": [
    "### 元组\n",
    "\n",
    "元组类似于列表，它和列表之间的主要区别在于，元组是不可变的。"
   ]
  },
  {
   "cell_type": "markdown",
   "metadata": {
    "Collapsed": "false"
   },
   "source": [
    "#### 创建元组\n",
    "\n",
    "使用**圆括号()**创建元组。"
   ]
  },
  {
   "cell_type": "code",
   "execution_count": null,
   "metadata": {
    "Collapsed": "false"
   },
   "outputs": [],
   "source": [
    "x = (1, 2, 3)\n",
    "print(x)\n",
    "print(type(x))\n",
    "x[2] =1"
   ]
  },
  {
   "cell_type": "markdown",
   "metadata": {
    "Collapsed": "false"
   },
   "source": [
    "#### 元组的打包和拆包"
   ]
  },
  {
   "cell_type": "code",
   "execution_count": null,
   "metadata": {
    "Collapsed": "false"
   },
   "outputs": [],
   "source": [
    "one, two, three, four = (1, 2, 3, 4)\n",
    "print(one, two, three, four)\n",
    "\n",
    "x, y = 3, 4\n",
    "x, y = y, x\n",
    "print(x, y)\n",
    "\n",
    "one, *two_three, four = (1, 2, 3, 4)\n",
    "print(one, two_three, four)"
   ]
  },
  {
   "cell_type": "markdown",
   "metadata": {
    "Collapsed": "false",
    "toc-hr-collapsed": true
   },
   "source": [
    "### 字符串\n",
    "\n",
    "字符串是零个或多个字符组成的有限序列。在Python中，用**单引号**或**双引号**包围起来表示字符串。"
   ]
  },
  {
   "cell_type": "code",
   "execution_count": null,
   "metadata": {
    "Collapsed": "false"
   },
   "outputs": [],
   "source": [
    "s1 = \"Hello World\"\n",
    "s2 = 'Hello World'\n",
    "\n",
    "print(s1)\n",
    "print(s2)\n",
    "print(s1 == s2)"
   ]
  },
  {
   "cell_type": "markdown",
   "metadata": {
    "Collapsed": "false"
   },
   "source": [
    "#### 字符切片\n",
    "\n",
    "字符串可以理解为字符序列，因此它具有和列表相似的索引和切片操作。"
   ]
  },
  {
   "cell_type": "code",
   "execution_count": null,
   "metadata": {
    "Collapsed": "false"
   },
   "outputs": [],
   "source": [
    "s = \"Hello\"\n",
    "print(s[0])\n",
    "print(s[2:])"
   ]
  },
  {
   "cell_type": "markdown",
   "metadata": {
    "Collapsed": "false"
   },
   "source": [
    "#### 字符串方法\n",
    "\n",
    "Python内置许多字符串方法。\n",
    "\n",
    "常用的字符串方法\n",
    "\n",
    "- 连接字符串 —— **+**号和**join()**函数\n",
    "- 拆分字符串 —— **split()**函数\n",
    "- 字符串搜索 —— **find()**函数\n",
    "\n",
    "注：字符串的更专业化的应用，可以使用正则表达式。"
   ]
  },
  {
   "cell_type": "code",
   "execution_count": null,
   "metadata": {
    "Collapsed": "false"
   },
   "outputs": [],
   "source": [
    "s = \"\"\n",
    "print(dir(s))\n",
    "s = [\"Hello\", \"world\"]\n",
    "\" \".join(s)"
   ]
  },
  {
   "cell_type": "code",
   "execution_count": null,
   "metadata": {
    "Collapsed": "false"
   },
   "outputs": [],
   "source": [
    "s1 = \"Hello\" + \" \" + \"World\"\n",
    "s2 = \" \".join([\"Hello\", \"world\"])\n",
    "print(s1)\n",
    "print(s2)"
   ]
  },
  {
   "cell_type": "markdown",
   "metadata": {
    "Collapsed": "false"
   },
   "source": [
    "#### 格式化字符串\n",
    "\n",
    "Python3中有两种格式化字符串的方式\n",
    "\n",
    "- 使用**%**\n",
    "- 使用**format**方法"
   ]
  },
  {
   "cell_type": "code",
   "execution_count": null,
   "metadata": {
    "Collapsed": "false"
   },
   "outputs": [],
   "source": [
    "a, b = 5, 10\n",
    "print('%d * %d = %d' % (a, b, a * b))\n",
    "print('{} * {} = {}'.format(a, b, a * b))\n",
    "print(f'{a} * {b} = {a * b}')"
   ]
  },
  {
   "cell_type": "markdown",
   "metadata": {
    "Collapsed": "false",
    "toc-hr-collapsed": true
   },
   "source": [
    "### 字典\n",
    "\n",
    "Python内置的字典数据类型提供了关联数组或映射的功能，实现机制是利用了散列表（hash table）。"
   ]
  },
  {
   "cell_type": "markdown",
   "metadata": {
    "Collapsed": "false"
   },
   "source": [
    "#### 创建字典\n",
    "\n",
    "使用**花括号{}**创建字典。"
   ]
  },
  {
   "cell_type": "code",
   "execution_count": null,
   "metadata": {
    "Collapsed": "false"
   },
   "outputs": [],
   "source": [
    "country_capital = {\"China\": \"Beijing\"}\n",
    "print(country_capital)\n",
    "print(type(country_capital))\n",
    "\n",
    "country_capital['UK'] = \"London\"\n",
    "country_capital['Italy'] = \"Roma\"\n",
    "print(country_capital)"
   ]
  },
  {
   "cell_type": "markdown",
   "metadata": {
    "Collapsed": "false"
   },
   "source": [
    "#### 字典的访问\n",
    "\n",
    "Python使用**dict[key]**或**dict.get(key)**对字典进行查询或访问。"
   ]
  },
  {
   "cell_type": "code",
   "execution_count": null,
   "metadata": {
    "Collapsed": "false"
   },
   "outputs": [],
   "source": [
    "print(country_capital['Italy'])\n",
    "print(country_capital.get('China'))\n",
    "#print(country_capital['Germany'])\n",
    "print(country_capital.get('Germany'))"
   ]
  },
  {
   "cell_type": "markdown",
   "metadata": {
    "Collapsed": "false",
    "toc-hr-collapsed": true
   },
   "source": [
    "## 流程控制"
   ]
  },
  {
   "cell_type": "markdown",
   "metadata": {
    "Collapsed": "false"
   },
   "source": [
    "### 分支结构 —— if-elif-else语句\n",
    "\n",
    "Python使用if语句，但没有switch-case语句。"
   ]
  },
  {
   "cell_type": "code",
   "execution_count": null,
   "metadata": {
    "Collapsed": "false"
   },
   "outputs": [],
   "source": [
    "\"\"\"\n",
    "分段函数求值\n",
    "\n",
    "        3x - 5  (x > 1)\n",
    "f(x) =  x + 2   (-1 <= x <= 1)\n",
    "        5x + 3  (x < -1)\n",
    "\"\"\"\n",
    "\n",
    "x = float(input('x = '))\n",
    "\n",
    "if x > 1:\n",
    "    y = 3 * x - 5\n",
    "elif x >= -1:\n",
    "    y = x + 2\n",
    "else:\n",
    "    y = 5 * x + 3\n",
    "\n",
    "print('f(%.2f) = %.2f' % (x, y))"
   ]
  },
  {
   "cell_type": "markdown",
   "metadata": {
    "Collapsed": "false"
   },
   "source": [
    "### 循环结构 —— for和while循环"
   ]
  },
  {
   "cell_type": "markdown",
   "metadata": {
    "Collapsed": "false"
   },
   "source": [
    "#### for循环\n",
    "\n",
    "for循环遍历任何可迭代对象。可以使用break和continue终止循环。"
   ]
  },
  {
   "cell_type": "code",
   "execution_count": null,
   "metadata": {
    "Collapsed": "false"
   },
   "outputs": [],
   "source": [
    "x = [1, 3, -1, 4, -3, 6]\n",
    "\n",
    "for i in range(len(x)):\n",
    "    if x[i] > 0:\n",
    "        print(\"Found a negative number {} at index {}.\".format(x[i], i))"
   ]
  },
  {
   "cell_type": "code",
   "execution_count": null,
   "metadata": {
    "Collapsed": "false"
   },
   "outputs": [],
   "source": [
    "import random\n",
    "\n",
    "x = random.randint(1, 100)"
   ]
  },
  {
   "cell_type": "markdown",
   "metadata": {
    "Collapsed": "false"
   },
   "source": [
    "#### while循环\n",
    "\n",
    "若不知道具体循环次数，可以使用while循环。"
   ]
  },
  {
   "cell_type": "code",
   "execution_count": null,
   "metadata": {
    "Collapsed": "false"
   },
   "outputs": [],
   "source": [
    "# Guess Number\n",
    "import random\n",
    "\n",
    "guess_number = random.choice(range(1,100))\n",
    "\n",
    "count = 0\n",
    "while True:\n",
    "    x = int(input('x = '))\n",
    "    \n",
    "    if x < guess_number:\n",
    "        print(\"Your guess is lower than true number!\")\n",
    "    elif x > guess_number:\n",
    "        print(\"Your guess is higher than true number!\")\n",
    "    else:\n",
    "        print(\"Bingo!\")\n",
    "        break"
   ]
  },
  {
   "cell_type": "markdown",
   "metadata": {
    "Collapsed": "false"
   },
   "source": [
    "## 函数\n",
    "\n",
    "函数可以理解为实现某个功能的代码块。函数的使用可以**避免重复代码**，实现**封装和模块化**。"
   ]
  },
  {
   "cell_type": "markdown",
   "metadata": {
    "Collapsed": "true"
   },
   "source": [
    "#### 定义函数\n",
    "\n",
    "Python使用**def**关键字定义函数。"
   ]
  },
  {
   "cell_type": "code",
   "execution_count": null,
   "metadata": {
    "Collapsed": "false"
   },
   "outputs": [],
   "source": [
    "def sum(a=0, b=0, c=2):\n",
    "    return a + b + c\n",
    "\n",
    "sum(5,b=3,c=1)"
   ]
  },
  {
   "cell_type": "code",
   "execution_count": null,
   "metadata": {
    "Collapsed": "false"
   },
   "outputs": [],
   "source": [
    "def factorial(num):\n",
    "    \"\"\"求阶乘\"\"\"\n",
    "    result = 1\n",
    "    for n in range(1, num + 1):\n",
    "        result *= n\n",
    "    return result"
   ]
  },
  {
   "cell_type": "code",
   "execution_count": null,
   "metadata": {
    "Collapsed": "false"
   },
   "outputs": [],
   "source": [
    "x = factorial(10)\n",
    "print(factorial(10))"
   ]
  },
  {
   "cell_type": "markdown",
   "metadata": {
    "Collapsed": "false"
   },
   "source": [
    "#### 函数参数 —— 形参和实参\n",
    "\n",
    "定义函数时括号内的参数是形参，调用函数是括号内的参数是实参。"
   ]
  },
  {
   "cell_type": "markdown",
   "metadata": {
    "Collapsed": "false"
   },
   "source": [
    "#### 局部变量和全局变量\n",
    "\n",
    "局部变量存在于函数之内，全局变量存在于函数之外。"
   ]
  },
  {
   "cell_type": "code",
   "execution_count": 7,
   "metadata": {
    "Collapsed": "false"
   },
   "outputs": [],
   "source": [
    "a = 10\n",
    "\n",
    "def f1(b):\n",
    "    a = 1\n",
    "    return a + b\n",
    "\n",
    "def f2(b):\n",
    "    return a + b"
   ]
  },
  {
   "cell_type": "code",
   "execution_count": 6,
   "metadata": {
    "Collapsed": "false"
   },
   "outputs": [
    {
     "ename": "NameError",
     "evalue": "name 'f1' is not defined",
     "output_type": "error",
     "traceback": [
      "\u001b[1;31m---------------------------------------------------------------------------\u001b[0m",
      "\u001b[1;31mNameError\u001b[0m                                 Traceback (most recent call last)",
      "\u001b[1;32m<ipython-input-6-146e6b704de7>\u001b[0m in \u001b[0;36m<module>\u001b[1;34m\u001b[0m\n\u001b[1;32m----> 1\u001b[1;33m \u001b[0mprint\u001b[0m\u001b[1;33m(\u001b[0m\u001b[0mf1\u001b[0m\u001b[1;33m(\u001b[0m\u001b[1;36m3\u001b[0m\u001b[1;33m)\u001b[0m\u001b[1;33m)\u001b[0m\u001b[1;33m\u001b[0m\u001b[1;33m\u001b[0m\u001b[0m\n\u001b[0m\u001b[0;32m      2\u001b[0m \u001b[0mprint\u001b[0m\u001b[1;33m(\u001b[0m\u001b[0mf1\u001b[0m\u001b[1;33m(\u001b[0m\u001b[1;36m3\u001b[0m\u001b[1;33m)\u001b[0m\u001b[1;33m)\u001b[0m\u001b[1;33m\u001b[0m\u001b[1;33m\u001b[0m\u001b[0m\n",
      "\u001b[1;31mNameError\u001b[0m: name 'f1' is not defined"
     ]
    }
   ],
   "source": [
    "print(f1(3))\n",
    "print(f1(3))"
   ]
  },
  {
   "cell_type": "markdown",
   "metadata": {
    "Collapsed": "false"
   },
   "source": [
    "## 模块"
   ]
  },
  {
   "cell_type": "markdown",
   "metadata": {
    "Collapsed": "false"
   },
   "source": [
    "### 安装模块\n",
    "\n",
    "Python使用pip或conda管理模块。可以使用如下命令安装模块。\n",
    "\n",
    "```shell\n",
    "pip install modulename\n",
    "```"
   ]
  },
  {
   "cell_type": "markdown",
   "metadata": {
    "Collapsed": "false"
   },
   "source": [
    "### 使用模块\n",
    "\n",
    "Python要使用模块，先要导入模块。\n",
    "\n",
    "```python\n",
    "import numpy\n",
    "\n",
    "import pandas as pd\n",
    "```"
   ]
  },
  {
   "cell_type": "code",
   "execution_count": 4,
   "metadata": {
    "Collapsed": "false"
   },
   "outputs": [],
   "source": [
    "import matplotlib"
   ]
  },
  {
   "cell_type": "markdown",
   "metadata": {
    "Collapsed": "false"
   },
   "source": [
    "## 参考\n",
    "\n",
    "[Awesome Python](https://awesome-python.com/)\n",
    "\n",
    "[Python - 100天从新手到大师](https://github.com/jackfrued/Python-100-Days)"
   ]
  },
  {
   "cell_type": "code",
   "execution_count": 20,
   "metadata": {
    "Collapsed": "false"
   },
   "outputs": [],
   "source": [
    "class Person:\n",
    "    def __init__(self, name, gender, age):\n",
    "        self.name = name\n",
    "        self.gender = gender\n",
    "        self.age = age\n",
    "        self.is_single = True\n",
    "        self.married_to = None\n",
    "    \n",
    "    def set_age(self, age):\n",
    "        self.age = age\n",
    "    \n",
    "    def marry(self, who = None):\n",
    "        if who is not None:\n",
    "            self.married_to = who\n",
    "            who.married_to = self\n",
    "            who.is_single = False\n",
    "            self.is_single = False"
   ]
  },
  {
   "cell_type": "code",
   "execution_count": 30,
   "metadata": {
    "Collapsed": "false"
   },
   "outputs": [
    {
     "name": "stdout",
     "output_type": "stream",
     "text": [
      "20\n",
      "Marry\n",
      "John\n",
      "John is married to Marry\n",
      "Marry is married to John\n",
      "Andy is single!\n",
      "['A', 'B']\n"
     ]
    }
   ],
   "source": [
    "john = Person(name = \"John\", gender = \"Male\", age = 18)\n",
    "marry = Person(name = \"Marry\", gender = \"Female\", age = 19)\n",
    "\n",
    "john.set_age(age = 20)\n",
    "print(john.age)\n",
    "\n",
    "john.marry(marry)\n",
    "\n",
    "print(john.married_to.name)\n",
    "print(marry.married_to.name)\n",
    "\n",
    "andy = Person(name = \"Andy\", gender = \"Male\", age = 18)\n",
    "people = [john, marry, andy]\n",
    "\n",
    "for person in people:\n",
    "    if person.is_single:\n",
    "        print(\"{} is single!\".format(person.name))\n",
    "    else:\n",
    "        print(\"{} is married to {}\".format(person.name, person.married_to.name))\n",
    "        \n",
    "def create_person(name, gender, age):\n",
    "    return Person(name = name, gender = gender, age = age)\n",
    "\n",
    "result = [create_person(*item) for item in [(\"A\", \"Female\", 24), (\"B\", \"Male\", 12)]]\n",
    "print([item for item in result])"
   ]
  },
  {
   "cell_type": "code",
   "execution_count": 32,
   "metadata": {
    "Collapsed": "false"
   },
   "outputs": [
    {
     "data": {
      "text/plain": [
       "[1, 4, 9, 16, 25, 36, 49, 64, 81]"
      ]
     },
     "execution_count": 32,
     "metadata": {},
     "output_type": "execute_result"
    }
   ],
   "source": [
    "result = []\n",
    "for i in range(1,10):\n",
    "    result.append(i**2)\n",
    "result"
   ]
  },
  {
   "cell_type": "code",
   "execution_count": 37,
   "metadata": {
    "Collapsed": "false"
   },
   "outputs": [
    {
     "data": {
      "text/plain": [
       "{1: 1, 2: 4, 3: 9, 4: 16, 5: 25, 6: 36, 7: 49, 8: 64, 9: 81}"
      ]
     },
     "execution_count": 37,
     "metadata": {},
     "output_type": "execute_result"
    }
   ],
   "source": [
    "{i:i**2 for i in range(1,10)}"
   ]
  }
 ],
 "metadata": {
  "kernel_info": {
   "name": "python3"
  },
  "kernelspec": {
   "display_name": "Python 3",
   "language": "python",
   "name": "python3"
  },
  "language_info": {
   "codemirror_mode": {
    "name": "ipython",
    "version": 3
   },
   "file_extension": ".py",
   "mimetype": "text/x-python",
   "name": "python",
   "nbconvert_exporter": "python",
   "pygments_lexer": "ipython3",
   "version": "3.7.4"
  },
  "nteract": {
   "version": "0.15.0"
  }
 },
 "nbformat": 4,
 "nbformat_minor": 4
}
