{
 "cells": [
  {
   "cell_type": "markdown",
   "metadata": {
    "Collapsed": "false"
   },
   "source": [
    "# Python爬虫指南"
   ]
  },
  {
   "cell_type": "markdown",
   "metadata": {
    "Collapsed": "false",
    "toc-hr-collapsed": true
   },
   "source": [
    "## 基础知识和准备"
   ]
  },
  {
   "cell_type": "markdown",
   "metadata": {
    "Collapsed": "false"
   },
   "source": [
    "### 概念与基础知识"
   ]
  },
  {
   "cell_type": "markdown",
   "metadata": {
    "Collapsed": "false"
   },
   "source": [
    "#### 超文本传输协议（HTTP）\n",
    "\n",
    "超文本传输协议（HTTP）是一个用于传输超媒体文档（例如 HTML）的应用层协议。它是为 Web 浏览器与 Web 服务器之间的通信而设计的，但也可以用于其他目的。\n",
    "\n",
    "<br>\n",
    "\n",
    "**客户端-服务端模型（BS）**\n",
    "\n",
    "HTTP 遵循经典的客户端-服务端模型，客户端打开一个连接以发出请求，然后等待它收到服务器端响应。HTTP 是无状态协议，这意味着服务器不会在两个请求之间保留任何数据（状态）。\n",
    "\n",
    "<br>\n",
    "\n",
    "**HTTP首部（HTTP Header）**\n",
    "\n",
    "HTTP消息首部被用来描述资源信息，或是客户端和服务器的行为。\n",
    "\n",
    "<br>\n",
    "\n",
    "**HTTP请求方法**\n",
    "\n",
    "可以使GET，POST方法来完成不同操作，同时也有一些其他的方法，如 OPTIONS，DELETE 和 TRACE。\n",
    "\n",
    "<br>\n",
    "\n",
    "**HTTP状态返回码**\n",
    "\n",
    "HTTP响应状态代码指示特定HTTP请求是否已成功完成。例如200表示请求成功。\n",
    "\n",
    "<br>\n",
    "\n",
    "想要进一步了解HTTP，请点击[此处](https://developer.mozilla.org/zh-CN/docs/Web/HTTP)"
   ]
  },
  {
   "cell_type": "markdown",
   "metadata": {
    "Collapsed": "false"
   },
   "source": [
    "### HTML、CSS和JavaScript"
   ]
  },
  {
   "cell_type": "markdown",
   "metadata": {
    "Collapsed": "false"
   },
   "source": [
    "#### HTML\n",
    "\n",
    "HTML（超文本标记语言——HyperText Markup Language）是构成 Web 世界的一砖一瓦。它定义了网页内容的含义和结构。除HTML 以外的其它技术则通常用来描述一个网页的表现与展示效果（如 CSS），或功能与行为（如 JavaScript）。\n",
    "\n",
    "```html\n",
    "<!DOCTYPE html>\n",
    "<html>\n",
    "  <head>\n",
    "    <meta charset=\"utf-8\">\n",
    "    <title>测试页面</title>\n",
    "  </head>\n",
    "  <body>\n",
    "    <p>Hello World</p>\n",
    "  </body>\n",
    "</html>\n",
    "```\n",
    "\n",
    "想要尝试编写网页，请点击[此处](https://www.w3schools.com/html/tryit.asp?filename=tryhtml_intro)，或[此处](https://www.w3cschool.cn/tryrun/showhtml/tryhtml_headers)。\n",
    "\n",
    "想要进一步了解HTML语言，请点击[此处](https://developer.mozilla.org/zh-CN/docs/Web/HTML)。"
   ]
  },
  {
   "cell_type": "markdown",
   "metadata": {
    "Collapsed": "false"
   },
   "source": [
    "#### CSS\n",
    "\n",
    "层叠样式表 (Cascading Style Sheets，缩写为 CSS），是一种 样式表 语言，用来描述 HTML 或 XML（包括如 SVG、MathML、XHTML 之类的 XML 分支语言）文档的呈现。CSS 描述了在屏幕、纸质、音频等其它媒体上的元素应该如何被渲染的问题。\n",
    "\n",
    "例如\n",
    "\n",
    "```html\n",
    "<h1 style=\"color:blue;\">This is a Blue Heading</h1>\n",
    "```\n",
    "\n",
    "想要进一步了解CSS，请点击[此处](https://developer.mozilla.org/zh-CN/docs/Web/CSS)。"
   ]
  },
  {
   "cell_type": "markdown",
   "metadata": {
    "Collapsed": "false"
   },
   "source": [
    "#### JavaScript\n",
    "\n",
    "JavaScript是一种脚本，一门编程语言，它可以在网页上实现复杂的功能，网页展现给你的不再是简单的静态信息，而是实时的内容更新，交互式的地图，2D/3D 动画，滚动播放的视频等等。\n",
    "\n",
    "想要进一步了解JavaScript，请点击[此处](https://developer.mozilla.org/zh-CN/docs/learn/JavaScript)"
   ]
  },
  {
   "cell_type": "markdown",
   "metadata": {
    "Collapsed": "false"
   },
   "source": [
    "### 什么是网页爬取\n",
    "\n",
    "网页爬取是一种通过多种手段收集网络数据的方式。\n",
    "\n",
    "**常用方法**\n",
    "\n",
    "编写一个自动化程序向网络服务器请求数据（通常是用HTML表单或其他网页文件），然后对数据进行解析，提取需要的信息。"
   ]
  },
  {
   "cell_type": "markdown",
   "metadata": {
    "Collapsed": "false"
   },
   "source": [
    "### Python相关库"
   ]
  },
  {
   "cell_type": "markdown",
   "metadata": {
    "Collapsed": "false"
   },
   "source": [
    "#### [Requests](https://requests.kennethreitz.org/en/master/)\n",
    "\n",
    "[Requests](https://requests.kennethreitz.org/en/master/)是一个优雅且简洁的HTTP库。\n",
    "\n",
    "安装使用如下命令\n",
    "\n",
    "```python\n",
    "pip install requests\n",
    "```"
   ]
  },
  {
   "cell_type": "markdown",
   "metadata": {
    "Collapsed": "false"
   },
   "source": [
    "#### [Beautiful Soup](https://www.crummy.com/software/BeautifulSoup/bs4/doc/index.html)\n",
    "\n",
    "[Beautiful Soup](https://www.crummy.com/software/BeautifulSoup/bs4/doc/index.html)是用来从HTML或XML文件中提取数据的Python库。\n",
    "\n",
    "安装使用如下命令\n",
    "\n",
    "```python\n",
    "pip install beautifulsoup4\n",
    "```\n",
    "\n",
    "Beautiful Soup支持Python标准库中的HTML解析器，还支持一些第三方的解析器，其中最常用的是lxml。安装lxml解析器，使用如下命令\n",
    "\n",
    "```python\n",
    "pip install lxml\n",
    "```"
   ]
  },
  {
   "cell_type": "markdown",
   "metadata": {
    "Collapsed": "false"
   },
   "source": [
    "## 网页爬虫初步"
   ]
  },
  {
   "cell_type": "markdown",
   "metadata": {
    "Collapsed": "false"
   },
   "source": [
    "### 爬取第一个网页\n",
    "\n",
    "- 使用requests库的get()函数"
   ]
  },
  {
   "cell_type": "code",
   "execution_count": 1,
   "metadata": {
    "Collapsed": "false"
   },
   "outputs": [],
   "source": [
    "import requests\n",
    "\n",
    "r = requests.get('http://www.baidu.com')"
   ]
  },
  {
   "cell_type": "markdown",
   "metadata": {
    "Collapsed": "false"
   },
   "source": [
    "使用状态码查看是否爬取成功，如果返回200，就表示成功。"
   ]
  },
  {
   "cell_type": "code",
   "execution_count": 2,
   "metadata": {
    "Collapsed": "false"
   },
   "outputs": [
    {
     "data": {
      "text/plain": [
       "200"
      ]
     },
     "execution_count": 2,
     "metadata": {},
     "output_type": "execute_result"
    }
   ],
   "source": [
    "r.status_code"
   ]
  },
  {
   "cell_type": "markdown",
   "metadata": {
    "Collapsed": "false"
   },
   "source": [
    "查看爬取的内容"
   ]
  },
  {
   "cell_type": "code",
   "execution_count": 3,
   "metadata": {
    "Collapsed": "false"
   },
   "outputs": [
    {
     "data": {
      "text/plain": [
       "'<!DOCTYPE html>\\r\\n<!--STATUS OK--><html> <head><meta http-equiv=content-type content=text/html;charset=utf-8><meta http-equiv=X-UA-Compatible content=IE=Edge><meta content=always name=referrer><link rel=stylesheet type=text/css href=http://s1.bdstatic.com/r/www/cache/bdorz/baidu.min.css><title>ç\\x99¾åº¦ä¸\\x80ä¸\\x8bï¼\\x8cä½\\xa0å°±ç\\x9f¥é\\x81\\x93</title></head> <body link=#0000cc> <div id=wrapper> <div id=head> <div class=head_wrapper> <div class=s_form> <div class=s_form_wrapper> <div id=lg> <img hidefocus=true src=//www.baidu.com/img/bd_logo1.png width=270 height=129> </div> <form id=form name=f action=//www.baidu.com/s class=fm> <input type=hidden name=bdorz_come value=1> <input type=hidden name=ie value=utf-8> <input type=hidden name=f value=8> <input type=hidden name=rsv_bp value=1> <input type=hidden name=rsv_idx value=1> <input type=hidden name=tn value=baidu><span class=\"bg s_ipt_wr\"><input id=kw name=wd class=s_ipt value maxlength=255 autocomplete=off autofocus></span><span class=\"bg s_btn_wr\"><input type=submit id=su value=ç\\x99¾åº¦ä¸\\x80ä¸\\x8b class=\"bg s_btn\"></span> </form> </div> </div> <div id=u1> <a href=http://news.baidu.com name=tj_trnews class=mnav>æ\\x96°é\\x97»</a> <a href=http://www.hao123.com name=tj_trhao123 class=mnav>hao123</a> <a href=http://map.baidu.com name=tj_trmap class=mnav>å\\x9c°å\\x9b¾</a> <a href=http://v.baidu.com name=tj_trvideo class=mnav>è§\\x86é¢\\x91</a> <a href=http://tieba.baidu.com name=tj_trtieba class=mnav>è´´å\\x90§</a> <noscript> <a href=http://www.baidu.com/bdorz/login.gif?login&amp;tpl=mn&amp;u=http%3A%2F%2Fwww.baidu.com%2f%3fbdorz_come%3d1 name=tj_login class=lb>ç\\x99»å½\\x95</a> </noscript> <script>document.write(\\'<a href=\"http://www.baidu.com/bdorz/login.gif?login&tpl=mn&u=\\'+ encodeURIComponent(window.location.href+ (window.location.search === \"\" ? \"?\" : \"&\")+ \"bdorz_come=1\")+ \\'\" name=\"tj_login\" class=\"lb\">ç\\x99»å½\\x95</a>\\');</script> <a href=//www.baidu.com/more/ name=tj_briicon class=bri style=\"display: block;\">æ\\x9b´å¤\\x9aäº§å\\x93\\x81</a> </div> </div> </div> <div id=ftCon> <div id=ftConw> <p id=lh> <a href=http://home.baidu.com>å\\x85³äº\\x8eç\\x99¾åº¦</a> <a href=http://ir.baidu.com>About Baidu</a> </p> <p id=cp>&copy;2017&nbsp;Baidu&nbsp;<a href=http://www.baidu.com/duty/>ä½¿ç\\x94¨ç\\x99¾åº¦å\\x89\\x8då¿\\x85è¯»</a>&nbsp; <a href=http://jianyi.baidu.com/ class=cp-feedback>æ\\x84\\x8fè§\\x81å\\x8f\\x8dé¦\\x88</a>&nbsp;äº¬ICPè¯\\x81030173å\\x8f·&nbsp; <img src=//www.baidu.com/img/gs.gif> </p> </div> </div> </div> </body> </html>\\r\\n'"
      ]
     },
     "execution_count": 3,
     "metadata": {},
     "output_type": "execute_result"
    }
   ],
   "source": [
    "r.text"
   ]
  },
  {
   "cell_type": "markdown",
   "metadata": {
    "Collapsed": "false"
   },
   "source": [
    "**编码问题**\n",
    "\n",
    "对于中文网页，如果是乱码，可以查看字符编码方式，并对此进行重新设置。"
   ]
  },
  {
   "cell_type": "code",
   "execution_count": 4,
   "metadata": {
    "Collapsed": "false"
   },
   "outputs": [
    {
     "data": {
      "text/plain": [
       "'<!DOCTYPE html>\\r\\n<!--STATUS OK--><html> <head><meta http-equiv=content-type content=text/html;charset=utf-8><meta http-equiv=X-UA-Compatible content=IE=Edge><meta content=always name=referrer><link rel=stylesheet type=text/css href=http://s1.bdstatic.com/r/www/cache/bdorz/baidu.min.css><title>百度一下，你就知道</title></head> <body link=#0000cc> <div id=wrapper> <div id=head> <div class=head_wrapper> <div class=s_form> <div class=s_form_wrapper> <div id=lg> <img hidefocus=true src=//www.baidu.com/img/bd_logo1.png width=270 height=129> </div> <form id=form name=f action=//www.baidu.com/s class=fm> <input type=hidden name=bdorz_come value=1> <input type=hidden name=ie value=utf-8> <input type=hidden name=f value=8> <input type=hidden name=rsv_bp value=1> <input type=hidden name=rsv_idx value=1> <input type=hidden name=tn value=baidu><span class=\"bg s_ipt_wr\"><input id=kw name=wd class=s_ipt value maxlength=255 autocomplete=off autofocus></span><span class=\"bg s_btn_wr\"><input type=submit id=su value=百度一下 class=\"bg s_btn\"></span> </form> </div> </div> <div id=u1> <a href=http://news.baidu.com name=tj_trnews class=mnav>新闻</a> <a href=http://www.hao123.com name=tj_trhao123 class=mnav>hao123</a> <a href=http://map.baidu.com name=tj_trmap class=mnav>地图</a> <a href=http://v.baidu.com name=tj_trvideo class=mnav>视频</a> <a href=http://tieba.baidu.com name=tj_trtieba class=mnav>贴吧</a> <noscript> <a href=http://www.baidu.com/bdorz/login.gif?login&amp;tpl=mn&amp;u=http%3A%2F%2Fwww.baidu.com%2f%3fbdorz_come%3d1 name=tj_login class=lb>登录</a> </noscript> <script>document.write(\\'<a href=\"http://www.baidu.com/bdorz/login.gif?login&tpl=mn&u=\\'+ encodeURIComponent(window.location.href+ (window.location.search === \"\" ? \"?\" : \"&\")+ \"bdorz_come=1\")+ \\'\" name=\"tj_login\" class=\"lb\">登录</a>\\');</script> <a href=//www.baidu.com/more/ name=tj_briicon class=bri style=\"display: block;\">更多产品</a> </div> </div> </div> <div id=ftCon> <div id=ftConw> <p id=lh> <a href=http://home.baidu.com>关于百度</a> <a href=http://ir.baidu.com>About Baidu</a> </p> <p id=cp>&copy;2017&nbsp;Baidu&nbsp;<a href=http://www.baidu.com/duty/>使用百度前必读</a>&nbsp; <a href=http://jianyi.baidu.com/ class=cp-feedback>意见反馈</a>&nbsp;京ICP证030173号&nbsp; <img src=//www.baidu.com/img/gs.gif> </p> </div> </div> </div> </body> </html>\\r\\n'"
      ]
     },
     "execution_count": 4,
     "metadata": {},
     "output_type": "execute_result"
    }
   ],
   "source": [
    "r.encoding = \"UTF-8\"\n",
    "r.text"
   ]
  },
  {
   "cell_type": "markdown",
   "metadata": {
    "Collapsed": "false"
   },
   "source": [
    "### 解析网页初步\n",
    "\n",
    "使用beautiful soup库进行HTML解析。\n",
    "\n",
    "> Beautiful Soup将复杂HTML文档转换成一个复杂的树形结构,每个节点都是Python对象"
   ]
  },
  {
   "cell_type": "code",
   "execution_count": 6,
   "metadata": {
    "Collapsed": "false"
   },
   "outputs": [],
   "source": [
    "from bs4 import BeautifulSoup\n",
    "\n",
    "soup = BeautifulSoup(r.text, 'lxml')"
   ]
  },
  {
   "cell_type": "code",
   "execution_count": 6,
   "metadata": {
    "Collapsed": "false"
   },
   "outputs": [
    {
     "name": "stdout",
     "output_type": "stream",
     "text": [
      "<title>百度一下，你就知道</title>\n",
      "百度一下，你就知道\n",
      "百度一下，你就知道\n",
      "['百度一下，你就知道']\n"
     ]
    }
   ],
   "source": [
    "print(soup.title)\n",
    "print(soup.title.string)\n",
    "print(soup.title.get_text())\n",
    "print(soup.title.contents)"
   ]
  },
  {
   "cell_type": "markdown",
   "metadata": {
    "Collapsed": "false"
   },
   "source": [
    "#### 定位页面元素\n",
    "\n",
    "常用方法是**find()**和**find_all()**。"
   ]
  },
  {
   "cell_type": "code",
   "execution_count": 7,
   "metadata": {
    "Collapsed": "false"
   },
   "outputs": [
    {
     "name": "stdout",
     "output_type": "stream",
     "text": [
      "<a class=\"mnav\" href=\"http://news.baidu.com\" name=\"tj_trnews\">新闻</a>\n",
      "<a class=\"mnav\" href=\"http://www.hao123.com\" name=\"tj_trhao123\">hao123</a>\n",
      "<a class=\"mnav\" href=\"http://map.baidu.com\" name=\"tj_trmap\">地图</a>\n",
      "<a class=\"mnav\" href=\"http://v.baidu.com\" name=\"tj_trvideo\">视频</a>\n",
      "<a class=\"mnav\" href=\"http://tieba.baidu.com\" name=\"tj_trtieba\">贴吧</a>\n",
      "<a class=\"lb\" href=\"http://www.baidu.com/bdorz/login.gif?login&amp;tpl=mn&amp;u=http%3A%2F%2Fwww.baidu.com%2f%3fbdorz_come%3d1\" name=\"tj_login\">登录</a>\n",
      "<a class=\"bri\" href=\"//www.baidu.com/more/\" name=\"tj_briicon\" style=\"display: block;\">更多产品</a>\n",
      "<a href=\"http://home.baidu.com\">关于百度</a>\n",
      "<a href=\"http://ir.baidu.com\">About Baidu</a>\n",
      "<a href=\"http://www.baidu.com/duty/\">使用百度前必读</a>\n",
      "<a class=\"cp-feedback\" href=\"http://jianyi.baidu.com/\">意见反馈</a>\n"
     ]
    }
   ],
   "source": [
    "for item in soup.find_all('a'):\n",
    "    print(item)"
   ]
  },
  {
   "cell_type": "code",
   "execution_count": 8,
   "metadata": {
    "Collapsed": "false"
   },
   "outputs": [
    {
     "name": "stdout",
     "output_type": "stream",
     "text": [
      "http://news.baidu.com\n",
      "http://www.hao123.com\n",
      "http://map.baidu.com\n",
      "http://v.baidu.com\n",
      "http://tieba.baidu.com\n",
      "http://www.baidu.com/bdorz/login.gif?login&tpl=mn&u=http%3A%2F%2Fwww.baidu.com%2f%3fbdorz_come%3d1\n",
      "//www.baidu.com/more/\n",
      "http://home.baidu.com\n",
      "http://ir.baidu.com\n",
      "http://www.baidu.com/duty/\n",
      "http://jianyi.baidu.com/\n"
     ]
    }
   ],
   "source": [
    "# to extract all links\n",
    "for item in soup.find_all(\"a\"):\n",
    "    print(item.attrs[\"href\"])"
   ]
  },
  {
   "cell_type": "code",
   "execution_count": 9,
   "metadata": {
    "Collapsed": "false"
   },
   "outputs": [
    {
     "data": {
      "text/plain": [
       "<a class=\"mnav\" href=\"http://news.baidu.com\" name=\"tj_trnews\">新闻</a>"
      ]
     },
     "execution_count": 9,
     "metadata": {},
     "output_type": "execute_result"
    }
   ],
   "source": [
    "soup.find('a', {\"name\": \"tj_trnews\"})"
   ]
  },
  {
   "cell_type": "markdown",
   "metadata": {
    "Collapsed": "false"
   },
   "source": [
    "**CSS选择器与网页元素提取**\n",
    "\n",
    "使用.select()，它支持CSS选择器。\n",
    "\n",
    "CSS选择器参考手册，点击[此处](https://www.w3school.com.cn/cssref/css_selectors.asp)。"
   ]
  },
  {
   "cell_type": "code",
   "execution_count": 10,
   "metadata": {
    "Collapsed": "false"
   },
   "outputs": [
    {
     "data": {
      "text/plain": [
       "[<a class=\"mnav\" href=\"http://news.baidu.com\" name=\"tj_trnews\">新闻</a>]"
      ]
     },
     "execution_count": 10,
     "metadata": {},
     "output_type": "execute_result"
    }
   ],
   "source": [
    "soup.select(\"[name=tj_trnews]\")"
   ]
  },
  {
   "cell_type": "code",
   "execution_count": null,
   "metadata": {
    "Collapsed": "false"
   },
   "outputs": [],
   "source": [
    "# to extract a link\n",
    "soup.select('[name=\"tj_trnews\"]')[0].attrs[\"href\"]"
   ]
  },
  {
   "cell_type": "markdown",
   "metadata": {
    "Collapsed": "false"
   },
   "source": [
    "## 案例一：高德地图\n",
    "\n",
    "例如爬取上海的交通健康指数，点击[此处](https://report.amap.com/detail.do?city=310000)。"
   ]
  },
  {
   "cell_type": "code",
   "execution_count": 12,
   "metadata": {
    "Collapsed": "false"
   },
   "outputs": [
    {
     "data": {
      "text/plain": [
       "[[1576998000000, 1.54],\n",
       " [1577001600000, 1.56],\n",
       " [1577005200000, 1.74],\n",
       " [1577008800000, 1.61],\n",
       " [1577012400000, 1.34],\n",
       " [1577016000000, 1.25],\n",
       " [1577019600000, 1.21],\n",
       " [1577023200000, 1.15],\n",
       " [1577026800000, 1.09],\n",
       " [1577030400000, 1.08],\n",
       " [1577034000000, 1.07],\n",
       " [1577037600000, 1.06],\n",
       " [1577041200000, 1.05],\n",
       " [1577044800000, 1.05],\n",
       " [1577048400000, 1.05],\n",
       " [1577052000000, 1.22],\n",
       " [1577055600000, 1.87],\n",
       " [1577059200000, 1.99],\n",
       " [1577062800000, 1.66],\n",
       " [1577066400000, 1.53],\n",
       " [1577070000000, 1.41],\n",
       " [1577073600000, 1.3],\n",
       " [1577077200000, 1.36]]"
      ]
     },
     "execution_count": 12,
     "metadata": {},
     "output_type": "execute_result"
    }
   ],
   "source": [
    "import json\n",
    "\n",
    "headers={\"User-Agent\" : \"Mozilla/5.0 (Windows; U; Windows NT 5.1; zh-CN; rv:1.9.1.6) \",\n",
    "  \"Accept\" : \"text/html,application/xhtml+xml,application/xml;q=0.9,*/*;q=0.8\",\n",
    "  \"Accept-Language\" : \"en-us\",\n",
    "  \"Connection\" : \"keep-alive\",\n",
    "  \"Accept-Charset\" : \"GB2312,utf-8;q=0.7,*;q=0.7\"}\n",
    "\n",
    "r = requests.get('https://report.amap.com/ajax/cityHourly.do?cityCode=110000&dataType=1', headers = headers)\n",
    "\n",
    "r.json()"
   ]
  },
  {
   "cell_type": "code",
   "execution_count": 13,
   "metadata": {
    "Collapsed": "false"
   },
   "outputs": [
    {
     "name": "stdout",
     "output_type": "stream",
     "text": [
      "2019-12-22 15:00:00 :  1.54\n",
      "2019-12-22 16:00:00 :  1.56\n",
      "2019-12-22 17:00:00 :  1.74\n",
      "2019-12-22 18:00:00 :  1.61\n",
      "2019-12-22 19:00:00 :  1.34\n",
      "2019-12-22 20:00:00 :  1.25\n",
      "2019-12-22 21:00:00 :  1.21\n",
      "2019-12-22 22:00:00 :  1.15\n",
      "2019-12-22 23:00:00 :  1.09\n",
      "2019-12-23 00:00:00 :  1.08\n",
      "2019-12-23 01:00:00 :  1.07\n",
      "2019-12-23 02:00:00 :  1.06\n",
      "2019-12-23 03:00:00 :  1.05\n",
      "2019-12-23 04:00:00 :  1.05\n",
      "2019-12-23 05:00:00 :  1.05\n",
      "2019-12-23 06:00:00 :  1.22\n",
      "2019-12-23 07:00:00 :  1.87\n",
      "2019-12-23 08:00:00 :  1.99\n",
      "2019-12-23 09:00:00 :  1.66\n",
      "2019-12-23 10:00:00 :  1.53\n",
      "2019-12-23 11:00:00 :  1.41\n",
      "2019-12-23 12:00:00 :  1.3\n",
      "2019-12-23 13:00:00 :  1.36\n"
     ]
    }
   ],
   "source": [
    "import time\n",
    "\n",
    "data = r.json()\n",
    "for item in data:\n",
    "    timearray = time.localtime(int(item[0]/1000))\n",
    "    otherStyleTime = time.strftime(\"%Y-%m-%d %H:%M:%S\", timearray)\n",
    "    print(otherStyleTime, \": \", item[1])"
   ]
  },
  {
   "cell_type": "markdown",
   "metadata": {
    "Collapsed": "false"
   },
   "source": [
    "**挑战：爬取近7天的交通拥堵指数**"
   ]
  },
  {
   "cell_type": "markdown",
   "metadata": {
    "Collapsed": "false"
   },
   "source": [
    "## 案例二：华东理工大学学术讲座\n",
    "\n",
    "爬取华东理工大学的学术讲座（https://news.ecust.edu.cn/reports)"
   ]
  },
  {
   "cell_type": "markdown",
   "metadata": {
    "Collapsed": "false"
   },
   "source": [
    "- 第一步，初始化参数"
   ]
  },
  {
   "cell_type": "code",
   "execution_count": 7,
   "metadata": {
    "Collapsed": "false"
   },
   "outputs": [],
   "source": [
    "import re\n",
    "\n",
    "original_web_address = \"https://news.ecust.edu.cn\"\n",
    "web_address_fmt = \"https://news.ecust.edu.cn/reports?page={}\"\n",
    "\n",
    "headers={\"User-Agent\" : \"Mozilla/5.0 (Windows; U; Windows NT 5.1; zh-CN; rv:1.9.1.6) \",\n",
    "  \"Accept\" : \"text/html,application/xhtml+xml,application/xml;q=0.9,*/*;q=0.8\",\n",
    "  \"Accept-Language\" : \"en-us\",\n",
    "  \"Connection\" : \"keep-alive\",\n",
    "  \"Accept-Charset\" : \"GB2312,utf-8;q=0.7,*;q=0.7\"}"
   ]
  },
  {
   "cell_type": "markdown",
   "metadata": {
    "Collapsed": "false"
   },
   "source": [
    "- 第二步，找到最后一页的页数"
   ]
  },
  {
   "cell_type": "code",
   "execution_count": 8,
   "metadata": {
    "Collapsed": "false"
   },
   "outputs": [],
   "source": [
    "r = requests.get(web_address_fmt.format(\"1\"), headers = headers)\n",
    "soup = BeautifulSoup(r.text, 'lxml')"
   ]
  },
  {
   "cell_type": "markdown",
   "metadata": {
    "Collapsed": "false"
   },
   "source": [
    "> 演示过程"
   ]
  },
  {
   "cell_type": "code",
   "execution_count": 9,
   "metadata": {
    "Collapsed": "false"
   },
   "outputs": [
    {
     "data": {
      "text/plain": [
       "[<li class=\"last\"><a href=\"/news?category_id=45\"><span>校友</span></a></li>,\n",
       " <li class=\"last\"><a href=\"/news?category_id=44\"><span>就业</span></a></li>,\n",
       " <li class=\"last\"><a href=\"/news?category_id=54\"><span>社会服务</span></a></li>,\n",
       " <li class=\"last\">\n",
       " <a href=\"/reports?page=20\">末页 </a>\n",
       " </li>]"
      ]
     },
     "execution_count": 9,
     "metadata": {},
     "output_type": "execute_result"
    }
   ],
   "source": [
    "soup.select('.last')"
   ]
  },
  {
   "cell_type": "code",
   "execution_count": 17,
   "metadata": {
    "Collapsed": "false"
   },
   "outputs": [
    {
     "name": "stdout",
     "output_type": "stream",
     "text": [
      "1:  <li class=\"last\">\n",
      "<a href=\"/reports?page=20\">末页 </a>\n",
      "</li>\n",
      "2:  <a href=\"/reports?page=20\">末页 </a>\n",
      "3:  /reports?page=20\n",
      "4:  ['/reports?page', '20']\n"
     ]
    }
   ],
   "source": [
    "print('1: ', soup.select('.last')[-1])\n",
    "print('2: ', soup.select('.last')[-1].a)\n",
    "print('3: ', (soup.select('.last')[-1]).a['href'])\n",
    "print('4: ', re.split(\"=\", (soup.select('.last')[-1]).a['href']))"
   ]
  },
  {
   "cell_type": "markdown",
   "metadata": {
    "Collapsed": "false"
   },
   "source": [
    "> 正式版本"
   ]
  },
  {
   "cell_type": "code",
   "execution_count": 18,
   "metadata": {
    "Collapsed": "false"
   },
   "outputs": [
    {
     "name": "stdout",
     "output_type": "stream",
     "text": [
      "20\n"
     ]
    }
   ],
   "source": [
    "for item in soup.select('.last'):\n",
    "    found = item.find_all(href=re.compile(\"reports\\?\"))\n",
    "    if len(found) > 0:\n",
    "        last_page_number = re.split(\"=\", found[0]['href'])[-1]\n",
    "\n",
    "print(last_page_number)"
   ]
  },
  {
   "cell_type": "markdown",
   "metadata": {
    "Collapsed": "false"
   },
   "source": [
    "- 第三步，爬取讲座网址"
   ]
  },
  {
   "cell_type": "code",
   "execution_count": 19,
   "metadata": {
    "Collapsed": "false"
   },
   "outputs": [],
   "source": [
    "r = requests.get(web_address_fmt.format(\"1\"), headers = headers)\n",
    "soup = BeautifulSoup(r.text, 'lxml')"
   ]
  },
  {
   "cell_type": "markdown",
   "metadata": {
    "Collapsed": "false"
   },
   "source": [
    "> 演示过程"
   ]
  },
  {
   "cell_type": "code",
   "execution_count": 20,
   "metadata": {
    "Collapsed": "false"
   },
   "outputs": [
    {
     "data": {
      "text/plain": [
       "[<div class=\"content\">\n",
       " <ul>\n",
       " <li>\n",
       " <a href=\"/reports/3334\">\n",
       " <span class=\"time\">开讲时间：2019-12-25</span>\n",
       " <span class=\"content_icon\"></span>\n",
       " <span>\n",
       "             Accelerating algal systems and synthetic biology re\n",
       "               ...\n",
       "           </span>\n",
       " </a>\n",
       " </li>\n",
       " <li>\n",
       " <a href=\"/reports/3339\">\n",
       " <span class=\"time\">开讲时间：2019-12-24</span>\n",
       " <span class=\"content_icon\"></span>\n",
       " <span>\n",
       "             美国图书馆及信息科学专业人才教育的创新及伊大信息学院的发展\n",
       "           </span>\n",
       " </a>\n",
       " </li>\n",
       " <li>\n",
       " <a href=\"/reports/3338\">\n",
       " <span class=\"time\">开讲时间：2019-12-20</span>\n",
       " <span class=\"content_icon\"></span>\n",
       " <span>\n",
       "             金属催化剂精准设计\n",
       "           </span>\n",
       " </a>\n",
       " </li>\n",
       " <li>\n",
       " <a href=\"/reports/3337\">\n",
       " <span class=\"time\">开讲时间：2019-12-19</span>\n",
       " <span class=\"content_icon\"></span>\n",
       " <span>\n",
       "             Biomolecules\n",
       "           </span>\n",
       " </a>\n",
       " </li>\n",
       " <li>\n",
       " <a href=\"/reports/3330\">\n",
       " <span class=\"time\">开讲时间：2019-12-19</span>\n",
       " <span class=\"content_icon\"></span>\n",
       " <span>\n",
       "             In situ surface spectroscopy and microscopy of zirc\n",
       "               ...\n",
       "           </span>\n",
       " </a>\n",
       " </li>\n",
       " <li>\n",
       " <a href=\"/reports/3336\">\n",
       " <span class=\"time\">开讲时间：2019-12-18</span>\n",
       " <span class=\"content_icon\"></span>\n",
       " <span>\n",
       "             基于功能纳米探针的食品科学与健康研究新方法\n",
       "           </span>\n",
       " </a>\n",
       " </li>\n",
       " <li>\n",
       " <a href=\"/reports/3333\">\n",
       " <span class=\"time\">开讲时间：2019-12-18</span>\n",
       " <span class=\"content_icon\"></span>\n",
       " <span>\n",
       "             用光镊对微颗粒泳动的研究\n",
       "           </span>\n",
       " </a>\n",
       " </li>\n",
       " <li>\n",
       " <a href=\"/reports/3335\">\n",
       " <span class=\"time\">开讲时间：2019-12-18</span>\n",
       " <span class=\"content_icon\"></span>\n",
       " <span>\n",
       "             基金与科学问题\n",
       "           </span>\n",
       " </a>\n",
       " </li>\n",
       " <li>\n",
       " <a href=\"/reports/3332\">\n",
       " <span class=\"time\">开讲时间：2019-12-16</span>\n",
       " <span class=\"content_icon\"></span>\n",
       " <span>\n",
       "             名师讲坛：Visible light induced Controlled Radical React\n",
       "               ...\n",
       "           </span>\n",
       " </a>\n",
       " </li>\n",
       " <li>\n",
       " <a href=\"/reports/3327\">\n",
       " <span class=\"time\">开讲时间：2019-12-13</span>\n",
       " <span class=\"content_icon\"></span>\n",
       " <span>\n",
       "             “超星”数据库暨文献资源推介讲座通知\n",
       "           </span>\n",
       " </a>\n",
       " </li>\n",
       " <li>\n",
       " <a href=\"/reports/3331\">\n",
       " <span class=\"time\">开讲时间：2019-12-12</span>\n",
       " <span class=\"content_icon\"></span>\n",
       " <span>\n",
       "             新颖复合型手性选择体键合固定相的研究进展及其在高效手性拆分中的应用\n",
       "           </span>\n",
       " </a>\n",
       " </li>\n",
       " <li>\n",
       " <a href=\"/reports/3328\">\n",
       " <span class=\"time\">开讲时间：2019-12-12</span>\n",
       " <span class=\"content_icon\"></span>\n",
       " <span>\n",
       "             美国肯塔基大学及奖学金项目简介\n",
       "           </span>\n",
       " </a>\n",
       " </li>\n",
       " <li>\n",
       " <a href=\"/reports/3326\">\n",
       " <span class=\"time\">开讲时间：2019-12-11</span>\n",
       " <span class=\"content_icon\"></span>\n",
       " <span>\n",
       "              TiO2光催化表面化学\n",
       "           </span>\n",
       " </a>\n",
       " </li>\n",
       " <li>\n",
       " <a href=\"/reports/3329\">\n",
       " <span class=\"time\">开讲时间：2019-12-09</span>\n",
       " <span class=\"content_icon\"></span>\n",
       " <span>\n",
       "             名师讲坛：新时代京剧的创新与发展\n",
       "           </span>\n",
       " </a>\n",
       " </li>\n",
       " <li>\n",
       " <a href=\"/reports/3324\">\n",
       " <span class=\"time\">开讲时间：2019-12-09</span>\n",
       " <span class=\"content_icon\"></span>\n",
       " <span>\n",
       "             波粒二象性之新检验--理论分析和实验验证\n",
       "           </span>\n",
       " </a>\n",
       " </li>\n",
       " <li>\n",
       " <a href=\"/reports/3320\">\n",
       " <span class=\"time\">开讲时间：2019-12-06</span>\n",
       " <span class=\"content_icon\"></span>\n",
       " <span>\n",
       "             Nanoparticle Growth by Chemical Routes\n",
       "           </span>\n",
       " </a>\n",
       " </li>\n",
       " <li>\n",
       " <a href=\"/reports/3319\">\n",
       " <span class=\"time\">开讲时间：2019-12-06</span>\n",
       " <span class=\"content_icon\"></span>\n",
       " <span>\n",
       "             名师讲坛：Current development of visible light responsib\n",
       "               ...\n",
       "           </span>\n",
       " </a>\n",
       " </li>\n",
       " <li>\n",
       " <a href=\"/reports/3325\">\n",
       " <span class=\"time\">开讲时间：2019-12-06</span>\n",
       " <span class=\"content_icon\"></span>\n",
       " <span>\n",
       "             【通海讲堂】第52期——中国传统文化的话语体系\n",
       "           </span>\n",
       " </a>\n",
       " </li>\n",
       " <li>\n",
       " <a href=\"/reports/3317\">\n",
       " <span class=\"time\">开讲时间：2019-12-04</span>\n",
       " <span class=\"content_icon\"></span>\n",
       " <span>\n",
       "             名师讲坛：新时代提升公民科学素质的机遇和挑战——监测评估的视角\n",
       "           </span>\n",
       " </a>\n",
       " </li>\n",
       " <li>\n",
       " <a href=\"/reports/3322\">\n",
       " <span class=\"time\">开讲时间：2019-12-02</span>\n",
       " <span class=\"content_icon\"></span>\n",
       " <span>\n",
       "             食品功能成分与肠道菌群相互作用的是与非\n",
       "           </span>\n",
       " </a>\n",
       " </li>\n",
       " </ul>\n",
       " <div class=\"count\">\n",
       " <ul class=\"pagination\">\n",
       " <li class=\"page active\">\n",
       " <a href=\"javascript:void(0)\">1</a>\n",
       " </li>\n",
       " <li class=\"page\">\n",
       " <a href=\"/reports?page=2\" rel=\"next\">2</a>\n",
       " </li>\n",
       " <li class=\"page\">\n",
       " <a href=\"/reports?page=3\">3</a>\n",
       " </li>\n",
       " <li class=\"page\">\n",
       " <a href=\"/reports?page=4\">4</a>\n",
       " </li>\n",
       " <li class=\"page\">\n",
       " <a href=\"/reports?page=5\">5</a>\n",
       " </li>\n",
       " <li class=\"page gap disabled\"><a href=\"javascript:void(0)\">...</a></li>\n",
       " <li class=\"next\">\n",
       " <a href=\"/reports?page=2\" rel=\"next\">下一页 </a>\n",
       " </li>\n",
       " <li class=\"last\">\n",
       " <a href=\"/reports?page=20\">末页 </a>\n",
       " </li>\n",
       " </ul>\n",
       " </div>\n",
       " </div>]"
      ]
     },
     "execution_count": 20,
     "metadata": {},
     "output_type": "execute_result"
    }
   ],
   "source": [
    "soup.select('.content')"
   ]
  },
  {
   "cell_type": "code",
   "execution_count": 21,
   "metadata": {
    "Collapsed": "false"
   },
   "outputs": [
    {
     "name": "stdout",
     "output_type": "stream",
     "text": [
      "<li>\n",
      "<a href=\"/reports/3334\">\n",
      "<span class=\"time\">开讲时间：2019-12-25</span>\n",
      "<span class=\"content_icon\"></span>\n",
      "<span>\n",
      "            Accelerating algal systems and synthetic biology re\n",
      "              ...\n",
      "          </span>\n",
      "</a>\n",
      "</li>\n",
      "<li>\n",
      "<a href=\"/reports/3339\">\n",
      "<span class=\"time\">开讲时间：2019-12-24</span>\n",
      "<span class=\"content_icon\"></span>\n",
      "<span>\n",
      "            美国图书馆及信息科学专业人才教育的创新及伊大信息学院的发展\n",
      "          </span>\n",
      "</a>\n",
      "</li>\n",
      "<li>\n",
      "<a href=\"/reports/3338\">\n",
      "<span class=\"time\">开讲时间：2019-12-20</span>\n",
      "<span class=\"content_icon\"></span>\n",
      "<span>\n",
      "            金属催化剂精准设计\n",
      "          </span>\n",
      "</a>\n",
      "</li>\n",
      "<li>\n",
      "<a href=\"/reports/3337\">\n",
      "<span class=\"time\">开讲时间：2019-12-19</span>\n",
      "<span class=\"content_icon\"></span>\n",
      "<span>\n",
      "            Biomolecules\n",
      "          </span>\n",
      "</a>\n",
      "</li>\n",
      "<li>\n",
      "<a href=\"/reports/3330\">\n",
      "<span class=\"time\">开讲时间：2019-12-19</span>\n",
      "<span class=\"content_icon\"></span>\n",
      "<span>\n",
      "            In situ surface spectroscopy and microscopy of zirc\n",
      "              ...\n",
      "          </span>\n",
      "</a>\n",
      "</li>\n",
      "<li>\n",
      "<a href=\"/reports/3336\">\n",
      "<span class=\"time\">开讲时间：2019-12-18</span>\n",
      "<span class=\"content_icon\"></span>\n",
      "<span>\n",
      "            基于功能纳米探针的食品科学与健康研究新方法\n",
      "          </span>\n",
      "</a>\n",
      "</li>\n",
      "<li>\n",
      "<a href=\"/reports/3333\">\n",
      "<span class=\"time\">开讲时间：2019-12-18</span>\n",
      "<span class=\"content_icon\"></span>\n",
      "<span>\n",
      "            用光镊对微颗粒泳动的研究\n",
      "          </span>\n",
      "</a>\n",
      "</li>\n",
      "<li>\n",
      "<a href=\"/reports/3335\">\n",
      "<span class=\"time\">开讲时间：2019-12-18</span>\n",
      "<span class=\"content_icon\"></span>\n",
      "<span>\n",
      "            基金与科学问题\n",
      "          </span>\n",
      "</a>\n",
      "</li>\n",
      "<li>\n",
      "<a href=\"/reports/3332\">\n",
      "<span class=\"time\">开讲时间：2019-12-16</span>\n",
      "<span class=\"content_icon\"></span>\n",
      "<span>\n",
      "            名师讲坛：Visible light induced Controlled Radical React\n",
      "              ...\n",
      "          </span>\n",
      "</a>\n",
      "</li>\n",
      "<li>\n",
      "<a href=\"/reports/3327\">\n",
      "<span class=\"time\">开讲时间：2019-12-13</span>\n",
      "<span class=\"content_icon\"></span>\n",
      "<span>\n",
      "            “超星”数据库暨文献资源推介讲座通知\n",
      "          </span>\n",
      "</a>\n",
      "</li>\n",
      "<li>\n",
      "<a href=\"/reports/3331\">\n",
      "<span class=\"time\">开讲时间：2019-12-12</span>\n",
      "<span class=\"content_icon\"></span>\n",
      "<span>\n",
      "            新颖复合型手性选择体键合固定相的研究进展及其在高效手性拆分中的应用\n",
      "          </span>\n",
      "</a>\n",
      "</li>\n",
      "<li>\n",
      "<a href=\"/reports/3328\">\n",
      "<span class=\"time\">开讲时间：2019-12-12</span>\n",
      "<span class=\"content_icon\"></span>\n",
      "<span>\n",
      "            美国肯塔基大学及奖学金项目简介\n",
      "          </span>\n",
      "</a>\n",
      "</li>\n",
      "<li>\n",
      "<a href=\"/reports/3326\">\n",
      "<span class=\"time\">开讲时间：2019-12-11</span>\n",
      "<span class=\"content_icon\"></span>\n",
      "<span>\n",
      "             TiO2光催化表面化学\n",
      "          </span>\n",
      "</a>\n",
      "</li>\n",
      "<li>\n",
      "<a href=\"/reports/3329\">\n",
      "<span class=\"time\">开讲时间：2019-12-09</span>\n",
      "<span class=\"content_icon\"></span>\n",
      "<span>\n",
      "            名师讲坛：新时代京剧的创新与发展\n",
      "          </span>\n",
      "</a>\n",
      "</li>\n",
      "<li>\n",
      "<a href=\"/reports/3324\">\n",
      "<span class=\"time\">开讲时间：2019-12-09</span>\n",
      "<span class=\"content_icon\"></span>\n",
      "<span>\n",
      "            波粒二象性之新检验--理论分析和实验验证\n",
      "          </span>\n",
      "</a>\n",
      "</li>\n",
      "<li>\n",
      "<a href=\"/reports/3320\">\n",
      "<span class=\"time\">开讲时间：2019-12-06</span>\n",
      "<span class=\"content_icon\"></span>\n",
      "<span>\n",
      "            Nanoparticle Growth by Chemical Routes\n",
      "          </span>\n",
      "</a>\n",
      "</li>\n",
      "<li>\n",
      "<a href=\"/reports/3319\">\n",
      "<span class=\"time\">开讲时间：2019-12-06</span>\n",
      "<span class=\"content_icon\"></span>\n",
      "<span>\n",
      "            名师讲坛：Current development of visible light responsib\n",
      "              ...\n",
      "          </span>\n",
      "</a>\n",
      "</li>\n",
      "<li>\n",
      "<a href=\"/reports/3325\">\n",
      "<span class=\"time\">开讲时间：2019-12-06</span>\n",
      "<span class=\"content_icon\"></span>\n",
      "<span>\n",
      "            【通海讲堂】第52期——中国传统文化的话语体系\n",
      "          </span>\n",
      "</a>\n",
      "</li>\n",
      "<li>\n",
      "<a href=\"/reports/3317\">\n",
      "<span class=\"time\">开讲时间：2019-12-04</span>\n",
      "<span class=\"content_icon\"></span>\n",
      "<span>\n",
      "            名师讲坛：新时代提升公民科学素质的机遇和挑战——监测评估的视角\n",
      "          </span>\n",
      "</a>\n",
      "</li>\n",
      "<li>\n",
      "<a href=\"/reports/3322\">\n",
      "<span class=\"time\">开讲时间：2019-12-02</span>\n",
      "<span class=\"content_icon\"></span>\n",
      "<span>\n",
      "            食品功能成分与肠道菌群相互作用的是与非\n",
      "          </span>\n",
      "</a>\n",
      "</li>\n",
      "<li class=\"page active\">\n",
      "<a href=\"javascript:void(0)\">1</a>\n",
      "</li>\n",
      "<li class=\"page\">\n",
      "<a href=\"/reports?page=2\" rel=\"next\">2</a>\n",
      "</li>\n",
      "<li class=\"page\">\n",
      "<a href=\"/reports?page=3\">3</a>\n",
      "</li>\n",
      "<li class=\"page\">\n",
      "<a href=\"/reports?page=4\">4</a>\n",
      "</li>\n",
      "<li class=\"page\">\n",
      "<a href=\"/reports?page=5\">5</a>\n",
      "</li>\n",
      "<li class=\"page gap disabled\"><a href=\"javascript:void(0)\">...</a></li>\n",
      "<li class=\"next\">\n",
      "<a href=\"/reports?page=2\" rel=\"next\">下一页 </a>\n",
      "</li>\n",
      "<li class=\"last\">\n",
      "<a href=\"/reports?page=20\">末页 </a>\n",
      "</li>\n"
     ]
    }
   ],
   "source": [
    "soup_content = soup.select('.content')[0]\n",
    "for item in soup_content.select('ul > li'):\n",
    "    print(item)"
   ]
  },
  {
   "cell_type": "code",
   "execution_count": 22,
   "metadata": {
    "Collapsed": "false"
   },
   "outputs": [
    {
     "name": "stdout",
     "output_type": "stream",
     "text": [
      "[<span class=\"time\">开讲时间：2019-12-25</span>]\n",
      "[<span class=\"time\">开讲时间：2019-12-24</span>]\n",
      "[<span class=\"time\">开讲时间：2019-12-20</span>]\n",
      "[<span class=\"time\">开讲时间：2019-12-19</span>]\n",
      "[<span class=\"time\">开讲时间：2019-12-19</span>]\n",
      "[<span class=\"time\">开讲时间：2019-12-18</span>]\n",
      "[<span class=\"time\">开讲时间：2019-12-18</span>]\n",
      "[<span class=\"time\">开讲时间：2019-12-18</span>]\n",
      "[<span class=\"time\">开讲时间：2019-12-16</span>]\n",
      "[<span class=\"time\">开讲时间：2019-12-13</span>]\n",
      "[<span class=\"time\">开讲时间：2019-12-12</span>]\n",
      "[<span class=\"time\">开讲时间：2019-12-12</span>]\n",
      "[<span class=\"time\">开讲时间：2019-12-11</span>]\n",
      "[<span class=\"time\">开讲时间：2019-12-09</span>]\n",
      "[<span class=\"time\">开讲时间：2019-12-09</span>]\n",
      "[<span class=\"time\">开讲时间：2019-12-06</span>]\n",
      "[<span class=\"time\">开讲时间：2019-12-06</span>]\n",
      "[<span class=\"time\">开讲时间：2019-12-06</span>]\n",
      "[<span class=\"time\">开讲时间：2019-12-04</span>]\n",
      "[<span class=\"time\">开讲时间：2019-12-02</span>]\n",
      "[]\n",
      "[]\n",
      "[]\n",
      "[]\n",
      "[]\n",
      "[]\n",
      "[]\n",
      "[]\n"
     ]
    }
   ],
   "source": [
    "soup_content = soup.select('.content')[0]\n",
    "for item in soup_content.select('ul > li'):\n",
    "    print(item.select('.time'))"
   ]
  },
  {
   "cell_type": "code",
   "execution_count": 23,
   "metadata": {
    "Collapsed": "false"
   },
   "outputs": [
    {
     "name": "stdout",
     "output_type": "stream",
     "text": [
      "<li>\n",
      "<a href=\"/reports/3334\">\n",
      "<span class=\"time\">开讲时间：2019-12-25</span>\n",
      "<span class=\"content_icon\"></span>\n",
      "<span>\n",
      "            Accelerating algal systems and synthetic biology re\n",
      "              ...\n",
      "          </span>\n",
      "</a>\n",
      "</li>\n",
      "<li>\n",
      "<a href=\"/reports/3339\">\n",
      "<span class=\"time\">开讲时间：2019-12-24</span>\n",
      "<span class=\"content_icon\"></span>\n",
      "<span>\n",
      "            美国图书馆及信息科学专业人才教育的创新及伊大信息学院的发展\n",
      "          </span>\n",
      "</a>\n",
      "</li>\n",
      "<li>\n",
      "<a href=\"/reports/3338\">\n",
      "<span class=\"time\">开讲时间：2019-12-20</span>\n",
      "<span class=\"content_icon\"></span>\n",
      "<span>\n",
      "            金属催化剂精准设计\n",
      "          </span>\n",
      "</a>\n",
      "</li>\n",
      "<li>\n",
      "<a href=\"/reports/3337\">\n",
      "<span class=\"time\">开讲时间：2019-12-19</span>\n",
      "<span class=\"content_icon\"></span>\n",
      "<span>\n",
      "            Biomolecules\n",
      "          </span>\n",
      "</a>\n",
      "</li>\n",
      "<li>\n",
      "<a href=\"/reports/3330\">\n",
      "<span class=\"time\">开讲时间：2019-12-19</span>\n",
      "<span class=\"content_icon\"></span>\n",
      "<span>\n",
      "            In situ surface spectroscopy and microscopy of zirc\n",
      "              ...\n",
      "          </span>\n",
      "</a>\n",
      "</li>\n",
      "<li>\n",
      "<a href=\"/reports/3336\">\n",
      "<span class=\"time\">开讲时间：2019-12-18</span>\n",
      "<span class=\"content_icon\"></span>\n",
      "<span>\n",
      "            基于功能纳米探针的食品科学与健康研究新方法\n",
      "          </span>\n",
      "</a>\n",
      "</li>\n",
      "<li>\n",
      "<a href=\"/reports/3333\">\n",
      "<span class=\"time\">开讲时间：2019-12-18</span>\n",
      "<span class=\"content_icon\"></span>\n",
      "<span>\n",
      "            用光镊对微颗粒泳动的研究\n",
      "          </span>\n",
      "</a>\n",
      "</li>\n",
      "<li>\n",
      "<a href=\"/reports/3335\">\n",
      "<span class=\"time\">开讲时间：2019-12-18</span>\n",
      "<span class=\"content_icon\"></span>\n",
      "<span>\n",
      "            基金与科学问题\n",
      "          </span>\n",
      "</a>\n",
      "</li>\n",
      "<li>\n",
      "<a href=\"/reports/3332\">\n",
      "<span class=\"time\">开讲时间：2019-12-16</span>\n",
      "<span class=\"content_icon\"></span>\n",
      "<span>\n",
      "            名师讲坛：Visible light induced Controlled Radical React\n",
      "              ...\n",
      "          </span>\n",
      "</a>\n",
      "</li>\n",
      "<li>\n",
      "<a href=\"/reports/3327\">\n",
      "<span class=\"time\">开讲时间：2019-12-13</span>\n",
      "<span class=\"content_icon\"></span>\n",
      "<span>\n",
      "            “超星”数据库暨文献资源推介讲座通知\n",
      "          </span>\n",
      "</a>\n",
      "</li>\n",
      "<li>\n",
      "<a href=\"/reports/3331\">\n",
      "<span class=\"time\">开讲时间：2019-12-12</span>\n",
      "<span class=\"content_icon\"></span>\n",
      "<span>\n",
      "            新颖复合型手性选择体键合固定相的研究进展及其在高效手性拆分中的应用\n",
      "          </span>\n",
      "</a>\n",
      "</li>\n",
      "<li>\n",
      "<a href=\"/reports/3328\">\n",
      "<span class=\"time\">开讲时间：2019-12-12</span>\n",
      "<span class=\"content_icon\"></span>\n",
      "<span>\n",
      "            美国肯塔基大学及奖学金项目简介\n",
      "          </span>\n",
      "</a>\n",
      "</li>\n",
      "<li>\n",
      "<a href=\"/reports/3326\">\n",
      "<span class=\"time\">开讲时间：2019-12-11</span>\n",
      "<span class=\"content_icon\"></span>\n",
      "<span>\n",
      "             TiO2光催化表面化学\n",
      "          </span>\n",
      "</a>\n",
      "</li>\n",
      "<li>\n",
      "<a href=\"/reports/3329\">\n",
      "<span class=\"time\">开讲时间：2019-12-09</span>\n",
      "<span class=\"content_icon\"></span>\n",
      "<span>\n",
      "            名师讲坛：新时代京剧的创新与发展\n",
      "          </span>\n",
      "</a>\n",
      "</li>\n",
      "<li>\n",
      "<a href=\"/reports/3324\">\n",
      "<span class=\"time\">开讲时间：2019-12-09</span>\n",
      "<span class=\"content_icon\"></span>\n",
      "<span>\n",
      "            波粒二象性之新检验--理论分析和实验验证\n",
      "          </span>\n",
      "</a>\n",
      "</li>\n",
      "<li>\n",
      "<a href=\"/reports/3320\">\n",
      "<span class=\"time\">开讲时间：2019-12-06</span>\n",
      "<span class=\"content_icon\"></span>\n",
      "<span>\n",
      "            Nanoparticle Growth by Chemical Routes\n",
      "          </span>\n",
      "</a>\n",
      "</li>\n",
      "<li>\n",
      "<a href=\"/reports/3319\">\n",
      "<span class=\"time\">开讲时间：2019-12-06</span>\n",
      "<span class=\"content_icon\"></span>\n",
      "<span>\n",
      "            名师讲坛：Current development of visible light responsib\n",
      "              ...\n",
      "          </span>\n",
      "</a>\n",
      "</li>\n",
      "<li>\n",
      "<a href=\"/reports/3325\">\n",
      "<span class=\"time\">开讲时间：2019-12-06</span>\n",
      "<span class=\"content_icon\"></span>\n",
      "<span>\n",
      "            【通海讲堂】第52期——中国传统文化的话语体系\n",
      "          </span>\n",
      "</a>\n",
      "</li>\n",
      "<li>\n",
      "<a href=\"/reports/3317\">\n",
      "<span class=\"time\">开讲时间：2019-12-04</span>\n",
      "<span class=\"content_icon\"></span>\n",
      "<span>\n",
      "            名师讲坛：新时代提升公民科学素质的机遇和挑战——监测评估的视角\n",
      "          </span>\n",
      "</a>\n",
      "</li>\n",
      "<li>\n",
      "<a href=\"/reports/3322\">\n",
      "<span class=\"time\">开讲时间：2019-12-02</span>\n",
      "<span class=\"content_icon\"></span>\n",
      "<span>\n",
      "            食品功能成分与肠道菌群相互作用的是与非\n",
      "          </span>\n",
      "</a>\n",
      "</li>\n"
     ]
    }
   ],
   "source": [
    "soup_content = soup.select('.content')[0]\n",
    "for item in soup_content.select('ul > li'):\n",
    "    if len(item.select('.time')) > 0:\n",
    "        print(item)"
   ]
  },
  {
   "cell_type": "code",
   "execution_count": 24,
   "metadata": {
    "Collapsed": "false"
   },
   "outputs": [
    {
     "name": "stdout",
     "output_type": "stream",
     "text": [
      "/reports/3334\n",
      "/reports/3339\n",
      "/reports/3338\n",
      "/reports/3337\n",
      "/reports/3330\n",
      "/reports/3336\n",
      "/reports/3333\n",
      "/reports/3335\n",
      "/reports/3332\n",
      "/reports/3327\n",
      "/reports/3331\n",
      "/reports/3328\n",
      "/reports/3326\n",
      "/reports/3329\n",
      "/reports/3324\n",
      "/reports/3320\n",
      "/reports/3319\n",
      "/reports/3325\n",
      "/reports/3317\n",
      "/reports/3322\n"
     ]
    }
   ],
   "source": [
    "soup_content = soup.select('.content')[0]\n",
    "for item in soup_content.select('ul > li'):\n",
    "    if len(item.select('.time')) > 0:\n",
    "        print(item.a['href'])"
   ]
  },
  {
   "cell_type": "markdown",
   "metadata": {
    "Collapsed": "false"
   },
   "source": [
    "> 正式版本"
   ]
  },
  {
   "cell_type": "code",
   "execution_count": 25,
   "metadata": {
    "Collapsed": "false"
   },
   "outputs": [
    {
     "name": "stdout",
     "output_type": "stream",
     "text": [
      "['https://news.ecust.edu.cn/reports/3334', 'https://news.ecust.edu.cn/reports/3339', 'https://news.ecust.edu.cn/reports/3338', 'https://news.ecust.edu.cn/reports/3337', 'https://news.ecust.edu.cn/reports/3330', 'https://news.ecust.edu.cn/reports/3336', 'https://news.ecust.edu.cn/reports/3333', 'https://news.ecust.edu.cn/reports/3335', 'https://news.ecust.edu.cn/reports/3332', 'https://news.ecust.edu.cn/reports/3327', 'https://news.ecust.edu.cn/reports/3331', 'https://news.ecust.edu.cn/reports/3328', 'https://news.ecust.edu.cn/reports/3326', 'https://news.ecust.edu.cn/reports/3329', 'https://news.ecust.edu.cn/reports/3324', 'https://news.ecust.edu.cn/reports/3320', 'https://news.ecust.edu.cn/reports/3319', 'https://news.ecust.edu.cn/reports/3325', 'https://news.ecust.edu.cn/reports/3317', 'https://news.ecust.edu.cn/reports/3322']\n"
     ]
    }
   ],
   "source": [
    "soup_content = soup.select('.content')[0]\n",
    "report_webs = [\"\".join([original_web_address, item.a['href']]) for item in soup_content.select('ul > li') if len(item.select('.time')) > 0]\n",
    "\n",
    "print(report_webs)"
   ]
  },
  {
   "cell_type": "markdown",
   "metadata": {
    "Collapsed": "false"
   },
   "source": [
    "- 第四步，爬取每个讲座信息"
   ]
  },
  {
   "cell_type": "markdown",
   "metadata": {
    "Collapsed": "false"
   },
   "source": [
    "> 演示过程"
   ]
  },
  {
   "cell_type": "code",
   "execution_count": 26,
   "metadata": {
    "Collapsed": "false"
   },
   "outputs": [],
   "source": [
    "r = requests.get(report_webs[0], headers = headers)\n",
    "soup = BeautifulSoup(r.text, 'lxml')"
   ]
  },
  {
   "cell_type": "code",
   "execution_count": 27,
   "metadata": {
    "Collapsed": "false"
   },
   "outputs": [
    {
     "data": {
      "text/plain": [
       "<table border=\"0\" cellpadding=\"0\" cellspacing=\"0\" width=\"100%\">\n",
       "<tbody>\n",
       "<tr>\n",
       "<td align=\"left\" height=\"22\" width=\"80\"> 报告题目:</td>\n",
       "<td align=\"left\" style=\"word-break:break-all;word-wrap:break-word;\">\n",
       "          Accelerating algal systems and synthetic biology research using high-throughput strategies\n",
       "        </td>\n",
       "</tr>\n",
       "<tr><td> </td><td> </td></tr>\n",
       "<tr>\n",
       "<td align=\"left\" height=\"22\" width=\"80\"> 开始时间:</td>\n",
       "<td align=\"left\" style=\"word-break:break-all;word-wrap:break-word;\">\n",
       "          2019-12-25 13:00:00\n",
       "        </td>\n",
       "</tr>\n",
       "<tr><td> </td><td> </td></tr>\n",
       "<tr>\n",
       "<td align=\"left\" height=\"22\" width=\"80\"> 报告地点:</td>\n",
       "<td align=\"left\" style=\"word-break:break-all;word-wrap:break-word;\">\n",
       "          实验18楼315室  \n",
       "        </td>\n",
       "</tr>\n",
       "<tr><td> </td><td> </td></tr>\n",
       "<tr>\n",
       "<td align=\"left\" height=\"22\" width=\"80\"> 报 告 人:</td>\n",
       "<td align=\"left\" style=\"word-break:break-all;word-wrap:break-word;\">\n",
       "          西湖大学李小波研究员\n",
       "        </td>\n",
       "</tr>\n",
       "<tr><td> </td><td> </td></tr>\n",
       "<tr>\n",
       "<td align=\"left\" height=\"22\" width=\"80\"> 主办单位:</td>\n",
       "<td align=\"left\" style=\"word-break:break-all;word-wrap:break-word;\">\n",
       "          生物反应器工程国家重点实验室\n",
       "        </td>\n",
       "</tr>\n",
       "<tr><td> </td><td> </td></tr>\n",
       "<tr>\n",
       "<td align=\"left\" height=\"22\" width=\"80\"> 备    注:</td>\n",
       "<td align=\"left\" style=\"word-break:break-all;word-wrap:break-word;\">\n",
       "<p class=\"emtidy-7\" style=\"vertical-align:baseline;font-family:Arial;font-size:14px;\">\n",
       "<br/>\n",
       "</p>\n",
       "</td>\n",
       "</tr>\n",
       "<tr><td> </td><td> </td></tr>\n",
       "<tr>\n",
       "<td background=\"images/list_line.gif\" colspan=\"3\" height=\"25\"> </td>\n",
       "</tr>\n",
       "</tbody>\n",
       "</table>"
      ]
     },
     "execution_count": 27,
     "metadata": {},
     "output_type": "execute_result"
    }
   ],
   "source": [
    "soup.table"
   ]
  },
  {
   "cell_type": "code",
   "execution_count": 28,
   "metadata": {
    "Collapsed": "false"
   },
   "outputs": [
    {
     "name": "stdout",
     "output_type": "stream",
     "text": [
      "报告题目: 5\n",
      "Accelerating algal systems and synthetic biology research using high-throughput strategies 90\n",
      " 0\n",
      " 0\n",
      "开始时间: 5\n",
      "2019-12-25 13:00:00 19\n",
      " 0\n",
      " 0\n",
      "报告地点: 5\n",
      "实验18楼315室 9\n",
      " 0\n",
      " 0\n",
      "报 告 人: 6\n",
      "西湖大学李小波研究员 10\n",
      " 0\n",
      " 0\n",
      "主办单位: 5\n",
      "生物反应器工程国家重点实验室 14\n",
      " 0\n",
      " 0\n",
      "备    注: 7\n",
      " 0\n",
      " 0\n",
      " 0\n"
     ]
    }
   ],
   "source": [
    "for item in soup.table.select('tr'):\n",
    "    for unit in item.select('td'):\n",
    "        if unit.string is not None:\n",
    "            print(unit.string.lstrip().rstrip(), len(unit.string.lstrip().rstrip()))"
   ]
  },
  {
   "cell_type": "code",
   "execution_count": 29,
   "metadata": {
    "Collapsed": "false"
   },
   "outputs": [
    {
     "name": "stdout",
     "output_type": "stream",
     "text": [
      "报告题目: Accelerating algal systems and synthetic biology research using high-throughput strategies\n",
      "开始时间: 2019-12-25 13:00:00\n",
      "报告地点: 实验18楼315室\n",
      "报 告 人: 西湖大学李小波研究员\n",
      "主办单位: 生物反应器工程国家重点实验室\n"
     ]
    }
   ],
   "source": [
    "for item in soup.table.select('tr'):\n",
    "    cells = item.select('td')\n",
    "    if len(cells) < 2:\n",
    "        continue\n",
    "    if cells[1].string is None:\n",
    "        continue\n",
    "    if len(cells[1].string.lstrip().rstrip()) < 1:\n",
    "        continue\n",
    "    \n",
    "    print(cells[0].string.lstrip().rstrip(), cells[1].string.lstrip().rstrip())"
   ]
  },
  {
   "cell_type": "code",
   "execution_count": 30,
   "metadata": {
    "Collapsed": "false"
   },
   "outputs": [
    {
     "name": "stdout",
     "output_type": "stream",
     "text": [
      "[('报告题目', 'Accelerating algal systems and synthetic biology research using high-throughput strategies'), ('开始时间', '2019-12-25 13:00:00'), ('报告地点', '实验18楼315室'), ('报告人', '西湖大学李小波研究员'), ('主办单位', '生物反应器工程国家重点实验室')]\n"
     ]
    }
   ],
   "source": [
    "lecture_info = []\n",
    "\n",
    "for item in soup.table.select('tr'):\n",
    "    cells = item.select('td')\n",
    "    if len(cells) < 2:\n",
    "        continue\n",
    "    if cells[1].string is None:\n",
    "        continue\n",
    "    if len(cells[1].string.lstrip().rstrip()) < 1:\n",
    "        continue\n",
    "    \n",
    "    title = re.sub('\\s+', '', re.split(\":\", cells[0].string.lstrip().rstrip())[0])\n",
    "    content = cells[1].string.lstrip().rstrip()\n",
    "    lecture_info.append((title, content))\n",
    "\n",
    "print(lecture_info)"
   ]
  },
  {
   "cell_type": "markdown",
   "metadata": {
    "Collapsed": "false"
   },
   "source": [
    "> 正式版本"
   ]
  },
  {
   "cell_type": "code",
   "execution_count": 31,
   "metadata": {
    "Collapsed": "false"
   },
   "outputs": [],
   "source": [
    "import re\n",
    "import requests\n",
    "\n",
    "original_web_address = \"https://news.ecust.edu.cn\"\n",
    "web_address_fmt = \"https://news.ecust.edu.cn/reports?page={}\"\n",
    "\n",
    "# 获取网页的bs对象\n",
    "def get_web(website):\n",
    "    headers={\"User-Agent\" : \"Mozilla/5.0 (Windows; U; Windows NT 5.1; zh-CN; rv:1.9.1.6) \",\n",
    "          \"Accept\" : \"text/html,application/xhtml+xml,application/xml;q=0.9,*/*;q=0.8\",\n",
    "          \"Accept-Language\" : \"en-us\",\n",
    "          \"Connection\" : \"keep-alive\",\n",
    "          \"Accept-Charset\" : \"GB2312,utf-8;q=0.7,*;q=0.7\"}\n",
    "    r = requests.get(website, headers = headers)\n",
    "    soup = BeautifulSoup(r.text, 'lxml')\n",
    "    \n",
    "    return soup\n",
    "\n",
    "# 获取网页数量\n",
    "def get_page_num(website):\n",
    "    last_page_number = -1\n",
    "    soup = get_web(website)\n",
    "    \n",
    "    for item in soup.select('.last'):\n",
    "        found = item.find_all(href=re.compile(\"reports\\?\"))\n",
    "        if len(found) > 0:\n",
    "            last_page_number = int(re.split(\"=\", found[0]['href'])[-1])\n",
    "    \n",
    "    return last_page_number\n",
    "\n",
    "# 获取讲座的链接\n",
    "def get_lecture_links(website, original_web_address):\n",
    "    soup = get_web(website)\n",
    "    soup_content = soup.select('.content')[0]\n",
    "    report_webs = [\"\".join([original_web_address, item.a['href']]) for item in soup_content.select('ul > li') if len(item.select('.time')) > 0]\n",
    "    \n",
    "    return report_webs\n",
    "\n",
    "# 获取单个讲座信息\n",
    "def get_lecture_info(website):\n",
    "    lecture_info = []\n",
    "    soup = get_web(website)\n",
    "\n",
    "    for item in soup.table.select('tr'):\n",
    "        cells = item.select('td')\n",
    "        if len(cells) < 2:\n",
    "            continue\n",
    "        if cells[1].string is None:\n",
    "            continue\n",
    "        if len(cells[1].string.lstrip().rstrip()) < 1:\n",
    "            continue\n",
    "\n",
    "        title = re.sub('\\s+', '', re.split(\":\", cells[0].string.lstrip().rstrip())[0])\n",
    "        content = cells[1].string.lstrip().rstrip()\n",
    "        lecture_info.append((title, content))\n",
    "    \n",
    "    return lecture_info"
   ]
  },
  {
   "cell_type": "markdown",
   "metadata": {
    "Collapsed": "false"
   },
   "source": [
    "> 测试"
   ]
  },
  {
   "cell_type": "code",
   "execution_count": 32,
   "metadata": {
    "Collapsed": "false"
   },
   "outputs": [
    {
     "data": {
      "text/plain": [
       "20"
      ]
     },
     "execution_count": 32,
     "metadata": {},
     "output_type": "execute_result"
    }
   ],
   "source": [
    "get_page_num(web_address_fmt.format('1'))"
   ]
  },
  {
   "cell_type": "code",
   "execution_count": 33,
   "metadata": {
    "Collapsed": "false"
   },
   "outputs": [
    {
     "data": {
      "text/plain": [
       "['https://news.ecust.edu.cn/reports/3321',\n",
       " 'https://news.ecust.edu.cn/reports/3318',\n",
       " 'https://news.ecust.edu.cn/reports/3323',\n",
       " 'https://news.ecust.edu.cn/reports/3312',\n",
       " 'https://news.ecust.edu.cn/reports/3316',\n",
       " 'https://news.ecust.edu.cn/reports/3311',\n",
       " 'https://news.ecust.edu.cn/reports/3308',\n",
       " 'https://news.ecust.edu.cn/reports/3310',\n",
       " 'https://news.ecust.edu.cn/reports/3315',\n",
       " 'https://news.ecust.edu.cn/reports/3305',\n",
       " 'https://news.ecust.edu.cn/reports/3307',\n",
       " 'https://news.ecust.edu.cn/reports/3304',\n",
       " 'https://news.ecust.edu.cn/reports/3293',\n",
       " 'https://news.ecust.edu.cn/reports/3309',\n",
       " 'https://news.ecust.edu.cn/reports/3306',\n",
       " 'https://news.ecust.edu.cn/reports/3302',\n",
       " 'https://news.ecust.edu.cn/reports/3296',\n",
       " 'https://news.ecust.edu.cn/reports/3299',\n",
       " 'https://news.ecust.edu.cn/reports/3294',\n",
       " 'https://news.ecust.edu.cn/reports/3300']"
      ]
     },
     "execution_count": 33,
     "metadata": {},
     "output_type": "execute_result"
    }
   ],
   "source": [
    "get_lecture_links(web_address_fmt.format('2'), original_web_address)"
   ]
  },
  {
   "cell_type": "code",
   "execution_count": 34,
   "metadata": {
    "Collapsed": "false"
   },
   "outputs": [
    {
     "data": {
      "text/plain": [
       "[('报告题目', '名师讲坛：漫谈质疑与创新'),\n",
       " ('开始时间', '2019-11-29 13:30:00'),\n",
       " ('报告地点', '研究生楼第三多媒体教室'),\n",
       " ('报告人', '发展中国家科学院院士陈关荣教授'),\n",
       " ('主办单位', '信息科学与工程学院')]"
      ]
     },
     "execution_count": 34,
     "metadata": {},
     "output_type": "execute_result"
    }
   ],
   "source": [
    "get_lecture_info(\"https://news.ecust.edu.cn/reports/3321\")"
   ]
  },
  {
   "cell_type": "markdown",
   "metadata": {
    "Collapsed": "false"
   },
   "source": [
    "> 爬取讲座信息"
   ]
  },
  {
   "cell_type": "code",
   "execution_count": 35,
   "metadata": {
    "Collapsed": "false"
   },
   "outputs": [
    {
     "name": "stdout",
     "output_type": "stream",
     "text": [
      "page:  1\n",
      "https://news.ecust.edu.cn/reports/3334\n",
      "https://news.ecust.edu.cn/reports/3339\n",
      "https://news.ecust.edu.cn/reports/3338\n",
      "https://news.ecust.edu.cn/reports/3337\n",
      "https://news.ecust.edu.cn/reports/3330\n",
      "https://news.ecust.edu.cn/reports/3336\n",
      "https://news.ecust.edu.cn/reports/3333\n",
      "https://news.ecust.edu.cn/reports/3335\n",
      "https://news.ecust.edu.cn/reports/3332\n",
      "https://news.ecust.edu.cn/reports/3327\n",
      "https://news.ecust.edu.cn/reports/3331\n",
      "https://news.ecust.edu.cn/reports/3328\n",
      "https://news.ecust.edu.cn/reports/3326\n",
      "https://news.ecust.edu.cn/reports/3329\n",
      "https://news.ecust.edu.cn/reports/3324\n",
      "https://news.ecust.edu.cn/reports/3320\n",
      "https://news.ecust.edu.cn/reports/3319\n",
      "https://news.ecust.edu.cn/reports/3325\n",
      "https://news.ecust.edu.cn/reports/3317\n",
      "https://news.ecust.edu.cn/reports/3322\n",
      "page:  2\n",
      "https://news.ecust.edu.cn/reports/3321\n",
      "https://news.ecust.edu.cn/reports/3318\n",
      "https://news.ecust.edu.cn/reports/3323\n",
      "https://news.ecust.edu.cn/reports/3312\n",
      "https://news.ecust.edu.cn/reports/3316\n",
      "https://news.ecust.edu.cn/reports/3311\n",
      "https://news.ecust.edu.cn/reports/3308\n",
      "https://news.ecust.edu.cn/reports/3310\n",
      "https://news.ecust.edu.cn/reports/3315\n",
      "https://news.ecust.edu.cn/reports/3305\n",
      "https://news.ecust.edu.cn/reports/3307\n",
      "https://news.ecust.edu.cn/reports/3304\n",
      "https://news.ecust.edu.cn/reports/3293\n",
      "https://news.ecust.edu.cn/reports/3309\n",
      "https://news.ecust.edu.cn/reports/3306\n",
      "https://news.ecust.edu.cn/reports/3302\n",
      "https://news.ecust.edu.cn/reports/3296\n",
      "https://news.ecust.edu.cn/reports/3299\n",
      "https://news.ecust.edu.cn/reports/3294\n",
      "https://news.ecust.edu.cn/reports/3300\n",
      "[[('报告题目', 'Accelerating algal systems and synthetic biology research using high-throughput strategies'), ('开始时间', '2019-12-25 13:00:00'), ('报告地点', '实验18楼315室'), ('报告人', '西湖大学李小波研究员'), ('主办单位', '生物反应器工程国家重点实验室')], [('报告题目', '美国图书馆及信息科学专业人才教育的创新及伊大信息学院的发展'), ('开始时间', '2019-12-24 09:00:00'), ('报告地点', '徐汇校区图书馆201室'), ('报告人', '阮炼教授'), ('主办单位', '图书馆')], [('报告题目', '金属催化剂精准设计'), ('开始时间', '2019-12-20 14:00:00'), ('报告地点', '实验三楼102室'), ('报告人', '中国科学技术大学博士生导师路军岭教授'), ('主办单位', '化学与分子工程学院')], [('报告题目', 'Biomolecules'), ('开始时间', '2019-12-19 14:00:00'), ('报告地点', '实验三楼102室'), ('报告人', '英国巴斯大学 Tony D. James'), ('主办单位', '化学与分子工程学院')], [('报告题目', 'In situ surface spectroscopy and microscopy of zirconia based model catalysts'), ('开始时间', '2019-12-19 10:00:00'), ('报告地点', '徐汇校区实验三楼102室'), ('报告人', '维也纳工业大学物理化学讲席教授  Günther\\xa0Rupprechter'), ('主办单位', '化学与分子工程学院')], [('报告题目', '基于功能纳米探针的食品科学与健康研究新方法'), ('开始时间', '2019-12-18 10:30:00'), ('报告地点', '实验18楼315室'), ('报告人', '南开大学医学院王硕教授'), ('主办单位', '生物反应器工程国家重点实验室')], [('报告题目', '用光镊对微颗粒泳动的研究'), ('开始时间', '2019-12-18 10:00:00'), ('报告地点', '徐汇校区实验一楼2层大会议室'), ('报告人', 'Daniel H. Ou-Yang教授，美国里海大学乳液聚合物中心主任'), ('主办单位', '国际合作与交流处，材料科学与工程学院')], [('报告题目', '基金与科学问题'), ('开始时间', '2019-12-18 09:30:00'), ('报告地点', '实验18楼315室'), ('报告人', '广州大学杨新泉教授'), ('主办单位', '生物反应器工程国家重点实验室')], [('报告题目', '名师讲坛：Visible light induced Controlled Radical Reactions and Beyond'), ('开始时间', '2019-12-16 10:00:00'), ('报告地点', '徐汇校区第四教学楼112'), ('报告人', '华中师范大学 肖文精教授'), ('主办单位', '研究生院 药学院')], [('报告题目', '“超星”数据库暨文献资源推介讲座通知'), ('开始时间', '2019-12-13 13:30:00'), ('报告地点', '奉贤校区800人剧场'), ('报告人', '超星集团上海分公司讲师马乐、图书馆学科馆员焦长红、常亚青'), ('主办单位', '图书馆、商学院')], [('报告题目', '新颖复合型手性选择体键合固定相的研究进展及其在高效手性拆分中的应用'), ('开始时间', '2019-12-12 15:00:00'), ('报告地点', '徐汇校区实验三楼102室'), ('报告人', '新加坡国立大学 龚银汉教授'), ('主办单位', '化学与分子工程学院')], [('报告题目', '美国肯塔基大学及奖学金项目简介'), ('开始时间', '2019-12-12 12:00:00'), ('报告地点', '奉贤校区B教107'), ('报告人', '美国肯塔基大学工学院国际合作事务主任 张裕明教授'), ('主办单位', '国际合作与交流处')], [('报告题目', 'TiO2光催化表面化学'), ('开始时间', '2019-12-11 10:00:00'), ('报告地点', '实验四楼207室'), ('报告人', '中国科学技术大学化学物理系黄伟新教授'), ('主办单位', '化学与分子工程学院')], [('报告题目', '名师讲坛：新时代京剧的创新与发展'), ('开始时间', '2019-12-09 18:30:00'), ('报告地点', '八角亭二楼报告厅'), ('报告人', '武汉京剧院院长 刘子微'), ('主办单位', '研究生院、化工学院')], [('报告题目', '波粒二象性之新检验--理论分析和实验验证'), ('开始时间', '2019-12-09 14:30:00'), ('报告地点', '理学院115会议室'), ('报告人', '华南理工大学 李志远教授'), ('主办单位', '理学院')], [('报告题目', 'Nanoparticle Growth by Chemical Routes'), ('开始时间', '2019-12-06 14:30:00'), ('报告地点', '商学院大楼401室'), ('报告人', 'Prof. Alireza Z. Moshfegh, Sharif University of Technology'), ('主办单位', '化学与分子工程学院')], [('报告题目', '名师讲坛：Current development of visible light responsible graphitic carbon nitride  and hexagonal boron carbon nitride photocatalysts'), ('开始时间', '2019-12-06 13:30:00'), ('报告地点', '商学院大楼401室'), ('报告人', 'Prof. Masakazu Anpo, Osaka Prefecture University'), ('主办单位', '化学与分子工程学院')], [('报告题目', '【通海讲堂】第52期——中国传统文化的话语体系'), ('开始时间', '2019-12-06 13:30:00'), ('报告地点', '奉贤校区通海厅'), ('报告人', '华东师范大学终身教授潘文国'), ('主办单位', '校长办公室、外国语学院')], [('报告题目', '名师讲坛：新时代提升公民科学素质的机遇和挑战——监测评估的视角'), ('开始时间', '2019-12-04 13:30:00'), ('报告地点', '教学八楼107室'), ('报告人', '中国科普研究所何薇研究员'), ('主办单位', '马克思主义学院')], [('报告题目', '食品功能成分与肠道菌群相互作用的是与非'), ('开始时间', '2019-12-02 14:00:00'), ('报告地点', '实验18楼315室'), ('报告人', '美国麻省大学（阿莫斯特）肖航教授'), ('主办单位', '生物反应器工程国家重点实验室')], [('报告题目', '名师讲坛：漫谈质疑与创新'), ('开始时间', '2019-11-29 13:30:00'), ('报告地点', '研究生楼第三多媒体教室'), ('报告人', '发展中国家科学院院士陈关荣教授'), ('主办单位', '信息科学与工程学院')], [('报告题目', '【通海讲堂】第51期——聚合物分子刷及其功能材料'), ('开始时间', '2019-11-29 13:30:00'), ('报告地点', '奉贤校区通海厅'), ('报告人', '中国科学院上海有机化学研究所研究员黄晓宇'), ('主办单位', '校长办公室、材料科学与工程学院')], [('报告题目', 'Can we discover drugs for histone acetyltransferases?'), ('开始时间', '2019-11-29 10:00:00'), ('报告地点', '实验18楼315室'), ('报告人', '澳大利亚莫纳什大学药物科学研究院教授Jonathan Baell'), ('主办单位', '生物反应器工程国家重点实验室')], [('报告题目', '离子液体和催化'), ('开始时间', '2019-11-28 15:00:00'), ('报告地点', '实验四楼207'), ('报告人', '刘志敏 研究员 中科院化学所'), ('主办单位', '化学与分子工程学院')], [('报告题目', '名师讲坛：历次科技革命及启示'), ('开始时间', '2019-11-27 13:30:00'), ('报告地点', '教学八楼107室'), ('报告人', '王滨研究员    同济大学马克思主义学院'), ('主办单位', '马克思主义学院')], [('报告题目', '日本高等教育发展与一流大学建设'), ('开始时间', '2019-11-27 13:30:00'), ('报告地点', '社会科学高等研究院会议室'), ('报告人', '广岛大学黄福涛教授'), ('主办单位', '高等教育研究所'), ('备注', '上海交通大学客座教授和浙江大学兼职教授。同时，还兼任中国高教学会高等教育学专业委员会常务理事，日本高等教育国际基准协会理事，Higher Education, Journal of Studies in International Education , International Journal of Educational Development，Higher Education Policy and Development 和Policy Reviews in Higher Education编委会委员。')], [('报告题目', 'Advancing oxide photoelectrode performance by enhanced carrier transport towards standalone solar water splitting'), ('开始时间', '2019-11-26 14:00:00'), ('报告地点', '实验一楼 第一会议室'), ('报告人', '瑞士洛桑联邦理工学院潘林枫博士'), ('主办单位', '材料科学与工程学院')], [('报告题目', '工程教育改革的路径选择'), ('开始时间', '2019-11-22 13:30:00'), ('报告地点', '第四教学楼306会议室'), ('报告人', '北京航空航天大学雷庆教授'), ('主办单位', '高等教育研究所')], [('报告题目', '【通海讲堂】第50期——体育管理中的危机干预和领导力'), ('开始时间', '2019-11-22 13:30:00'), ('报告地点', '奉贤校区通海厅'), ('报告人', '陈思齐'), ('主办单位', '校长办公室、体育科学与工程学院')], [('报告题目', 'Metabolism in Protists: exploring different, minimal and cryptic'), ('开始时间', '2019-11-22 10:10:00'), ('报告地点', '徐汇校区实验三楼102室'), ('报告人', 'Prof. Michael Ginger'), ('主办单位', '国际合作与交流处、化学分子与工程学院'), ('备注', 'Prof. Michael Ginger – Dean of Applied Sciences,\\r\\nUniversity of Huddersfield. UK')], [('报告题目', 'SCI论文写作技巧与投稿策略'), ('开始时间', '2019-11-22 10:00:00'), ('报告地点', '实验18楼315室'), ('报告人', '中山大学  蔡佩娥(Pheier Saw) 研究员'), ('主办单位', '生物反应器工程国家重点实验室')], [('报告题目', 'Unravelling the Mechanism of Excited State Interligand Energy Transfer and the Engineering of Dual-Emission in [Ir(C^N)2(N^N)]+ Complexes'), ('开始时间', '2019-11-22 09:20:00'), ('报告地点', '徐汇校区实验三楼102室'), ('报告人', 'Prof. Paul Elliott'), ('主办单位', '国际合作与交流处、化学分子与工程学院'), ('备注', 'Prof. Paul Elliott – Associate Dean of Applied\\r\\nSciences (International), University of Huddersfield, UK')], [('报告题目', 'ScienceDirect, a leading platform of peer reviewed scholarly literature'), ('开始时间', '2019-11-20 13:30:00'), ('报告地点', '徐汇校区图书馆201室'), ('报告人', 'Dr. Anjin Xie, Senior Trainer of Elsevier'), ('主办单位', '图书馆、国际教育学院')], [('报告题目', 'Emerging contaminants: current analytical methods, fate and toxicity in the environment, including WWTPs'), ('开始时间', '2019-11-20 10:00:00'), ('报告地点', '实验八楼317'), ('报告人', 'Prof. Nikolaos S. Thomaidis'), ('主办单位', '资源与环境工程学院')], [('报告题目', '硫系材料的应用现况和研究趋势'), ('开始时间', '2019-11-19 09:00:00'), ('报告地点', '实验一楼第一会议室'), ('报告人', '章向华（法国雷恩大学）'), ('主办单位', '材料科学与工程学院')], [('报告题目', 'Supramolecular catalysis'), ('开始时间', '2019-11-17 14:30:00'), ('报告地点', '实验三楼102室'), ('报告人', 'UC Berkeley, Professor F. Dean Toste'), ('主办单位', '化学学院、费林加诺贝尔奖科学家联合研究中心')], [('报告题目', '面向能源小分子的金属纳米催化剂原子尺度精准调控'), ('开始时间', '2019-11-15 16:00:00'), ('报告地点', '实验三楼102会议室'), ('报告人', '中国科学技术大学化学系 吴宇恩教授'), ('主办单位', '化学与分子工程学院')], [('报告题目', '新时代中国特色大国外交与当前热点'), ('开始时间', '2019-11-14 14:00:00'), ('报告地点', '商学院新大楼401室'), ('报告人', '联合国国际法委员会委员黄惠康'), ('主办单位', '华东理工大学')], [('报告题目', '华东理工大学与英国布里斯托大学学生交流项目信息说明会通知'), ('开始时间', '2019-11-14 12:20:00'), ('报告地点', '奉贤校区B107'), ('报告人', 'Kathryn Segesser博士'), ('主办单位', '国际合作与交流处')], [('报告题目', 'Ultralarge Elasticity in Nanoscale Covalent Crystals: Si and Diamond'), ('开始时间', '2019-11-14 10:00:00'), ('报告地点', '实验十五楼715会议室'), ('报告人', '上海科技大学张洪题助理教授'), ('主办单位', '材料科学与工程学院')]]\n"
     ]
    }
   ],
   "source": [
    "lectures_info = []\n",
    "page_num = get_page_num(web_address_fmt.format('1'))\n",
    "\n",
    "for i in range(1, 3):\n",
    "    print('page: ', i)\n",
    "    lecture_links = get_lecture_links(web_address_fmt.format(str(i)), original_web_address)\n",
    "    for lecture_link in lecture_links:\n",
    "        print(lecture_link)\n",
    "        lectures_info.append(get_lecture_info(lecture_link))\n",
    "\n",
    "print(lectures_info)"
   ]
  },
  {
   "cell_type": "markdown",
   "metadata": {
    "Collapsed": "false"
   },
   "source": [
    "> 后续处理 —— 导出数据到EXCEL"
   ]
  },
  {
   "cell_type": "code",
   "execution_count": 36,
   "metadata": {
    "Collapsed": "false"
   },
   "outputs": [],
   "source": [
    "import pandas as pd"
   ]
  },
  {
   "cell_type": "code",
   "execution_count": 37,
   "metadata": {
    "Collapsed": "false"
   },
   "outputs": [],
   "source": [
    "lecture_data = pd.DataFrame([(item[0][1], item[1][1], item[2][1], item[3][1], item[4][1]) for item in lectures_info])\n",
    "item = lectures_info[0]\n",
    "lecture_data.columns = (item[0][0], item[1][0], item[2][0], item[3][0], item[4][0])\n",
    "lecture_data.to_excel('lecture_data.xlsx', index = False)"
   ]
  },
  {
   "cell_type": "markdown",
   "metadata": {
    "Collapsed": "false"
   },
   "source": [
    "> 后续处理 —— 推送讲座信息"
   ]
  },
  {
   "cell_type": "code",
   "execution_count": 38,
   "metadata": {
    "Collapsed": "false"
   },
   "outputs": [
    {
     "name": "stdout",
     "output_type": "stream",
     "text": [
      "==================================================讲座信息==================================================\n",
      "\n",
      "报告题目: Accelerating algal systems and synthetic biology research using high-throughput strategies\n",
      "开始时间: 2019-12-25 13:00:00\n",
      "报告地点: 实验18楼315室\n",
      "报告人: 西湖大学李小波研究员\n",
      "主办单位: 生物反应器工程国家重点实验室\n",
      "\n",
      "\n",
      "报告题目: 美国图书馆及信息科学专业人才教育的创新及伊大信息学院的发展\n",
      "开始时间: 2019-12-24 09:00:00\n",
      "报告地点: 徐汇校区图书馆201室\n",
      "报告人: 阮炼教授\n",
      "主办单位: 图书馆\n",
      "\n",
      "============================================================================================================\n",
      "\n"
     ]
    }
   ],
   "source": [
    "import arrow\n",
    "\n",
    "lecture_to_be_pushed = [lecture for lecture in lectures_info if arrow.get(lecture[1][1]) > arrow.utcnow()]\n",
    "\n",
    "lecture_text = \"=\" * 50 + \"讲座信息\" + \"=\" * 50 + \"\\n\"\n",
    "for lecture in lecture_to_be_pushed:\n",
    "    lecture_text = \"\\n\".join([lecture_text, \"\\n\".join([\": \".join(item) for item in lecture]), \"\\n\"])\n",
    "\n",
    "lecture_text = \"\".join([lecture_text, \"=\" * 108 + \"\\n\"])\n",
    "print(lecture_text)"
   ]
  },
  {
   "cell_type": "code",
   "execution_count": 39,
   "metadata": {
    "Collapsed": "false"
   },
   "outputs": [
    {
     "data": {
      "text/plain": [
       "{}"
      ]
     },
     "execution_count": 39,
     "metadata": {},
     "output_type": "execute_result"
    }
   ],
   "source": [
    "import yagmail\n",
    "\n",
    "yag = yagmail.SMTP(\"plutoese@126.com\", \"1q2w3e4r5t\", host='smtp.126.com')\n",
    "yag.send('cfzhang@163.com', '最新讲座信息', lecture_text)"
   ]
  }
 ],
 "metadata": {
  "kernelspec": {
   "display_name": "Python 3",
   "language": "python",
   "name": "python3"
  },
  "language_info": {
   "codemirror_mode": {
    "name": "ipython",
    "version": 3
   },
   "file_extension": ".py",
   "mimetype": "text/x-python",
   "name": "python",
   "nbconvert_exporter": "python",
   "pygments_lexer": "ipython3",
   "version": "3.7.4"
  }
 },
 "nbformat": 4,
 "nbformat_minor": 4
}
