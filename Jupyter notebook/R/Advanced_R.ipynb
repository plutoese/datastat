{
  "cells": [
    {
      "cell_type": "markdown",
      "source": [
        "# Advanced R\n",
        "---"
      ],
      "metadata": {}
    },
    {
      "cell_type": "markdown",
      "source": [
        "## 数据结构\n",
        "\n",
        "给定一个对象，知道它是由什么数据结构组成的最好办法就是使用str()。\n",
        "\n",
        "\n",
        "### 向量\n",
        "\n",
        "R中最基础的数据结构就是向量。它包括两种风格：\n",
        "\n",
        "- 原子向量 - 所有元素必须是相同类型的数据\n",
        "\n",
        "- 列表\n",
        "\n",
        "它们共有3个共同性质属性\n",
        "\n",
        "- 类型 - typeof()，它是什么\n",
        "\n",
        "- 长度 - length()，它包含多少元素\n",
        "\n",
        "- 属性 - attributes()，附加的任意元数据\n",
        "\n",
        "> 使用is.atomic(x) || is.list(x)来判别一个对象是否为向量。\n",
        "\n",
        "\n",
        "#### 原子向量\n",
        "\n",
        "4种常见类型的原子向量\n",
        "\n",
        "- 逻辑型(logical)\n",
        "- 整型(integer)\n",
        "- 双精度型(double)（通常又称为数值型(numeric)）\n",
        "- 字符型(character)\n",
        "\n",
        "通常使用c()来创建原子向量。原子向量总是被展开的，即使嵌套使用c()。\n",
        "\n",
        "缺失值用NA代表，它是一个长度为1的逻辑向量"
      ],
      "metadata": {}
    },
    {
      "cell_type": "code",
      "source": [
        "print(c(1, c(2, c(3, 4))))\n",
        "print(c(1, 2, 3, 4))\n",
        "\n",
        "# [1] 1 2 3 4\n",
        "# [1] 1 2 3 4"
      ],
      "outputs": [
        {
          "output_type": "stream",
          "name": "stdout",
          "text": [
            "[1] 1 2 3 4\n",
            "[1] 1 2 3 4\n"
          ]
        }
      ],
      "execution_count": 1,
      "metadata": {}
    },
    {
      "cell_type": "markdown",
      "source": [
        "**类型和测试**\n",
        "\n",
        "给定一个向量，可以使用typeof()来确定它的类型，或者使用\"is\"函数来判断它是否为制定的类型。\n",
        "\n",
        "- is.character()\n",
        "- is.double()\n",
        "- is.integer()\n",
        "- is.logical()\n",
        "\n",
        "或者更一般地\n",
        "\n",
        "- is.atomic()\n",
        "\n",
        "**强制转换**\n",
        "\n",
        "当把不同类型的数据结合成一个向量时，它们会被强制转换成最具灵活性的数据类型。\n",
        "\n",
        "用户也可以使用as.character()、as.double()、as.integer()或as.logical()来进行显式强制转换。\n",
        "\n",
        "\n",
        "#### 列表\n",
        "\n",
        "列表中的元素可以是任意类型。列表有时称为递归向量。"
      ],
      "metadata": {}
    },
    {
      "cell_type": "code",
      "source": [
        "x <- list(list(list()))\n",
        "str(x)\n",
        "# List of 1\n",
        "# $ :List of 1\n",
        "#  ..$ : list()\n",
        "\n",
        "print(is.recursive(x))\n",
        "# [1] TRUE"
      ],
      "outputs": [
        {
          "output_type": "stream",
          "name": "stdout",
          "text": [
            "List of 1\n",
            " $ :List of 1\n",
            "  ..$ : list()\n",
            "[1] TRUE\n"
          ]
        }
      ],
      "execution_count": 2,
      "metadata": {}
    },
    {
      "cell_type": "markdown",
      "source": [
        "可以使用is.list()来判断列表，使用as.list()强制转换为列表，使用unlist()将列表转换为原子向量。数据框和线性模型对象（使用lm()构建）都是列表。"
      ],
      "metadata": {}
    },
    {
      "cell_type": "code",
      "source": [
        "print(is.list(mtcars))\n",
        "# [1] TRUE"
      ],
      "outputs": [
        {
          "output_type": "stream",
          "name": "stdout",
          "text": [
            "[1] TRUE\n"
          ]
        }
      ],
      "execution_count": 3,
      "metadata": {}
    },
    {
      "cell_type": "markdown",
      "source": [
        "### 属性\n",
        "\n",
        "所有的对象都可以通过任意附加的属性来存储对象的元数据。可以通过attr()单独访问对象的每一个属性，也可以使用attributes()同时访问所有的属性。"
      ],
      "metadata": {}
    },
    {
      "cell_type": "code",
      "source": [
        "y <- 1:10\n",
        "attr(y, \"my_attribute\") <- \"This is a vector\"\n",
        "print(attr(y, \"my_attribute\"))\n",
        "# [1] \"This is a vector\"\n",
        "\n",
        "str(attributes(y))\n",
        "# List of 1\n",
        "#  $ my_attribute: chr \"This is a vector\""
      ],
      "outputs": [
        {
          "output_type": "stream",
          "name": "stdout",
          "text": [
            "[1] \"This is a vector\"\n",
            "List of 1\n",
            " $ my_attribute: chr \"This is a vector\"\n"
          ]
        }
      ],
      "execution_count": 4,
      "metadata": {}
    },
    {
      "cell_type": "markdown",
      "source": [
        "structure()函数可以返回一个属性被修改了的新对象。默认情况下，当向量被修改后它的大多数属性都会丢失。但3个最重要的属性不会丢失：\n",
        "\n",
        "- 名字 name\n",
        "- 维度 dimension\n",
        "- 类 class"
      ],
      "metadata": {}
    },
    {
      "cell_type": "code",
      "source": [
        "print(y[1])\n",
        "# [1] 1\n",
        "\n",
        "print(attributes(y[1]))\n",
        "# NULL"
      ],
      "outputs": [
        {
          "output_type": "stream",
          "name": "stdout",
          "text": [
            "[1] 1\n",
            "NULL\n"
          ]
        }
      ],
      "execution_count": 5,
      "metadata": {}
    },
    {
      "cell_type": "markdown",
      "source": [
        "这些属性中的每一个都使用特定的存取函数来获取和设置。当使用这些属性时，使用names(x)、class(x)和dim(x)，而不是attr(x, \"names\")、attr(x, \"class\")和attr(x, \"dim\")。\n",
        "\n",
        "**名字**\n",
        "\n",
        "可以用3种方式来命名向量中的元素。\n",
        "\n",
        "- 创建时命名\n",
        "- 修改现有向量的名字\n",
        "- 复制一个向量并修改它的名字\n",
        "\n",
        "可以使用unname(x)来创建没有名字的新向量，或者使用names(x) <- NULL去掉向量中的名称。"
      ],
      "metadata": {}
    },
    {
      "cell_type": "code",
      "source": [
        "# 创建时命名\n",
        "x <- c(a = 1, b = 2, c = 3)\n",
        "\n",
        "# 修改现有向量的名字\n",
        "x <- 1:3\n",
        "names(x) <- c(\"a\", \"b\", \"c\")\n",
        "\n",
        "# 复制一个向量并修改它的名字\n",
        "x <- setNames(1:3, c(\"a\", \"b\", \"c\"))"
      ],
      "outputs": [],
      "execution_count": 6,
      "metadata": {}
    },
    {
      "cell_type": "markdown",
      "source": [
        "#### 因子\n",
        "\n",
        "因子经常用来存储分类数据，它建立在整型向量的基础之上。它具有两个属性：class()和levels()。levels()定义因子中所有可能的取值。虽然因子看上去很像字符串向量，但它其实是整型。\n",
        "\n",
        "在调用read.csv()函数时，对na.strings参数进行设置通常是一个好的方法。"
      ],
      "metadata": {}
    },
    {
      "cell_type": "code",
      "source": [
        "x <- factor(c(\"a\", \"b\", \"b\", \"a\"))\n",
        "print(x)\n",
        "# [1] a b b a\n",
        "# Levels: a b\n",
        "\n",
        "print(levels(x))\n",
        "# [1] \"a\" \"b\""
      ],
      "outputs": [
        {
          "output_type": "stream",
          "name": "stdout",
          "text": [
            "[1] a b b a\n",
            "Levels: a b\n",
            "[1] \"a\" \"b\"\n"
          ]
        }
      ],
      "execution_count": 7,
      "metadata": {}
    },
    {
      "cell_type": "markdown",
      "source": [
        "### 矩阵和数组\n",
        "\n",
        "给一个原子向量添加dim()属性之后，它的行为就像多维数组（array）了。数组的一个特例就是矩阵（matrix），它是二维的。"
      ],
      "metadata": {}
    },
    {
      "cell_type": "code",
      "source": [
        "a <- matrix(1:6, ncol = 3, nrow = 2)\n",
        "print(a)\n",
        "#      [,1] [,2] [,3]\n",
        "# [1,]    1    3    5\n",
        "# [2,]    2    4    6\n",
        "\n",
        "c <- 1:6\n",
        "dim(c) <- c(3, 2)\n",
        "print(c)\n",
        "#      [,1] [,2]\n",
        "# [1,]    1    4\n",
        "# [2,]    2    5\n",
        "# [3,]    3    6"
      ],
      "outputs": [
        {
          "output_type": "stream",
          "name": "stdout",
          "text": [
            "     [,1] [,2] [,3]\n",
            "[1,]    1    3    5\n",
            "[2,]    2    4    6\n",
            "     [,1] [,2]\n",
            "[1,]    1    4\n",
            "[2,]    2    5\n",
            "[3,]    3    6\n"
          ]
        }
      ],
      "execution_count": 8,
      "metadata": {}
    },
    {
      "cell_type": "markdown",
      "source": [
        "length()和names()具有高维普适性。\n",
        "\n",
        "- 对矩阵来说，length()返回矩阵元素个数，dim()返回矩阵维度（相当于nrow()和ncol()）\n",
        "\n",
        "- 对矩阵来说，names()相当于rownames()和colnames()；对数组来说，相当于dimnames()"
      ],
      "metadata": {}
    },
    {
      "cell_type": "code",
      "source": [
        "print(length(a))\n",
        "# [1] 6\n",
        "\n",
        "print(dim(a))\n",
        "# [1] 2 3\n",
        "\n",
        "print(nrow(a))\n",
        "# [1] 2\n",
        "\n",
        "print(ncol(a))\n",
        "# [1] 3\n",
        "\n",
        "print(names(a))\n",
        "# NULL"
      ],
      "outputs": [
        {
          "output_type": "stream",
          "name": "stdout",
          "text": [
            "[1] 6\n",
            "[1] 2 3\n",
            "[1] 2\n",
            "[1] 3\n",
            "NULL\n"
          ]
        }
      ],
      "execution_count": 9,
      "metadata": {}
    },
    {
      "cell_type": "markdown",
      "source": [
        "### 数据框\n",
        "\n",
        "#### 数据框构建\n",
        "\n",
        "使用data.frame()来构建数据框。注意的是，data.frame()的默认行为是把字符串转换为因子，使用参数stringAsFactors=FALSE来禁止这种转换。"
      ],
      "metadata": {}
    },
    {
      "cell_type": "code",
      "source": [
        "df <- data.frame(\n",
        "    x = 1:3,\n",
        "    y = c(\"a\", \"b\", \"c\"),\n",
        "    stringsAsFactors = FALSE\n",
        ")\n",
        "str(df)\n",
        "# 'data.frame':\t3 obs. of  2 variables:\n",
        "#  $ x: int  1 2 3\n",
        "#  $ y: chr  \"a\" \"b\" \"c\""
      ],
      "outputs": [
        {
          "output_type": "stream",
          "name": "stdout",
          "text": [
            "'data.frame':\t3 obs. of  2 variables:\n",
            " $ x: int  1 2 3\n",
            " $ y: chr  \"a\" \"b\" \"c\"\n"
          ]
        }
      ],
      "execution_count": 10,
      "metadata": {}
    },
    {
      "cell_type": "markdown",
      "source": [
        "#### 类型判断与强制转换\n",
        "\n",
        "要判断一个对象是不是数据框，可以使用class()，或者直接使用is.data.frame()。"
      ],
      "metadata": {}
    },
    {
      "cell_type": "code",
      "source": [
        "print(typeof(df))\n",
        "# [1] \"list\"\n",
        "\n",
        "print(class(df))\n",
        "# [1] \"data.frame\"\n",
        "\n",
        "print(is.data.frame(df))\n",
        "# [1] TRUE"
      ],
      "outputs": [
        {
          "output_type": "stream",
          "name": "stdout",
          "text": [
            "[1] \"list\"\n",
            "[1] \"data.frame\"\n",
            "[1] TRUE\n"
          ]
        }
      ],
      "execution_count": 11,
      "metadata": {}
    },
    {
      "cell_type": "markdown",
      "source": [
        "#### 合并数据框\n",
        "\n",
        "可以使用cbind()和rbind()对数据框进行合并。经常犯的一个错误就是使用cbind()将向量合并到一起来创建数据框，这是没用的，因为cbind()将创建一个矩阵，除非其中一个参数本身就是数据框。"
      ],
      "metadata": {}
    },
    {
      "cell_type": "markdown",
      "source": [
        "#### 特殊列\n",
        "\n",
        "数据框也可能有一列是由列表构成的，但是直接用data.frame()创建时会出错，可以使用I()来避免这种错误。"
      ],
      "metadata": {}
    },
    {
      "cell_type": "code",
      "source": [
        "df <- data.frame(x = 1:3)\n",
        "df$y <- list(1:2, 1:3, 1:4)\n",
        "print(df)\n",
        "#   x          y\n",
        "# 1 1       1, 2\n",
        "# 2 2    1, 2, 3\n",
        "# 3 3 1, 2, 3, 4\n",
        "\n",
        "df1 <- data.frame(x = 1:3, y = I(list(1:2, 1:3, 1:4)))\n",
        "print(df1)\n",
        "#   x          y\n",
        "# 1 1       1, 2\n",
        "# 2 2    1, 2, 3\n",
        "# 3 3 1, 2, 3, 4"
      ],
      "outputs": [
        {
          "output_type": "stream",
          "name": "stdout",
          "text": [
            "  x          y\n",
            "1 1       1, 2\n",
            "2 2    1, 2, 3\n",
            "3 3 1, 2, 3, 4\n",
            "  x          y\n",
            "1 1       1, 2\n",
            "2 2    1, 2, 3\n",
            "3 3 1, 2, 3, 4\n"
          ]
        }
      ],
      "execution_count": 12,
      "metadata": {}
    },
    {
      "cell_type": "markdown",
      "source": [
        "## 子集选取\n",
        "\n",
        "### 数据类型\n",
        "\n",
        "#### 原子向量\n",
        "\n",
        "- 正整数返回指定位置上的元素\n",
        "\n",
        "- 负整数不包括指定位置上的元素\n",
        "\n",
        "- 逻辑向量只选择对应于逻辑向量的相应位置为TRUE的位置\n",
        "\n",
        "- 空索引返回原始向量\n",
        "\n",
        "- 0（Zero）返回长度为0的向量\n",
        "\n",
        "- 字符串向量返回与索引中的名字相匹配的元素"
      ],
      "metadata": {}
    },
    {
      "cell_type": "code",
      "source": [
        "x <- c(2.1, 4.2, 3.3, 5.4)\n",
        "# [1] 2.1 4.2 3.3 5.4\n",
        "\n",
        "print(x[c(1, 3)])\n",
        "# [1] 2.1 3.3\n",
        "\n",
        "print(x[-c(1, 3)])\n",
        "# [1] 4.2 5.4\n",
        "\n",
        "print(x[x > 3])\n",
        "# [1] 4.2 3.3 5.4\n",
        "\n",
        "print(x[])\n",
        "# [1] 2.1 4.2 3.3 5.4\n",
        "\n",
        "print(x[0])\n",
        "# numeric(0)\n",
        "\n",
        "(y <- setNames(x, letters[1:4]))\n",
        "#   a   b   c   d \n",
        "# 2.1 4.2 3.3 5.4\n",
        "print(y[c(\"a\", \"a\", \"a\")])\n",
        "#   a   a   a \n",
        "# 2.1 2.1 2.1 "
      ],
      "outputs": [
        {
          "output_type": "stream",
          "name": "stdout",
          "text": [
            "[1] 2.1 3.3\n",
            "[1] 4.2 5.4\n",
            "[1] 4.2 3.3 5.4\n",
            "[1] 2.1 4.2 3.3 5.4\n",
            "numeric(0)\n"
          ]
        },
        {
          "output_type": "display_data",
          "data": {
            "text/html": [
              "<dl class=dl-horizontal>\n",
              "\t<dt>a</dt>\n",
              "\t\t<dd>2.1</dd>\n",
              "\t<dt>b</dt>\n",
              "\t\t<dd>4.2</dd>\n",
              "\t<dt>c</dt>\n",
              "\t\t<dd>3.3</dd>\n",
              "\t<dt>d</dt>\n",
              "\t\t<dd>5.4</dd>\n",
              "</dl>\n"
            ],
            "text/latex": [
              "\\begin{description*}\n",
              "\\item[a] 2.1\n",
              "\\item[b] 4.2\n",
              "\\item[c] 3.3\n",
              "\\item[d] 5.4\n",
              "\\end{description*}\n"
            ],
            "text/markdown": [
              "a\n",
              ":   2.1b\n",
              ":   4.2c\n",
              ":   3.3d\n",
              ":   5.4\n",
              "\n"
            ],
            "text/plain": [
              "  a   b   c   d \n",
              "2.1 4.2 3.3 5.4 "
            ]
          },
          "metadata": {}
        },
        {
          "output_type": "stream",
          "name": "stdout",
          "text": [
            "  a   a   a \n",
            "2.1 2.1 2.1 \n"
          ]
        }
      ],
      "execution_count": 13,
      "metadata": {}
    },
    {
      "cell_type": "markdown",
      "source": [
        "#### 列表\n",
        "\n",
        "使用 \\[ 总是返回列表，使用\\[\\[ 和 $，可以取出列表中的元素"
      ],
      "metadata": {}
    },
    {
      "cell_type": "markdown",
      "source": [
        "#### 矩阵和数组\n",
        "\n",
        "可以使用3种方法从高维数据结构中选取子集\n",
        "\n",
        "- 使用多个向量 - 对一维选取方法进行泛化：为每一维数据给出一个一维索引，用逗号隔开，如果某一维的索引为空，说明要保留这一维的所有数据\n",
        "\n",
        "- 使用单个向量\n",
        "\n",
        "- 使用矩阵\n",
        "\n",
        "默认情况下，\\[ 将结果简化到尽可能低的维度"
      ],
      "metadata": {}
    },
    {
      "cell_type": "code",
      "source": [
        "a <- matrix(1:9, nrow = 3)\n",
        "colnames(a) <- c(\"A\", \"B\", \"C\")\n",
        "print(a[1:2, ])\n",
        "#      A B C\n",
        "# [1,] 1 4 7\n",
        "# [2,] 2 5 8\n",
        "\n",
        "vals <- outer(1:5, 1:5, FUN = \"paste\", sep = \",\")\n",
        "select <- matrix(ncol = 2, byrow = TRUE, c(\n",
        "    1, 1,\n",
        "    3, 1,\n",
        "    2, 4\n",
        "))\n",
        "print(vals[select])\n",
        "# [1] \"1,1\" \"3,1\" \"2,4\""
      ],
      "outputs": [
        {
          "output_type": "stream",
          "name": "stdout",
          "text": [
            "     A B C\n",
            "[1,] 1 4 7\n",
            "[2,] 2 5 8\n",
            "[1] \"1,1\" \"3,1\" \"2,4\"\n"
          ]
        }
      ],
      "execution_count": 14,
      "metadata": {}
    },
    {
      "cell_type": "markdown",
      "source": [
        "#### S4对象\n",
        "\n",
        "如果要从S4对象选取子集，还需要另外两个运算符：@（等价于\\$）和slot()（等价于\\[\\[）"
      ],
      "metadata": {}
    },
    {
      "cell_type": "markdown",
      "source": [
        "### 子集选取运算符\n",
        "\n",
        "\\[\\[ 和 \\[ 类似，但它只能返回一个值，并可以让你取出列表的内容。 $运算符与选定的字符串一起就成为\\[\\[的简写。\n",
        "\n",
        "当处理列表时应该使用\\[\\[。这是因为当 \\[ 应用于列表时，它总是返回一个列表，它永远不会返回列表的内容。\n",
        "\n",
        "由于数据框是由列构成的列表，所以可以使用 \\[\\[ 提取一列：mtcars[[1]], mtcars[[\"cyl\"]]。"
      ],
      "metadata": {}
    },
    {
      "cell_type": "code",
      "source": [
        "a <- list(a = 1, b =2)\n",
        "print(a[1])\n",
        "# $a\n",
        "# [1] 1\n",
        "\n",
        "print(a[[1]])\n",
        "# [1] 1"
      ],
      "outputs": [
        {
          "output_type": "stream",
          "name": "stdout",
          "text": [
            "$a\n",
            "[1] 1\n",
            "\n",
            "[1] 1\n"
          ]
        }
      ],
      "execution_count": 15,
      "metadata": {}
    },
    {
      "cell_type": "markdown",
      "source": [
        "#### 简化和保留\n",
        "\n",
        "在子集选取时，我们一定要注意最后的子集是不是还保持这原有的数据结构，这一点非常重要。对于不同的数据类型，如何在简化和保留之间进行转换也是不同的。\n",
        "\n",
        "- 向量 - 简化：x[[1]]， 保留：x[1]\n",
        "\n",
        "- 列表 - 简化：x[[1]]， 保留：x[1]\n",
        "\n",
        "- 因子 - 简化：x[1:4, drop = T]， 保留：x[1:4]\n",
        "\n",
        "- 数组 - 简化：x[1, ] 或 x[ , 1]， 保留：x[1, , drop = F] 或 x[ , 1, drop = F]\n",
        "\n",
        "- 数据框 - 简化：x[ , 1] 或 x[[1]]， 保留：x[ , 1, drop = F] 或 x[1]"
      ],
      "metadata": {}
    },
    {
      "cell_type": "code",
      "source": [
        "# 原子向量：去除名字\n",
        "x <- c(a = 1, b = 2)\n",
        "print(x[1])\n",
        "# a \n",
        "# 1\n",
        "\n",
        "print(x[[1]])\n",
        "# [1] 1\n",
        "\n",
        "# 列表：返回列表中的对象，而不是一个元素列表\n",
        "y <- list(a = 1, b = 2)\n",
        "str(y[1])\n",
        "# List of 1\n",
        "#  $ a: num 1\n",
        "\n",
        "str(y[[1]])\n",
        "#  num 1\n",
        "\n",
        "# 因子：扔掉所有不用的水平\n",
        "z <- factor(c(\"a\", \"b\"))\n",
        "print(z[1])\n",
        "# [1] a\n",
        "# Levels: a b\n",
        "\n",
        "print(z[1, drop = TRUE])\n",
        "# [1] a\n",
        "# Levels: a\n",
        "\n",
        "# 矩阵或者数组：抛弃所有长度为1的维度\n",
        "a <- matrix(1:4, nrow = 2)\n",
        "print(a[1, , drop = FALSE])\n",
        "#      [,1] [,2]\n",
        "# [1,]    1    3\n",
        "\n",
        "print(a[1, ])\n",
        "# [1] 1 3\n",
        "\n",
        "# 数据框：如果输出仅有一列，返回一个向量而不是数据框\n",
        "df <- data.frame(a = 1:2, b = 1:2)\n",
        "str(df[1])\n",
        "# 'data.frame':\t2 obs. of  1 variable:\n",
        "#  $ a: int  1 2\n",
        "\n",
        "str(df[[1]])\n",
        "# int [1:2] 1 2\n",
        "\n",
        "str(df[, \"a\", drop = FALSE])\n",
        "# 'data.frame':\t2 obs. of  1 variable:\n",
        "#  $ a: int  1 2\n",
        "\n",
        "str(df[, \"a\"])\n",
        "# int [1:2] 1 2"
      ],
      "outputs": [
        {
          "output_type": "stream",
          "name": "stdout",
          "text": [
            "a \n",
            "1 \n",
            "[1] 1\n",
            "List of 1\n",
            " $ a: num 1\n",
            " num 1\n",
            "[1] a\n",
            "Levels: a b\n",
            "[1] a\n",
            "Levels: a\n",
            "     [,1] [,2]\n",
            "[1,]    1    3\n",
            "[1] 1 3\n",
            "'data.frame':\t2 obs. of  1 variable:\n",
            " $ a: int  1 2\n",
            " int [1:2] 1 2\n",
            "'data.frame':\t2 obs. of  1 variable:\n",
            " $ a: int  1 2\n",
            " int [1:2] 1 2\n"
          ]
        }
      ],
      "execution_count": 16,
      "metadata": {}
    },
    {
      "cell_type": "markdown",
      "source": [
        "#### \\\\$\n",
        "\n",
        "\\\\$是一个简写运算符，这里x\\\\$y等价于x[[\"y\", exact = FALSE]]。它经常用来访问数据框中的变量，例如mtcars\\\\$cyl。\n",
        "\n",
        "\\\\$与\\[\\[之间有一点非常重要的不同。\\\\$是部分匹配。"
      ],
      "metadata": {}
    },
    {
      "cell_type": "code",
      "source": [
        "x <- list(abc = 1)\n",
        "print(x$a)\n",
        "# [1] 1\n",
        "\n",
        "print(x[[\"a\"]])\n",
        "# NULL"
      ],
      "outputs": [
        {
          "output_type": "stream",
          "name": "stdout",
          "text": [
            "[1] 1\n",
            "NULL\n"
          ]
        }
      ],
      "execution_count": 17,
      "metadata": {}
    },
    {
      "cell_type": "markdown",
      "source": [
        "#### 缺失/超出索引边界\n",
        "\n",
        "当索引越界时，\\[ 和 \\[\\[ 的行为略有不同。"
      ],
      "metadata": {}
    },
    {
      "cell_type": "code",
      "source": [
        "x <- 1:4\n",
        "str(x[5])\n",
        "# int NA\n",
        "\n",
        "str(x[NULL])\n",
        "# int(0)\n",
        "\n",
        "str(x[[5]])\n",
        "# Error in x[[5]]: 下标出界\n",
        "\n",
        "str(x[[NULL]])\n",
        "# Error in x[[NULL]]: attempt to select less than one element in get1index"
      ],
      "outputs": [
        {
          "output_type": "stream",
          "name": "stdout",
          "text": [
            " int NA\n",
            " int(0) \n"
          ]
        },
        {
          "output_type": "error",
          "ename": "ERROR",
          "evalue": "Error in x[[5]]: 下标出界\n",
          "traceback": [
            "Error in x[[5]]: 下标出界\nTraceback:\n",
            "1. str(x[[5]])"
          ]
        }
      ],
      "execution_count": 18,
      "metadata": {}
    },
    {
      "cell_type": "markdown",
      "source": [
        "### 子集选取与赋值\n",
        "\n",
        "所有的子集选取运算符可以和赋值结合在一起使用，从而修改输入向量的选定的值。\n",
        "\n",
        "子集选取时使用空引号再结合赋值操作会比较有用，因为它会保持原有的对象类和数据结构。对比而言，第一个，mtcars仍然是数据框，第二个，mtcars就会变成列表。\n",
        "\n",
        "对于列表，可以使用子集选取+赋值+NULL来去除列表中元素。使用 \\[ 和list(NULL)在列表中添加合法的NULL。"
      ],
      "metadata": {}
    },
    {
      "cell_type": "code",
      "source": [
        "x <- 1:5\n",
        "x[c(1, 2)] <- 2:3\n",
        "print(x)\n",
        "# [1] 2 3 3 4 5\n",
        "\n",
        "mtcars[] <- lapply(mtcars, as.integer)\n",
        "mtcars <- lapply(mtcars, as.integer)\n",
        "\n",
        "x <- list(a = 1, b = 2)\n",
        "x[[\"b\"]] <- NULL\n",
        "str(x)\n",
        "# List of 1\n",
        "#  $ a: num 1\n",
        "\n",
        "y <- list(a = 1)\n",
        "y[\"b\"] <- list(NULL)\n",
        "str(y)\n",
        "# List of 2\n",
        "#  $ a: num 1\n",
        "#  $ b: NULL"
      ],
      "outputs": [
        {
          "output_type": "stream",
          "name": "stdout",
          "text": [
            "[1] 2 3 3 4 5\n",
            "List of 1\n",
            " $ a: num 1\n",
            "List of 2\n",
            " $ a: num 1\n",
            " $ b: NULL\n"
          ]
        }
      ],
      "execution_count": 19,
      "metadata": {}
    },
    {
      "cell_type": "markdown",
      "source": [
        "#### 查询表（字符子集选取）\n",
        "\n",
        "字符匹配为创建查询表提供了一个强大的方法。例如，你想将简写转换成全拼"
      ],
      "metadata": {}
    },
    {
      "cell_type": "code",
      "source": [
        "x <- c(\"m\", \"f\", \"u\", \"f\", \"f\", \"m\")\n",
        "lookup <- c(m = \"Male\", f = \"Female\", u = NA)\n",
        "print(lookup[x])\n",
        "#        m        f        u        f        f        m \n",
        "#   \"Male\" \"Female\"       NA \"Female\" \"Female\"   \"Male\" \n",
        "\n",
        "print(unname(lookup[x]))\n",
        "# [1] \"Male\"   \"Female\" NA       \"Female\" \"Female\" \"Male\""
      ],
      "outputs": [
        {
          "output_type": "stream",
          "name": "stdout",
          "text": [
            "       m        f        u        f        f        m \n",
            "  \"Male\" \"Female\"       NA \"Female\" \"Female\"   \"Male\" \n",
            "[1] \"Male\"   \"Female\" NA       \"Female\" \"Female\" \"Male\"  \n"
          ]
        }
      ],
      "execution_count": 20,
      "metadata": {}
    },
    {
      "cell_type": "markdown",
      "source": [
        "#### 人工对比与合并（整数子集选取）\n",
        "\n",
        "可以应用具有多个信息列的复杂查询表。假设有一个成绩向量，其取值为整数；还有一个表描述整数成绩的性质。从info表中查找与grades变量的取值相匹配的数据，从而把info表中相应于grades变量的每一个值的数据复制过来。有两种方法\n",
        "\n",
        "- 使用match()和整数子集选取\n",
        "\n",
        "- 使用rownames()和字符子集选取"
      ],
      "metadata": {}
    },
    {
      "cell_type": "code",
      "source": [
        "grades <- c(1, 2, 2, 3, 1)\n",
        "info <- data.frame(\n",
        "    grade = 3:1,\n",
        "    desc = c(\"Excellent\", \"Good\", \"Poor\"),\n",
        "    fail = c(F, F, T)\n",
        ")\n",
        "\n",
        "id <- match(grades, info$grade)\n",
        "print(info[id, ])\n",
        "#     grade      desc  fail\n",
        "# 3       1      Poor  TRUE\n",
        "# 2       2      Good FALSE\n",
        "# 2.1     2      Good FALSE\n",
        "# 1       3 Excellent FALSE\n",
        "# 3.1     1      Poor  TRUE\n",
        "\n",
        "rownames(info) <- info$grade\n",
        "print(info[as.character(grades), ])\n",
        "#     grade      desc  fail\n",
        "# 3       1      Poor  TRUE\n",
        "# 2       2      Good FALSE\n",
        "# 2.1     2      Good FALSE\n",
        "# 1       3 Excellent FALSE\n",
        "# 3.1     1      Poor  TRUE"
      ],
      "outputs": [
        {
          "output_type": "stream",
          "name": "stdout",
          "text": [
            "    grade      desc  fail\n",
            "3       1      Poor  TRUE\n",
            "2       2      Good FALSE\n",
            "2.1     2      Good FALSE\n",
            "1       3 Excellent FALSE\n",
            "3.1     1      Poor  TRUE\n",
            "    grade      desc  fail\n",
            "1       1      Poor  TRUE\n",
            "2       2      Good FALSE\n",
            "2.1     2      Good FALSE\n",
            "3       3 Excellent FALSE\n",
            "1.1     1      Poor  TRUE\n"
          ]
        }
      ],
      "execution_count": 21,
      "metadata": {}
    },
    {
      "cell_type": "markdown",
      "source": [
        "#### 随机样本/自助法（整数子集选取）\n",
        "\n",
        "可以应用整数值索引来对向量或者数据框进行随机采用或者自助法抽样。函数sample()产生一个索引向量，然后用它为索引来提取相应的值。"
      ],
      "metadata": {}
    },
    {
      "cell_type": "code",
      "source": [
        "df <- data.frame(x = rep(1:3, each = 2), y = 6:1, z = letters[1:6])\n",
        "\n",
        "print(df[sample(nrow(df), 3),])\n",
        "#   x y z\n",
        "# 1 1 6 a\n",
        "# 6 3 1 f\n",
        "# 2 1 5 b"
      ],
      "outputs": [
        {
          "output_type": "stream",
          "name": "stdout",
          "text": [
            "  x y z\n",
            "6 3 1 f\n",
            "4 2 3 d\n",
            "3 2 4 c\n"
          ]
        }
      ],
      "execution_count": 22,
      "metadata": {}
    },
    {
      "cell_type": "markdown",
      "source": [
        "#### 排序（整数子集选取）\n",
        "\n",
        "order()以一个向量作为输入，返回一个用于描述其中子集向量排序顺序的整型向量。"
      ],
      "metadata": {}
    },
    {
      "cell_type": "code",
      "source": [
        "x <- c(\"b\", \"c\", \"a\")\n",
        "print(order(x))\n",
        "# [1] 3 1 2\n",
        "\n",
        "print(x[order(x)])\n",
        "# [1] \"a\" \"b\" \"c\""
      ],
      "outputs": [
        {
          "output_type": "stream",
          "name": "stdout",
          "text": [
            "[1] 3 1 2\n",
            "[1] \"a\" \"b\" \"c\"\n"
          ]
        }
      ],
      "execution_count": 2,
      "metadata": {}
    },
    {
      "cell_type": "markdown",
      "source": [
        "#### 展开重复记录(整数子集选取）\n",
        "\n",
        "有时候得到的数据框是整理过的，其中相同的记录已经整合为一条记录，数据框增加一列来统计此条记录出现的次数。此时可以使用rep()来创建重复行的索引，再使用整数子集选取将这些整合的重复记录展开。"
      ],
      "metadata": {}
    },
    {
      "cell_type": "code",
      "source": [
        "df <- data.frame(x = c(2, 4, 1), y = c(9, 11, 6), n = c(3, 5, 1))\n",
        "print(rep(1:nrow(df), df$n))\n",
        "# [1] 1 1 1 2 2 2 2 2 3\n",
        "\n",
        "print(df[rep(1:nrow(df), df$n),])\n",
        "#     x  y n\n",
        "# 1   2  9 3\n",
        "# 1.1 2  9 3\n",
        "# 1.2 2  9 3\n",
        "# 2   4 11 5\n",
        "# 2.1 4 11 5\n",
        "# 2.2 4 11 5\n",
        "# 2.3 4 11 5\n",
        "# 2.4 4 11 5\n",
        "# 3   1  6 1"
      ],
      "outputs": [
        {
          "output_type": "stream",
          "name": "stdout",
          "text": [
            "[1] 1 1 1 2 2 2 2 2 3\n",
            "    x  y n\n",
            "1   2  9 3\n",
            "1.1 2  9 3\n",
            "1.2 2  9 3\n",
            "2   4 11 5\n",
            "2.1 4 11 5\n",
            "2.2 4 11 5\n",
            "2.3 4 11 5\n",
            "2.4 4 11 5\n",
            "3   1  6 1\n"
          ]
        }
      ],
      "execution_count": 3,
      "metadata": {}
    },
    {
      "cell_type": "markdown",
      "source": [
        "#### 剔除数据框中某些列（字符子集选取）\n",
        "\n",
        "有两种方式从数据框中剔除列数据\n",
        "\n",
        "- 可以把这些列分别设为NULL\n",
        "\n",
        "- 可以进行子集选择只返回需要的列"
      ],
      "metadata": {}
    },
    {
      "cell_type": "code",
      "source": [
        "df <- data.frame(x = 1:3, y = 3:1, z = letters[1:3])\n",
        "df$z <- NULL\n",
        "\n",
        "print(df)\n",
        "#   x y\n",
        "# 1 1 3\n",
        "# 2 2 2\n",
        "# 3 3 1"
      ],
      "outputs": [
        {
          "output_type": "stream",
          "name": "stdout",
          "text": [
            "  x y\n",
            "1 1 3\n",
            "2 2 2\n",
            "3 3 1\n"
          ]
        }
      ],
      "execution_count": 5,
      "metadata": {}
    },
    {
      "cell_type": "markdown",
      "source": [
        "#### 根据条件选取行（逻辑子集选取）\n",
        "\n",
        "要使用向量的布尔运算符&和|，而不是短路标量运算符$$和||。短路标量运算符在if语句中非常有用。"
      ],
      "metadata": {}
    },
    {
      "cell_type": "code",
      "source": [
        "print(mtcars[mtcars$gear == 5 & mtcars$cyl == 4,])\n",
        "#                mpg cyl  disp  hp drat    wt qsec vs am gear carb\n",
        "# Porsche 914-2 26.0   4 120.3  91 4.43 2.140 16.7  0  1    5    2\n",
        "# Lotus Europa  30.4   4  95.1 113 3.77 1.513 16.9  1  1    5    2"
      ],
      "outputs": [
        {
          "output_type": "stream",
          "name": "stdout",
          "text": [
            "               mpg cyl  disp  hp drat    wt qsec vs am gear carb\n",
            "Porsche 914-2 26.0   4 120.3  91 4.43 2.140 16.7  0  1    5    2\n",
            "Lotus Europa  30.4   4  95.1 113 3.77 1.513 16.9  1  1    5    2\n"
          ]
        }
      ],
      "execution_count": 7,
      "metadata": {}
    },
    {
      "cell_type": "markdown",
      "source": [
        "subset()是对数据框进行子集选取的专用简写函数。"
      ],
      "metadata": {}
    },
    {
      "cell_type": "code",
      "source": [
        "print(subset(mtcars, gear == 5 & cyl == 4))\n",
        "#                mpg cyl  disp  hp drat    wt qsec vs am gear carb\n",
        "# Porsche 914-2 26.0   4 120.3  91 4.43 2.140 16.7  0  1    5    2\n",
        "# Lotus Europa  30.4   4  95.1 113 3.77 1.513 16.9  1  1    5    2"
      ],
      "outputs": [
        {
          "output_type": "stream",
          "name": "stdout",
          "text": [
            "               mpg cyl  disp  hp drat    wt qsec vs am gear carb\n",
            "Porsche 914-2 26.0   4 120.3  91 4.43 2.140 16.7  0  1    5    2\n",
            "Lotus Europa  30.4   4  95.1 113 3.77 1.513 16.9  1  1    5    2\n"
          ]
        }
      ],
      "execution_count": 11,
      "metadata": {}
    },
    {
      "cell_type": "markdown",
      "source": [
        "#### 布尔代数与集合（逻辑和整数子集选取）\n",
        "\n",
        "集合运算和布尔代数之间具有天然的对等性。which()函数可以将布尔表示转换成整数表示。"
      ],
      "metadata": {}
    },
    {
      "cell_type": "code",
      "source": [
        "x <- sample(10) < 4\n",
        "print(x)\n",
        "# [1] FALSE FALSE FALSE FALSE FALSE  TRUE FALSE  TRUE  TRUE FALSE\n",
        "\n",
        "print(which(x))\n",
        "# [1] 6 8 9"
      ],
      "outputs": [
        {
          "output_type": "stream",
          "name": "stdout",
          "text": [
            " [1] FALSE FALSE FALSE FALSE FALSE  TRUE FALSE FALSE  TRUE  TRUE\n",
            "[1]  6  9 10\n"
          ]
        }
      ],
      "execution_count": 15,
      "metadata": {}
    },
    {
      "cell_type": "markdown",
      "source": [
        "## 函数\n",
        "\n",
        "### 函数组成部分\n",
        "\n",
        "所有的R函数都包含3个部分\n",
        "\n",
        "- body() - 函数的内部代码\n",
        "\n",
        "- formals() - 控制如何调用函数的参数列表\n",
        "\n",
        "- environment() - 函数变量位置的“地图”\n",
        "\n",
        "可以使用body()、formals()和environment()的赋值形式对函数进行修改。"
      ],
      "metadata": {}
    },
    {
      "cell_type": "code",
      "source": [
        "f <- function(x) x^2\n",
        "\n",
        "print(formals(f))\n",
        "# $x\n",
        "\n",
        "print(body(f))\n",
        "# x^2\n",
        "\n",
        "print(environment(f))\n",
        "# <environment: R_GlobalEnv>"
      ],
      "outputs": [
        {
          "output_type": "stream",
          "name": "stdout",
          "text": [
            "$x\n",
            "\n",
            "\n",
            "x^2\n",
            "<environment: R_GlobalEnv>\n"
          ]
        }
      ],
      "execution_count": 20,
      "metadata": {}
    },
    {
      "cell_type": "markdown",
      "source": [
        "#### 原函数\n",
        "\n",
        "原函数使用.Primitive()直接调用C代码且不包含R代码，因此它们的formals()、body()和environment()都是NULL。"
      ],
      "metadata": {}
    },
    {
      "cell_type": "markdown",
      "source": [
        "### 词法作用域\n",
        "\n",
        "词法作用域是一组规则，它指引R如何找到一个符号的值。\n",
        "\n",
        "R词法作用域实现的4个基本原则是\n",
        "\n",
        "- 名字屏蔽\n",
        "\n",
        "- 函数与变量\n",
        "\n",
        "- 重新开始\n",
        "\n",
        "- 动态查找"
      ],
      "metadata": {}
    },
    {
      "cell_type": "markdown",
      "source": [
        "#### 名字屏蔽\n",
        "\n",
        "如果名字不是在函数内部定义的，那么R就会到上一层进行查找。"
      ],
      "metadata": {}
    },
    {
      "cell_type": "code",
      "source": [
        "j <- function(x) {\n",
        "    y <- 2\n",
        "    function() {\n",
        "        c(x, y)\n",
        "    }\n",
        "}\n",
        "k <- j(1)\n",
        "print(k())\n",
        "# [1] 1 2"
      ],
      "outputs": [
        {
          "output_type": "stream",
          "name": "stdout",
          "text": [
            "[1] 1 2\n"
          ]
        }
      ],
      "execution_count": 22,
      "metadata": {}
    },
    {
      "cell_type": "markdown",
      "source": [
        "#### 函数与变量\n",
        "\n",
        "寻找函数与寻找变量的方法相同。"
      ],
      "metadata": {}
    },
    {
      "cell_type": "code",
      "source": [
        "l <- function(x) x + 1\n",
        "m <- function() {\n",
        "    l <- function(x) x * 2\n",
        "    l(10)\n",
        "}\n",
        "print(m())\n",
        "# [1] 20"
      ],
      "outputs": [
        {
          "output_type": "stream",
          "name": "stdout",
          "text": [
            "[1] 20\n"
          ]
        }
      ],
      "execution_count": 24,
      "metadata": {}
    },
    {
      "cell_type": "markdown",
      "source": [
        "#### 重新开始\n",
        "\n",
        "每次调用某个函数都会创建一个新的环境。一个函数不可能知道上次被调用时发生了什么；每次调用都是完全独立的。"
      ],
      "metadata": {}
    },
    {
      "cell_type": "markdown",
      "source": [
        "#### 动态查找\n",
        "\n",
        "当函数运行时，R查找这些值，而不是在函数创建时。这就意味着，依据环境中的对象函数的输出可能不同。"
      ],
      "metadata": {}
    },
    {
      "cell_type": "code",
      "source": [
        "f <- function() x\n",
        "x <- 15\n",
        "f()\n",
        "\n",
        "x <- 20\n",
        "f()"
      ],
      "outputs": [
        {
          "output_type": "display_data",
          "data": {
            "text/html": [
              "15"
            ],
            "text/latex": [
              "15"
            ],
            "text/markdown": [
              "15"
            ],
            "text/plain": [
              "[1] 15"
            ]
          },
          "metadata": {}
        },
        {
          "output_type": "display_data",
          "data": {
            "text/html": [
              "20"
            ],
            "text/latex": [
              "20"
            ],
            "text/markdown": [
              "20"
            ],
            "text/plain": [
              "[1] 20"
            ]
          },
          "metadata": {}
        }
      ],
      "execution_count": 1,
      "metadata": {}
    },
    {
      "cell_type": "markdown",
      "source": [
        "通常情况下，你应该避免这种情况发生，因为这表示函数已经不是独立的。检查这个问题的一种方法是使用codetools包中findGlobals()函数。这个函数返回一个函数的所有外界依赖关系。"
      ],
      "metadata": {}
    },
    {
      "cell_type": "code",
      "source": [
        "f <- function() x + 1\n",
        "print(codetools::findGlobals(f))\n",
        "# [1] \"+\" \"x\""
      ],
      "outputs": [
        {
          "output_type": "stream",
          "name": "stdout",
          "text": [
            "[1] \"+\" \"x\"\n"
          ]
        }
      ],
      "execution_count": 4,
      "metadata": {}
    },
    {
      "cell_type": "markdown",
      "source": [
        "另一种尝试解决问题的方法是手动将函数的环境设置为emptyenv()。"
      ],
      "metadata": {}
    },
    {
      "cell_type": "code",
      "source": [
        "environment(f) <- emptyenv()\n",
        "f()\n",
        "# Error in x + 1: 没有\"+\"这个函数"
      ],
      "outputs": [
        {
          "output_type": "error",
          "ename": "ERROR",
          "evalue": "Error in x + 1: 没有\"+\"这个函数\n",
          "traceback": [
            "Error in x + 1: 没有\"+\"这个函数\nTraceback:\n",
            "1. f()"
          ]
        }
      ],
      "execution_count": 6,
      "metadata": {}
    },
    {
      "cell_type": "markdown",
      "source": [
        "### 每个运算都是一次函数调用\n",
        "\n",
        "R中的每个运算都是一次函数调用，不管它看上去是否像函数调用。所以可以对这些特殊函数的定义进行重写，但基本上可以肯定这是一个坏主意。"
      ],
      "metadata": {}
    },
    {
      "cell_type": "code",
      "source": [
        "x <- 10; y <- 5\n",
        "'+'(x, y)\n",
        "# 15\n",
        "\n",
        "print(sapply(1:5, \"+\", 3))\n",
        "# [1] 4 5 6 7 8\n",
        "\n",
        "x <- list(1:3, 4:9, 10:12)\n",
        "print(sapply(x, \"[\", 2))\n",
        "# [1]  2  5 11"
      ],
      "outputs": [
        {
          "output_type": "display_data",
          "data": {
            "text/html": [
              "15"
            ],
            "text/latex": [
              "15"
            ],
            "text/markdown": [
              "15"
            ],
            "text/plain": [
              "[1] 15"
            ]
          },
          "metadata": {}
        },
        {
          "output_type": "stream",
          "name": "stdout",
          "text": [
            "[1] 4 5 6 7 8\n",
            "[1]  2  5 11\n"
          ]
        }
      ],
      "execution_count": 11,
      "metadata": {}
    },
    {
      "cell_type": "markdown",
      "source": [
        "### 函数参数\n",
        "\n",
        "#### 函数调用\n",
        "\n",
        "将实参映射到形参的方法的优先级是：首先将名字完全匹配的参数进行映射；再将前缀匹配的参数进行映射；最后是将位置匹配的参数进行映射。命名参数应该总是放在匿名参数的后面。"
      ],
      "metadata": {}
    },
    {
      "cell_type": "markdown",
      "source": [
        "#### 使用参数列表来调用函数\n",
        "\n",
        "要将参数列表发送给函数，需要使用do.call()。"
      ],
      "metadata": {}
    },
    {
      "cell_type": "code",
      "source": [
        "args <- list(1:10, na.rm = TRUE)\n",
        "do.call(mean, args)\n",
        "# 5.5\n",
        "\n",
        "mean(1:10, na.rm = TRUE)\n",
        "# 5.5"
      ],
      "outputs": [
        {
          "output_type": "display_data",
          "data": {
            "text/html": [
              "5.5"
            ],
            "text/latex": [
              "5.5"
            ],
            "text/markdown": [
              "5.5"
            ],
            "text/plain": [
              "[1] 5.5"
            ]
          },
          "metadata": {}
        },
        {
          "output_type": "display_data",
          "data": {
            "text/html": [
              "5.5"
            ],
            "text/latex": [
              "5.5"
            ],
            "text/markdown": [
              "5.5"
            ],
            "text/plain": [
              "[1] 5.5"
            ]
          },
          "metadata": {}
        }
      ],
      "execution_count": 14,
      "metadata": {}
    },
    {
      "cell_type": "markdown",
      "source": [
        "#### 默认参数和缺失参数\n",
        "\n",
        "R中的函数参数可以有默认值。由于R中的参数使用惰性求值，所以参数的默认值可以通过其他参数来定义。对于重要的参数，可以将其默认值设置为NULL，然后使用函数is.null()来检查这个参数是否被设置了。"
      ],
      "metadata": {}
    },
    {
      "cell_type": "code",
      "source": [
        "g <- function(a = 1, b = a * 2){\n",
        "    c(a, b)\n",
        "}\n",
        "print(g())\n",
        "# [1] 1 2"
      ],
      "outputs": [
        {
          "output_type": "stream",
          "name": "stdout",
          "text": [
            "[1] 1 2\n"
          ]
        }
      ],
      "execution_count": 16,
      "metadata": {}
    },
    {
      "cell_type": "markdown",
      "source": [
        "#### 惰性求值\n",
        "\n",
        "默认情况下，R函数的参数都是用惰性求值——它们只有在实际被用到时才会被求值。它在if语句中是很有用的——只有当第一个条件为真时，它后续的第二个语句才会被求值。"
      ],
      "metadata": {}
    },
    {
      "cell_type": "code",
      "source": [
        "add <- function(x){\n",
        "    function(y) x + y\n",
        "}\n",
        "adders <- lapply(1:10, add)\n",
        "print(adders[[1]])\n",
        "# function(y) x + y\n",
        "# <environment: 0x00000000057acef8>\n",
        "\n",
        "print(adders[[1]](10))\n",
        "# [1] 11\n",
        "\n",
        "print(adders[[2]](10))\n",
        "# [1] 12\n",
        "\n",
        "x <- NULL\n",
        "if (!is.null(x) && x > 0){}"
      ],
      "outputs": [
        {
          "output_type": "stream",
          "name": "stdout",
          "text": [
            "function(y) x + y\n",
            "<environment: 0x0000000005ce8ee8>\n",
            "[1] 11\n",
            "[1] 12\n"
          ]
        }
      ],
      "execution_count": 22,
      "metadata": {}
    },
    {
      "cell_type": "markdown",
      "source": [
        "从技术上讲，没有被求值的参数称为约定(promise)或者形式转换(thumk)。约定通常有两部分组成：\n",
        "\n",
        "- 产生延迟计算的表达式\n",
        "\n",
        "- 创建和计算表达式的环境\n",
        "\n",
        "当第一次访问一个约定时，表达式将在创建它的环境中求值。将这个值缓存，所以后续对这个已经求值约定的访问不必重新计算该值。可以使用pryr::promise_info()找到更多关于约定的信息。"
      ],
      "metadata": {}
    },
    {
      "cell_type": "markdown",
      "source": [
        "#### ...参数\n",
        "\n",
        "这个参数将与所有没有匹配的参数进行匹配，并可以很容易地传递给其他函数。当如何想收集参数来调用其他函数，但又不想提前设定这些参数的名字时，这个特殊参数就很有用。"
      ],
      "metadata": {}
    },
    {
      "cell_type": "code",
      "source": [
        "f <- function(...){\n",
        "    names(list(...))\n",
        "}\n",
        "print(f(a = 1, b = 2))\n",
        "# [1] \"a\" \"b\""
      ],
      "outputs": [
        {
          "output_type": "stream",
          "name": "stdout",
          "text": [
            "[1] \"a\" \"b\"\n"
          ]
        }
      ],
      "execution_count": 26,
      "metadata": {}
    },
    {
      "cell_type": "markdown",
      "source": [
        "### 特殊调用\n",
        "\n",
        "#### 中缀函数\n",
        "\n",
        "R中的大多数函数都是“前缀”运算符：函数的名字在参数的前面。也可以创建中缀函数，使函数的名字排在参数的中间，例如+或-。所有用户创建的中缀函数必须以%开头，以%结尾。中缀函数的命名比普通的R函数更灵活，它可以包含任何字符。"
      ],
      "metadata": {}
    },
    {
      "cell_type": "code",
      "source": [
        "\"%+%\" <- function(a, b) paste(a, b, sep = \"\")\n",
        "print(\"new\" %+% \"string\")\n",
        "# [1] \"newstring\"\n",
        "\n",
        "print(\"%+%\"(\"new\", \"string\"))\n",
        "# [1] \"newstring\""
      ],
      "outputs": [
        {
          "output_type": "stream",
          "name": "stdout",
          "text": [
            "[1] \"newstring\"\n",
            "[1] \"newstring\"\n"
          ]
        }
      ],
      "execution_count": 29,
      "metadata": {}
    },
    {
      "cell_type": "markdown",
      "source": [
        "#### 替换函数\n",
        "\n",
        "替换函数看上去就像对它们的参数进行原地修改，而且有一个特殊的名字“xxx<-”。虽然可以有多个参数，但通常情况下只有两个(x和value)，而且必须返回被修改的对象。例如，下面的函数允许你对一个向量的第二个值进行修改。"
      ],
      "metadata": {}
    },
    {
      "cell_type": "markdown",
      "source": [
        "#### 返回值\n",
        "\n",
        "在一个函数中最后一个被计算的表达式成为函数的返回值，也就是调用该函数的结果。如果出现提前返回时，应当显示地使用return()函数。\n",
        "\n",
        "#### 退出时\n",
        "\n",
        "当函数退出时可以使用on.exit()来触发其他事件。它经常用来确保全局状态的改变能够恢复原状。"
      ],
      "metadata": {}
    },
    {
      "cell_type": "markdown",
      "source": [
        "## 面向对象编程指南\n",
        "\n",
        "### 基础类型\n",
        "\n",
        "所有R对象的底层都是一个用来描述这个对象如何在内存中存储的C结构体。此结构体包含这个对象的内容、内存分配信息以及类型（type）。这是R对象的基础类型。"
      ],
      "metadata": {}
    },
    {
      "cell_type": "markdown",
      "source": [
        "### S3\n",
        "\n",
        "S3是R的第一个也是最简单的OO系统。它是R基础包和统计包中唯一使用的OO系统，也是CRAN软件包中最常用的系统。\n",
        "\n",
        "#### 认识对象、泛函函数和方法\n",
        "\n",
        "检验一个对象是不是S3对象\n",
        "\n",
        "- is.object(x) & !isS4(x) 确认x是对象但不是S4\n",
        "\n",
        "- 使用pryr::otype()"
      ],
      "metadata": {}
    },
    {
      "cell_type": "code",
      "source": [
        "library(pryr)\n",
        "\n",
        "df <- data.frame(x = 1:10, y = letters[1:10])\n",
        "print(otype(df))\n",
        "# [1] \"S3\"\n",
        "\n",
        "print(otype(df$x))\n",
        "# [1] \"base\"\n",
        "\n",
        "print(otype(df$y))\n",
        "# [1] \"S3\""
      ],
      "outputs": [
        {
          "output_type": "stream",
          "name": "stdout",
          "text": [
            "[1] \"S3\"\n",
            "[1] \"base\"\n",
            "[1] \"S3\"\n"
          ]
        }
      ],
      "execution_count": 3,
      "metadata": {}
    },
    {
      "cell_type": "markdown",
      "source": [
        "在S3中，方法属于函数，这个函数称为泛型函数（generic function）或者简称泛型。S3方法不属于对象或类。这与其他大多数编程语言都不同。\n",
        "\n",
        "为了知道一个函数是不是S3泛型函数，可以查看它的源码，找到函数调用UseMethod()，这个函数指出调用的正确方法，也就是方法分派（method dispatch）的过程。pryr还提供了ftype()函数，如果有与函数相关联的对象系统，它可以描述该系统。\n",
        "\n",
        "与sum()和cbind()类似，有些S3泛型函数不调用UseMethod()，因为它们用C语言实现。在C代码中执行方法分派的函数称为内部泛型（internal generics）。\n",
        "\n",
        "假定有一个类，S3泛型函数的任务就是调用正确的S3方法，根据名字就可以认别S3方法，它们看上去像generic.class()。例如print()的因子方法调用print.factor()。这就是大多数现代风格指南不支持在函数名中使用“.”。\n",
        "\n",
        "可以使用methods()来查看属于一个泛型函数的所有方法。"
      ],
      "metadata": {}
    },
    {
      "cell_type": "code",
      "source": [
        "print(ftype(mean))\n",
        "# [1] \"s3\"      \"generic\"\n",
        "\n",
        "print(methods(mean))\n",
        "# [1] mean.Date     mean.default  mean.difftime mean.POSIXct  mean.POSIXlt \n",
        "# [6] mean.quosure*\n",
        "# see '?methods' for accessing help and source code"
      ],
      "outputs": [
        {
          "output_type": "stream",
          "name": "stdout",
          "text": [
            "[1] \"s3\"      \"generic\"\n",
            "[1] mean.Date     mean.default  mean.difftime mean.POSIXct  mean.POSIXlt \n",
            "[6] mean.quosure*\n",
            "see '?methods' for accessing help and source code\n"
          ]
        }
      ],
      "execution_count": 7,
      "metadata": {}
    },
    {
      "cell_type": "markdown",
      "source": [
        "#### 定义类和创建对象\n",
        "\n",
        "在绝大多数面向对象编程语言环境中，都从正式定义类结构开始，然后还会对类中的每个元素进行限制。然而，S3实现了一种面向对象编程的懒惰形式，允许在没有正式定义类的情况下实例化新类（即创建实例）。\n",
        "\n",
        "在创建时可以使用structure()，或者最后使用class<-()。"
      ],
      "metadata": {}
    },
    {
      "cell_type": "code",
      "source": [
        "foo <- structure(list(), class = \"foo\")\n",
        "\n",
        "foo <- list()\n",
        "class(foo) <- \"foo\""
      ],
      "outputs": [],
      "execution_count": 8,
      "metadata": {}
    },
    {
      "cell_type": "markdown",
      "source": [
        "可以使用class(x)检查任意对象的属性，并可以使用inherits(x, \"classname\")来查看一个对象是否继承于一个特殊类。"
      ],
      "metadata": {}
    },
    {
      "cell_type": "code",
      "source": [
        "print(class(foo))\n",
        "# [1] \"foo\"\n",
        "\n",
        "print(inherits(foo, \"foo\"))\n",
        "# [1] TRUE"
      ],
      "outputs": [
        {
          "output_type": "stream",
          "name": "stdout",
          "text": [
            "[1] \"foo\"\n",
            "[1] TRUE\n"
          ]
        }
      ],
      "execution_count": 11,
      "metadata": {}
    },
    {
      "cell_type": "markdown",
      "source": [
        "大多数S3类都提供了一个构造函数"
      ],
      "metadata": {}
    },
    {
      "cell_type": "code",
      "source": [
        "foo <- function(x) {\n",
        "    if (!is.numeric(x)) stop(\"X must be numeric\")\n",
        "    structure(list(x), class = \"foo\")\n",
        "}"
      ],
      "outputs": [],
      "execution_count": 12,
      "metadata": {}
    },
    {
      "cell_type": "markdown",
      "source": [
        "#### 创建新方法和泛型函数\n",
        "\n",
        "为了添加一个新的泛型函数，创建一个调用UseMethod()的函数。UseMethod()有两个参数：泛型函数的名字和方法分派的参数。"
      ],
      "metadata": {}
    },
    {
      "cell_type": "code",
      "source": [
        "f  <- function(x) UseMethod(\"f\")\n",
        "\n",
        "f.a <- function(x) \"Class a\"\n",
        "\n",
        "a <- structure(list(), class = \"a\")\n",
        "print(class(a))\n",
        "# [1] \"a\"\n",
        "\n",
        "print(f(a))\n",
        "# [1] \"Class a\"\n",
        "\n",
        "mean.a <- function(x) \"a\"\n",
        "print(mean(a))\n",
        "# [1] \"a\""
      ],
      "outputs": [
        {
          "output_type": "stream",
          "name": "stdout",
          "text": [
            "[1] \"a\"\n",
            "[1] \"Class a\"\n",
            "[1] \"a\"\n"
          ]
        }
      ],
      "execution_count": 14,
      "metadata": {}
    },
    {
      "cell_type": "markdown",
      "source": [
        "#### 方法分派\n",
        "\n",
        "UseMethod()创建一个由函数名构成的向量，类似于paste0(\"generic\", \".\", c(class(x), \"default\"))，并且按顺序依次查找。默认类使我们可以为其他未知类建立一个回滚方法。"
      ],
      "metadata": {}
    },
    {
      "cell_type": "code",
      "source": [
        "f <- function(x) UseMethod(\"f\")\n",
        "\n",
        "f.a <- function(x) \"Class a\"\n",
        "f.default <- function(x) \"Unknown class\"\n",
        "\n",
        "print(f(structure(list(), class = \"a\")))\n",
        "# [1] \"Class a\"\n",
        "\n",
        "print(f(structure(list(), class = c(\"b\", \"a\"))))\n",
        "# [1] \"Class a\"\n",
        "\n",
        "print(f(structure(list(), class = \"c\")))\n",
        "# [1] \"Unknown class\""
      ],
      "outputs": [
        {
          "output_type": "stream",
          "name": "stdout",
          "text": [
            "[1] \"Class a\"\n",
            "[1] \"Class a\"\n",
            "[1] \"Unknown class\"\n"
          ]
        }
      ],
      "execution_count": 19,
      "metadata": {}
    },
    {
      "cell_type": "markdown",
      "source": [
        "## 环境"
      ],
      "metadata": {}
    },
    {
      "cell_type": "markdown",
      "source": [
        "### 环境基础\n",
        "\n",
        "环境的作用就是将一些名字与一些值进行关联，或者绑定（bind）。可以把环境看作一个装满名字的口袋，每个名字都指向存储在内存中的一个对象。如果对象没有指向它的名字，那么这个对象就会被垃圾回收器自动删除。\n",
        "\n",
        "每个环境都有父环境，它是另一个环境。如果一个名字在一个当前环境中没有找到，R就会到它的父环境中寻找（直到找到或者找遍所有环境）。只有空（empty）环境没有父环境。\n",
        "\n",
        "4个特殊环境\n",
        "\n",
        "- globalenv()，或者全局环境，它是一个交互式的工作空间。通常情况下我们就是在这个环境中工作。全局环境的父环境是由library()或require()添加的最后一个添加包。\n",
        "\n",
        "- baseenv()，基础环境。它是R基础软件包的环境。它的父环境是空环境。\n",
        "\n",
        "- emptyenv()，空环境。它是所有环境的祖先，也是唯一一个没有父环境的环境。\n",
        "\n",
        "- environment()，它是当前环境。\n",
        "\n",
        "search()可以列出全局环境的所有父环境，这称为搜索路径。你可以用as.environment()访问搜索列表中的任何环境。"
      ],
      "metadata": {}
    },
    {
      "cell_type": "code",
      "source": [
        "print(search())\n",
        "#  [1] \".GlobalEnv\"        \"package:pryr\"      \"jupyter:irkernel\" \n",
        "#  [4] \"jupyter:irkernel\"  \"package:stats\"     \"package:graphics\" \n",
        "#  [7] \"package:grDevices\" \"package:utils\"     \"package:datasets\" \n",
        "# [10] \"package:methods\"   \"Autoloads\"         \"package:base\"\n",
        "\n",
        "as.environment(\"package:pryr\")\n",
        "# <environment: package:pryr>\n",
        "# attr(,\"name\")\n",
        "# [1] \"package:pryr\"\n",
        "# attr(,\"path\")\n",
        "# [1] \"C:/Users/glenz/Documents/R/win-library/3.6/pryr\""
      ],
      "outputs": [
        {
          "output_type": "stream",
          "name": "stdout",
          "text": [
            " [1] \".GlobalEnv\"        \"package:pryr\"      \"jupyter:irkernel\" \n",
            " [4] \"jupyter:irkernel\"  \"package:stats\"     \"package:graphics\" \n",
            " [7] \"package:grDevices\" \"package:utils\"     \"package:datasets\" \n",
            "[10] \"package:methods\"   \"Autoloads\"         \"package:base\"     \n"
          ]
        },
        {
          "output_type": "display_data",
          "data": {
            "text/plain": [
              "<environment: package:pryr>\n",
              "attr(,\"name\")\n",
              "[1] \"package:pryr\"\n",
              "attr(,\"path\")\n",
              "[1] \"C:/Users/glenz/Documents/R/win-library/3.6/pryr\""
            ]
          },
          "metadata": {}
        }
      ],
      "execution_count": 23,
      "metadata": {}
    },
    {
      "cell_type": "markdown",
      "source": [
        "使用new.env()可以手动创建一个环境。使用ls()可以将此环境的对象框中的所有绑定关系列出来，可以使用parent.env()查看它的父环境。"
      ],
      "metadata": {}
    },
    {
      "cell_type": "code",
      "source": [
        "e <- new.env()\n",
        "\n",
        "e$a <- 1\n",
        "e$b <- 2\n",
        "e$.a <- 3\n",
        "print(ls(e))\n",
        "# [1] \"a\" \"b\"\n",
        "\n",
        "print(ls(e, all.names = TRUE))\n",
        "# [1] \".a\" \"a\"  \"b\"\n",
        "\n",
        "print(ls.str(e))\n",
        "# a :  num 1\n",
        "# b :  num 2"
      ],
      "outputs": [
        {
          "output_type": "stream",
          "name": "stdout",
          "text": [
            "[1] \"a\" \"b\"\n",
            "[1] \".a\" \"a\"  \"b\" \n",
            "a :  num 1\n",
            "b :  num 2\n"
          ]
        }
      ],
      "execution_count": 27,
      "metadata": {}
    },
    {
      "cell_type": "markdown",
      "source": [
        "给定一个名字，可以使用$、[[或get()来获取与其绑定的值\n",
        "\n",
        "- $和[[只在一个环境中进行查找，如果不存在就返回NULL\n",
        "\n",
        "- get()使用普通的作用域法则，如果没有找到绑定它就会抛出一个错误"
      ],
      "metadata": {}
    },
    {
      "cell_type": "code",
      "source": [
        "e$c <- 3\n",
        "print(e[[\"c\"]])\n",
        "# [1] 3\n",
        "\n",
        "print(get(\"c\", envir=e))\n",
        "# [1] 3"
      ],
      "outputs": [
        {
          "output_type": "stream",
          "name": "stdout",
          "text": [
            "[1] 3\n",
            "[1] 3\n"
          ]
        }
      ],
      "execution_count": 29,
      "metadata": {}
    },
    {
      "cell_type": "markdown",
      "source": [
        "**删除对象**\n",
        "\n",
        "从环境中删除对象与从列表中删除对象有些不同。在列表中可以通过将其设置为NULL来删除一个表项。而在环境中，这样做将创建一个对NULL的新绑定。因此，使用rm()来删除绑定。"
      ],
      "metadata": {}
    },
    {
      "cell_type": "code",
      "source": [
        "e <- new.env()\n",
        "\n",
        "e$a <- 1\n",
        "print(ls(e))\n",
        "# [1] \"a\"\n",
        "\n",
        "rm(\"a\", envir = e)\n",
        "print(ls(e))\n",
        "# character(0)"
      ],
      "outputs": [
        {
          "output_type": "stream",
          "name": "stdout",
          "text": [
            "[1] \"a\"\n",
            "character(0)\n"
          ]
        }
      ],
      "execution_count": 31,
      "metadata": {}
    },
    {
      "cell_type": "markdown",
      "source": [
        "可以使用exists()来确定一个绑定是否存在。它的默认行为是按照普通的作用域法则在其父环境中查找。如果你不希望在父环境中查找，可以设置参数inherits = FALSE。\n",
        "\n",
        "使用identical()而不是==对两个环境进行比较。"
      ],
      "metadata": {}
    },
    {
      "cell_type": "code",
      "source": [
        "x <- 10\n",
        "print(exists(\"x\", envir = e))\n",
        "# [1] TRUE\n",
        "\n",
        "print(identical(globalenv(), environment()))\n",
        "# [1] TRUE"
      ],
      "outputs": [
        {
          "output_type": "stream",
          "name": "stdout",
          "text": [
            "[1] TRUE\n",
            "[1] TRUE\n"
          ]
        }
      ],
      "execution_count": 34,
      "metadata": {}
    },
    {
      "cell_type": "markdown",
      "source": [
        "### 环境递归\n",
        "\n",
        "给定一个名字，pryr::where()就会使用R的作用域法则找到定义这个名字的环境。where()有两个参数：要查找的名字（一个字符串）；开始查找的环境。"
      ],
      "metadata": {}
    },
    {
      "cell_type": "code",
      "source": [
        "library(pryr)\n",
        "\n",
        "x <- 5\n",
        "where(\"x\")\n",
        "# <environment: R_GlobalEnv>"
      ],
      "outputs": [
        {
          "output_type": "display_data",
          "data": {
            "text/plain": [
              "<environment: R_GlobalEnv>"
            ]
          },
          "metadata": {}
        }
      ],
      "execution_count": 38,
      "metadata": {}
    },
    {
      "cell_type": "markdown",
      "source": [
        "### 函数环境\n",
        "\n",
        "大多数环境并不是通过new.env()创建的，而是使用函数的结果。4种与函数相关的环境\n",
        "\n",
        "- 封闭\n",
        "\n",
        "- 绑定\n",
        "\n",
        "- 执行\n",
        "\n",
        "- 调用\n",
        "\n",
        "封闭（enclosing）环境就是创建函数的环境。每个函数有且仅有一个封闭环境。对于其他三种类型的环境，每个函数可以有0个、1个或多个相关联的环境\n",
        "\n",
        "- 使用 <- 将一个函数与一个名字进行绑定，这样就可以定义一个绑定（binding）环境\n",
        "\n",
        "- 调用函数创建一个临时执行（execution）环境，它用来存储执行期间创建的各种变量\n",
        "\n",
        "- 每一个执行环境都与一个调用（calling）环境相关联，它说明函数在哪里调用\n",
        "\n",
        "#### 封闭环境\n",
        "\n",
        "当创建一个函数时，它就获得对创建它的环境的引用。这就是封闭环境（enclosing enviroment）。为了确定一个函数的封闭环境，只需要调用environment()，并将函数名作为第一个参数。"
      ],
      "metadata": {}
    },
    {
      "cell_type": "code",
      "source": [
        "y <- 1\n",
        "f <- function(x) x + y\n",
        "print(environment(f))\n",
        "# <environment: R_GlobalEnv>"
      ],
      "outputs": [
        {
          "output_type": "stream",
          "name": "stdout",
          "text": [
            "<environment: R_GlobalEnv>\n"
          ]
        }
      ],
      "execution_count": 39,
      "metadata": {}
    },
    {
      "cell_type": "markdown",
      "source": [
        "#### 绑定环境\n",
        "\n",
        "如果在global环境中定义函数，那么封闭环境与绑定环境是相同的。但是，将一个函数分配给另一个不同的环境，那么他们就不同了。"
      ],
      "metadata": {}
    },
    {
      "cell_type": "code",
      "source": [
        "e <- new.env()\n",
        "e$g <- function() 1"
      ],
      "outputs": [],
      "execution_count": 1,
      "metadata": {}
    },
    {
      "cell_type": "markdown",
      "source": [
        "封闭环境决定了这个函数如何找到值，而绑定环境空间决定如何找到函数。\n",
        "\n",
        "软件包命名空间使软件包之间保持独立。例如，如果软件包A使用基础包中的mean()函数，那么如果软件包B也创建了它自己的mean()函数会有什么后果呢？命名空间确保软件包A能够继续使用基础包中的mean()函数而不受软件包B的影响。\n",
        "\n",
        "命名空间使用环境来实现，利用函数不一定存在于它们自己的封闭环境中的事实。例如，基础包中的sd()函数，它的封闭环境与绑定环境是不同的。"
      ],
      "metadata": {}
    },
    {
      "cell_type": "code",
      "source": [
        "library(pryr)\n",
        "\n",
        "print(environment(sd))\n",
        "# <environment: namespace:stats>\n",
        "\n",
        "print(where(\"sd\"))\n",
        "# <environment: package:stats>"
      ],
      "outputs": [
        {
          "output_type": "stream",
          "name": "stdout",
          "text": [
            "<environment: namespace:stats>\n",
            "<environment: package:stats>\n",
            "attr(,\"name\")\n",
            "[1] \"package:stats\"\n",
            "attr(,\"path\")\n",
            "[1] \"C:/Program Files/R/R-3.6.0/library/stats\"\n"
          ]
        }
      ],
      "execution_count": 6,
      "metadata": {}
    },
    {
      "cell_type": "markdown",
      "source": [
        "#### 执行环境\n",
        "\n",
        "当在另一个函数中创建一个函数时，子函数的封闭环境就是父函数的执行环境，而且执行环境也不再是临时的。\n",
        "\n",
        "#### 调用环境\n",
        "\n",
        "在调用环境而不是封闭环境中查找变量称为动态作用域（dynamic scoping）。"
      ],
      "metadata": {}
    },
    {
      "cell_type": "code",
      "source": [
        "h <- function() {\n",
        "    x <- 10\n",
        "    function() {\n",
        "        x\n",
        "    }\n",
        "}\n",
        "\n",
        "i <- h()\n",
        "x <- 20\n",
        "print(i())"
      ],
      "outputs": [
        {
          "output_type": "stream",
          "name": "stdout",
          "text": [
            "[1] 10\n"
          ]
        }
      ],
      "execution_count": 7,
      "metadata": {}
    },
    {
      "cell_type": "markdown",
      "source": [
        "### 绑定名字和数值\n",
        "\n",
        "普通的赋值箭头 <- 总是在当前环境中创建一个变量。强制赋值箭头 <<- 不会在当前环境中创建变量，但是它修改父环境中已有的变量，它经常用在闭包中。也可以使用assign()来进行深度绑定。name <<- value就等价于assign(\"name\", value, inherits = TRUE)。\n",
        "\n",
        "另外还有两个特殊类型的绑定\n",
        "\n",
        "- 延时绑定 - 不是立即把结果赋值给一个表达式，它创建和存储一个约定（promise），在需要时对约定中的表达式进行求值。用特殊的赋值运算符%<d-%来创建延时绑定。\n",
        "\n",
        "- 主动绑定 - 不是绑定到常量对象。相反，每次对其进行访问时都要重新计算。用特殊的赋值符号%<a-%进行主动绑定。"
      ],
      "metadata": {}
    },
    {
      "cell_type": "code",
      "source": [
        "x %<a-% runif(1)\n",
        "\n",
        "print(x)\n",
        "# [1] 0.220334\n",
        "print(x)\n",
        "# [1] 0.2674983"
      ],
      "outputs": [
        {
          "output_type": "stream",
          "name": "stdout",
          "text": [
            "[1] 0.6150704\n",
            "[1] 0.3442705\n"
          ]
        }
      ],
      "execution_count": 9,
      "metadata": {}
    },
    {
      "cell_type": "markdown",
      "source": [
        "### 显式环境\n",
        "\n",
        "环境也是一种很有用的数据结构，因此它们有引用语义。和R中的大多数对象不同，当你对环境进行修改时，R不会对其进行复制。\n",
        "\n",
        "当你创建自己的环境时，应该将父环境设置为空环境。这样就可以确保不会从其他地方继承对象。\n",
        "\n",
        "环境时解决下面3类常见问题的有用数据结构。\n",
        "\n",
        "- 避免大数据的复制 - 在3.1.0版的R中，修改列表可以有效地重用已有的向量，能够节省许多时间。\n",
        "\n",
        "- 管理一个软件包内部的状态\n",
        "\n",
        "- 根据名字高效地查找与其绑定的值"
      ],
      "metadata": {}
    },
    {
      "cell_type": "markdown",
      "source": [
        "## 调试、条件处理和防御性编程\n",
        "\n",
        "### 调试工具\n",
        "\n",
        "RStudio有3个主要的调试工具\n",
        "\n",
        "- 错误查看器和traceback()，它列出导致错误的调用顺序\n",
        "\n",
        "- \"Rerun with Debug\"工具和options(error = browser)，它在错误发生的地方打开一个交互式对话\n",
        "\n",
        "- 断点和browser()，它可以在代码中的任意位置打开一个交互式对话"
      ],
      "metadata": {}
    },
    {
      "cell_type": "markdown",
      "source": [
        "#### 确定调用顺序\n",
        "\n",
        "第一个工具是调用栈（call stack），导致错误的调用顺序。"
      ],
      "metadata": {}
    },
    {
      "cell_type": "code",
      "source": [
        "f <- function(a) g(a)\n",
        "g <- function(b) h(b)\n",
        "h <- function(c) i(c)\n",
        "i <- function(d) \"a\" + d\n",
        "f(10)"
      ],
      "outputs": [
        {
          "output_type": "error",
          "ename": "ERROR",
          "evalue": "Error in \"a\" + d: 二进列运算符中有非数值参数\n",
          "traceback": [
            "Error in \"a\" + d: 二进列运算符中有非数值参数\nTraceback:\n",
            "1. f(10)",
            "2. g(a)   # at line 1 of file <text>",
            "3. h(b)   # at line 2 of file <text>",
            "4. i(c)   # at line 3 of file <text>"
          ]
        }
      ],
      "execution_count": 10,
      "metadata": {}
    },
    {
      "cell_type": "markdown",
      "source": [
        "在RStudio中可以看到错误消息的右侧有两个选项：“Show Traceback” 和“Rerun with Debug”。或者使用traceback()函数获得相同的信息。"
      ],
      "metadata": {}
    },
    {
      "cell_type": "markdown",
      "source": [
        "#### 查看错误\n",
        "\n",
        "打开交互式调试器的最简单方法就是单击“Rerun with Debug”。\n",
        "\n",
        "#### 其他类型的故障\n",
        "\n",
        "函数可能产生一个意想不到的警告。查找警告的最简单方法就是使用options(warn = 2)将其转变成错误，并再使用常规调试工具。"
      ],
      "metadata": {}
    },
    {
      "cell_type": "markdown",
      "source": [
        "## 条件处理\n",
        "\n",
        "在R中，有3个处理条件编程的工具\n",
        "\n",
        "- try()允许我们在错误发生时继续执行代码\n",
        "\n",
        "- tryCatch()可以让我们设置一个处理器（handler）函数\n",
        "\n",
        "- withCallingHandlers()是tryCatch()的一个变体\n",
        "\n",
        "### 使用try来忽略错误\n",
        "\n",
        "try()允许我们在错误发生时继续执行代码。"
      ],
      "metadata": {}
    },
    {
      "cell_type": "code",
      "source": [
        "f2 <- function(x) {\n",
        "    try(log(x))\n",
        "    10\n",
        "}\n",
        "f2(\"a\")\n",
        "# Error in log(x) : 数学函数中用了非数值参数\n",
        "# 10"
      ],
      "outputs": [
        {
          "output_type": "stream",
          "name": "stdout",
          "text": [
            "Error in log(x) : 数学函数中用了非数值参数\n"
          ]
        },
        {
          "output_type": "display_data",
          "data": {
            "text/html": [
              "10"
            ],
            "text/latex": [
              "10"
            ],
            "text/markdown": [
              "10"
            ],
            "text/plain": [
              "[1] 10"
            ]
          },
          "metadata": {}
        }
      ],
      "execution_count": 12,
      "metadata": {}
    },
    {
      "cell_type": "markdown",
      "source": [
        "我们还可以捕获try()的输出。如果执行成果，返回值就是括号中代码块的最后结果。如果失败，返回值就是一个“try-error”类的（不可见的）对象。"
      ],
      "metadata": {}
    },
    {
      "cell_type": "code",
      "source": [
        "success <- try(1 + 2)\n",
        "failure <- try(\"a\" + \"b\")\n",
        "print(class(success))\n",
        "# [1] \"numeric\"\n",
        "\n",
        "print(class(failure))\n",
        "# [1] \"try-error\""
      ],
      "outputs": [
        {
          "output_type": "stream",
          "name": "stdout",
          "text": [
            "Error in \"a\" + \"b\" : 二进列运算符中有非数值参数\n",
            "[1] \"numeric\"\n",
            "[1] \"try-error\"\n"
          ]
        }
      ],
      "execution_count": 15,
      "metadata": {}
    },
    {
      "cell_type": "markdown",
      "source": [
        "当需要对一个列表中多个元素使用一个函数时，try()就相当有用。"
      ],
      "metadata": {}
    },
    {
      "cell_type": "code",
      "source": [
        "elements <- list(1:10, c(-1, 10), c(T, F), letters)\n",
        "results <- lapply(elements, function(x) try(log(x)))"
      ],
      "outputs": [
        {
          "output_type": "stream",
          "name": "stderr",
          "text": [
            "Warning message in log(x):\n",
            "\"产生了NaNs\""
          ]
        },
        {
          "output_type": "stream",
          "name": "stdout",
          "text": [
            "Error in log(x) : 数学函数中用了非数值参数\n"
          ]
        }
      ],
      "execution_count": 18,
      "metadata": {}
    },
    {
      "cell_type": "markdown",
      "source": [
        "没有内置函数可以检测try-error类，因此需要我们自己定义一个，然后就可以使用sapply()方便地找到错误的位置，并提取成功信息或者查找导致失败的输入。"
      ],
      "metadata": {}
    },
    {
      "cell_type": "code",
      "source": [
        "is.error <- function(x) inherits(x, \"try-error\")\n",
        "succeeded <- !sapply(results, is.error)\n",
        "\n",
        "str(results[succeeded])\n",
        "# List of 3\n",
        "#  $ : num [1:10] 0 0.693 1.099 1.386 1.609 ...\n",
        "#  $ : num [1:2] NaN 2.3\n",
        "#  $ : num [1:2] 0 -Inf"
      ],
      "outputs": [
        {
          "output_type": "stream",
          "name": "stdout",
          "text": [
            "List of 3\n",
            " $ : num [1:10] 0 0.693 1.099 1.386 1.609 ...\n",
            " $ : num [1:2] NaN 2.3\n",
            " $ : num [1:2] 0 -Inf\n"
          ]
        }
      ],
      "execution_count": 19,
      "metadata": {}
    },
    {
      "cell_type": "markdown",
      "source": [
        "try()的另一种常用方法是在表达式失败时使用默认值。只需要在try代码块的外边进行简单的赋值，然后运行这个风险代码。还可以使用plyr::failwith()，它使这种策略更容易实施。"
      ],
      "metadata": {}
    },
    {
      "cell_type": "code",
      "source": [
        "default <- NULL\n",
        "try(default <- read.csv(\"possibly-bad-input.csv\"), silent = TRUE)\n",
        "print(default)\n",
        "# NULL"
      ],
      "outputs": [
        {
          "output_type": "stream",
          "name": "stderr",
          "text": [
            "Warning message in file(file, \"rt\"):\n",
            "\"无法打开文件'possibly-bad-input.csv': No such file or directory\""
          ]
        },
        {
          "output_type": "stream",
          "name": "stdout",
          "text": [
            "NULL\n"
          ]
        }
      ],
      "execution_count": 22,
      "metadata": {}
    },
    {
      "cell_type": "markdown",
      "source": [
        "#### 使用tryCatch()处理条件\n",
        "\n",
        "使用tryCatch()是处理条件的一个通用工具：除了处理错误外，还可以对警告、消息和中断采取不同的行动。"
      ],
      "metadata": {}
    },
    {
      "cell_type": "code",
      "source": [
        "show_condition <- function(code) {\n",
        "    tryCatch(code, \n",
        "        error = function(c) \"error\",\n",
        "        warning = function(c) \"warning\",\n",
        "        message = function(c) \"message\"\n",
        "    )\n",
        "}\n",
        "\n",
        "print(show_condition(stop(\"!\")))\n",
        "# [1] \"error\"\n",
        "\n",
        "print(show_condition(warning(\"!\")))\n",
        "# [1] \"warning\"\n",
        "\n",
        "print(show_condition(message(\"!\")))\n",
        "# [1] \"message\""
      ],
      "outputs": [
        {
          "output_type": "stream",
          "name": "stdout",
          "text": [
            "[1] \"error\"\n",
            "[1] \"warning\"\n",
            "[1] \"message\"\n"
          ]
        }
      ],
      "execution_count": 26,
      "metadata": {}
    }
  ],
  "metadata": {
    "jupytext": {
      "formats": "ipynb,md"
    },
    "kernelspec": {
      "name": "ir",
      "language": "R",
      "display_name": "R"
    },
    "language_info": {
      "name": "R",
      "codemirror_mode": "r",
      "pygments_lexer": "r",
      "mimetype": "text/x-r-source",
      "file_extension": ".r",
      "version": "3.6.1"
    },
    "kernel_info": {
      "name": "ir"
    },
    "nteract": {
      "version": "0.15.0"
    }
  },
  "nbformat": 4,
  "nbformat_minor": 2
}